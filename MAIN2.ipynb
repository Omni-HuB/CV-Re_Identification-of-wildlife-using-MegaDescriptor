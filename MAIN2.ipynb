{
  "cells": [
    {
      "cell_type": "code",
      "execution_count": 1,
      "metadata": {
        "colab": {
          "base_uri": "https://localhost:8080/"
        },
        "id": "xnpxqIVkxhgy",
        "outputId": "1b5fe21c-721e-4ea9-da22-bb7858e98b21"
      },
      "outputs": [
        {
          "name": "stdout",
          "output_type": "stream",
          "text": [
            "Requirement already satisfied: wildlife-datasets in d:\\anaconda_jupyter2024\\lib\\site-packages (1.0.3)Note: you may need to restart the kernel to use updated packages.\n",
            "\n",
            "Requirement already satisfied: numpy>=1.19.4 in c:\\users\\moham\\appdata\\roaming\\python\\python311\\site-packages (from wildlife-datasets) (1.26.4)\n",
            "Requirement already satisfied: pandas>=1.1.4 in d:\\anaconda_jupyter2024\\lib\\site-packages (from wildlife-datasets) (2.1.4)\n",
            "Requirement already satisfied: tqdm>=4.62.3 in d:\\anaconda_jupyter2024\\lib\\site-packages (from wildlife-datasets) (4.65.0)\n",
            "Requirement already satisfied: opencv-python>=4.5.5.62 in d:\\anaconda_jupyter2024\\lib\\site-packages (from wildlife-datasets) (4.9.0.80)\n",
            "Requirement already satisfied: Pillow>=7.1.2 in c:\\users\\moham\\appdata\\roaming\\python\\python311\\site-packages (from wildlife-datasets) (10.3.0)\n",
            "Requirement already satisfied: scikit-learn>=1.0.1 in c:\\users\\moham\\appdata\\roaming\\python\\python311\\site-packages (from wildlife-datasets) (1.4.1.post1)\n",
            "Requirement already satisfied: matplotlib>=3.5.1 in c:\\users\\moham\\appdata\\roaming\\python\\python311\\site-packages (from wildlife-datasets) (3.8.3)\n",
            "Requirement already satisfied: gdown in d:\\anaconda_jupyter2024\\lib\\site-packages (from wildlife-datasets) (5.1.0)\n",
            "Requirement already satisfied: kaggle in d:\\anaconda_jupyter2024\\lib\\site-packages (from wildlife-datasets) (1.6.12)\n",
            "Requirement already satisfied: contourpy>=1.0.1 in c:\\users\\moham\\appdata\\roaming\\python\\python311\\site-packages (from matplotlib>=3.5.1->wildlife-datasets) (1.2.0)\n",
            "Requirement already satisfied: cycler>=0.10 in c:\\users\\moham\\appdata\\roaming\\python\\python311\\site-packages (from matplotlib>=3.5.1->wildlife-datasets) (0.12.1)\n",
            "Requirement already satisfied: fonttools>=4.22.0 in c:\\users\\moham\\appdata\\roaming\\python\\python311\\site-packages (from matplotlib>=3.5.1->wildlife-datasets) (4.50.0)\n",
            "Requirement already satisfied: kiwisolver>=1.3.1 in c:\\users\\moham\\appdata\\roaming\\python\\python311\\site-packages (from matplotlib>=3.5.1->wildlife-datasets) (1.4.5)\n",
            "Requirement already satisfied: packaging>=20.0 in d:\\anaconda_jupyter2024\\lib\\site-packages (from matplotlib>=3.5.1->wildlife-datasets) (23.1)\n",
            "Requirement already satisfied: pyparsing>=2.3.1 in c:\\users\\moham\\appdata\\roaming\\python\\python311\\site-packages (from matplotlib>=3.5.1->wildlife-datasets) (3.1.2)\n",
            "Requirement already satisfied: python-dateutil>=2.7 in c:\\users\\moham\\appdata\\roaming\\python\\python311\\site-packages (from matplotlib>=3.5.1->wildlife-datasets) (2.9.0.post0)\n",
            "Requirement already satisfied: pytz>=2020.1 in d:\\anaconda_jupyter2024\\lib\\site-packages (from pandas>=1.1.4->wildlife-datasets) (2023.3.post1)\n",
            "Requirement already satisfied: tzdata>=2022.1 in d:\\anaconda_jupyter2024\\lib\\site-packages (from pandas>=1.1.4->wildlife-datasets) (2023.3)\n",
            "Requirement already satisfied: scipy>=1.6.0 in c:\\users\\moham\\appdata\\roaming\\python\\python311\\site-packages (from scikit-learn>=1.0.1->wildlife-datasets) (1.12.0)\n",
            "Requirement already satisfied: joblib>=1.2.0 in c:\\users\\moham\\appdata\\roaming\\python\\python311\\site-packages (from scikit-learn>=1.0.1->wildlife-datasets) (1.3.2)\n",
            "Requirement already satisfied: threadpoolctl>=2.0.0 in c:\\users\\moham\\appdata\\roaming\\python\\python311\\site-packages (from scikit-learn>=1.0.1->wildlife-datasets) (3.4.0)\n",
            "Requirement already satisfied: colorama in d:\\anaconda_jupyter2024\\lib\\site-packages (from tqdm>=4.62.3->wildlife-datasets) (0.4.6)\n",
            "Requirement already satisfied: beautifulsoup4 in d:\\anaconda_jupyter2024\\lib\\site-packages (from gdown->wildlife-datasets) (4.12.2)\n",
            "Requirement already satisfied: filelock in c:\\users\\moham\\appdata\\roaming\\python\\python311\\site-packages (from gdown->wildlife-datasets) (3.13.3)\n",
            "Requirement already satisfied: requests[socks] in d:\\anaconda_jupyter2024\\lib\\site-packages (from gdown->wildlife-datasets) (2.31.0)\n",
            "Requirement already satisfied: six>=1.10 in c:\\users\\moham\\appdata\\roaming\\python\\python311\\site-packages (from kaggle->wildlife-datasets) (1.16.0)\n",
            "Requirement already satisfied: certifi>=2023.7.22 in d:\\anaconda_jupyter2024\\lib\\site-packages (from kaggle->wildlife-datasets) (2024.2.2)\n",
            "Requirement already satisfied: python-slugify in d:\\anaconda_jupyter2024\\lib\\site-packages (from kaggle->wildlife-datasets) (5.0.2)\n",
            "Requirement already satisfied: urllib3 in d:\\anaconda_jupyter2024\\lib\\site-packages (from kaggle->wildlife-datasets) (2.0.7)\n",
            "Requirement already satisfied: bleach in d:\\anaconda_jupyter2024\\lib\\site-packages (from kaggle->wildlife-datasets) (4.1.0)\n",
            "Requirement already satisfied: soupsieve>1.2 in d:\\anaconda_jupyter2024\\lib\\site-packages (from beautifulsoup4->gdown->wildlife-datasets) (2.5)\n",
            "Requirement already satisfied: webencodings in d:\\anaconda_jupyter2024\\lib\\site-packages (from bleach->kaggle->wildlife-datasets) (0.5.1)\n",
            "Requirement already satisfied: text-unidecode>=1.3 in d:\\anaconda_jupyter2024\\lib\\site-packages (from python-slugify->kaggle->wildlife-datasets) (1.3)\n",
            "Requirement already satisfied: charset-normalizer<4,>=2 in d:\\anaconda_jupyter2024\\lib\\site-packages (from requests[socks]->gdown->wildlife-datasets) (2.0.4)\n",
            "Requirement already satisfied: idna<4,>=2.5 in d:\\anaconda_jupyter2024\\lib\\site-packages (from requests[socks]->gdown->wildlife-datasets) (3.4)\n",
            "Requirement already satisfied: PySocks!=1.5.7,>=1.5.6 in d:\\anaconda_jupyter2024\\lib\\site-packages (from requests[socks]->gdown->wildlife-datasets) (1.7.1)\n"
          ]
        }
      ],
      "source": [
        "pip install wildlife-datasets\n"
      ]
    },
    {
      "cell_type": "code",
      "execution_count": 2,
      "metadata": {
        "colab": {
          "base_uri": "https://localhost:8080/"
        },
        "id": "ymOorYH2XpQB",
        "outputId": "bae5106d-50ac-4bf8-a433-7bbe7af725a6"
      },
      "outputs": [
        {
          "name": "stdout",
          "output_type": "stream",
          "text": [
            "Requirement already satisfied: wildlife-tools in d:\\anaconda_jupyter2024\\lib\\site-packages (0.0.9)\n",
            "Requirement already satisfied: torch>=2.0.1 in d:\\anaconda_jupyter2024\\lib\\site-packages (from wildlife-tools) (2.2.2+cu121)\n",
            "Requirement already satisfied: timm>=0.9.2 in d:\\anaconda_jupyter2024\\lib\\site-packages (from wildlife-tools) (0.9.16)\n",
            "Requirement already satisfied: numpy>=1.19.4 in c:\\users\\moham\\appdata\\roaming\\python\\python311\\site-packages (from wildlife-tools) (1.26.4)\n",
            "Requirement already satisfied: pandas>=1.1.4 in d:\\anaconda_jupyter2024\\lib\\site-packages (from wildlife-tools) (2.1.4)\n",
            "Requirement already satisfied: tqdm>=4.62.3 in d:\\anaconda_jupyter2024\\lib\\site-packages (from wildlife-tools) (4.65.0)\n",
            "Requirement already satisfied: opencv-python>=4.5.5.62 in d:\\anaconda_jupyter2024\\lib\\site-packages (from wildlife-tools) (4.9.0.80)\n",
            "Requirement already satisfied: Pillow>=7.1.2 in c:\\users\\moham\\appdata\\roaming\\python\\python311\\site-packages (from wildlife-tools) (10.3.0)\n",
            "Requirement already satisfied: scikit-learn>=1.0.1 in c:\\users\\moham\\appdata\\roaming\\python\\python311\\site-packages (from wildlife-tools) (1.4.1.post1)\n",
            "Requirement already satisfied: pycocotools in d:\\anaconda_jupyter2024\\lib\\site-packages (from wildlife-tools) (2.0.7)\n",
            "Requirement already satisfied: tensorboard in c:\\users\\moham\\appdata\\roaming\\python\\python311\\site-packages (from wildlife-tools) (2.16.2)\n",
            "Requirement already satisfied: pytorch-metric-learning in d:\\anaconda_jupyter2024\\lib\\site-packages (from wildlife-tools) (2.5.0)\n",
            "Requirement already satisfied: transformers>=4.30.2 in d:\\anaconda_jupyter2024\\lib\\site-packages (from wildlife-tools) (4.40.2)\n",
            "Requirement already satisfied: wildlife-datasets>=0.3.4 in d:\\anaconda_jupyter2024\\lib\\site-packages (from wildlife-tools) (1.0.3)\n",
            "Requirement already satisfied: kornia>=0.6.12 in d:\\anaconda_jupyter2024\\lib\\site-packages (from wildlife-tools) (0.7.2)\n",
            "Requirement already satisfied: faiss-cpu in d:\\anaconda_jupyter2024\\lib\\site-packages (from wildlife-tools) (1.8.0)\n",
            "Requirement already satisfied: kornia-rs>=0.1.0 in d:\\anaconda_jupyter2024\\lib\\site-packages (from kornia>=0.6.12->wildlife-tools) (0.1.3)\n",
            "Requirement already satisfied: packaging in d:\\anaconda_jupyter2024\\lib\\site-packages (from kornia>=0.6.12->wildlife-tools) (23.1)\n",
            "Requirement already satisfied: python-dateutil>=2.8.2 in c:\\users\\moham\\appdata\\roaming\\python\\python311\\site-packages (from pandas>=1.1.4->wildlife-tools) (2.9.0.post0)\n",
            "Requirement already satisfied: pytz>=2020.1 in d:\\anaconda_jupyter2024\\lib\\site-packages (from pandas>=1.1.4->wildlife-tools) (2023.3.post1)\n",
            "Requirement already satisfied: tzdata>=2022.1 in d:\\anaconda_jupyter2024\\lib\\site-packages (from pandas>=1.1.4->wildlife-tools) (2023.3)\n",
            "Requirement already satisfied: scipy>=1.6.0 in c:\\users\\moham\\appdata\\roaming\\python\\python311\\site-packages (from scikit-learn>=1.0.1->wildlife-tools) (1.12.0)\n",
            "Requirement already satisfied: joblib>=1.2.0 in c:\\users\\moham\\appdata\\roaming\\python\\python311\\site-packages (from scikit-learn>=1.0.1->wildlife-tools) (1.3.2)\n",
            "Requirement already satisfied: threadpoolctl>=2.0.0 in c:\\users\\moham\\appdata\\roaming\\python\\python311\\site-packages (from scikit-learn>=1.0.1->wildlife-tools) (3.4.0)\n",
            "Requirement already satisfied: torchvision in c:\\users\\moham\\appdata\\roaming\\python\\python311\\site-packages (from timm>=0.9.2->wildlife-tools) (0.17.2)\n",
            "Requirement already satisfied: pyyaml in d:\\anaconda_jupyter2024\\lib\\site-packages (from timm>=0.9.2->wildlife-tools) (6.0.1)\n",
            "Requirement already satisfied: huggingface_hub in d:\\anaconda_jupyter2024\\lib\\site-packages (from timm>=0.9.2->wildlife-tools) (0.23.0)\n",
            "Requirement already satisfied: safetensors in d:\\anaconda_jupyter2024\\lib\\site-packages (from timm>=0.9.2->wildlife-tools) (0.4.3)\n",
            "Requirement already satisfied: filelock in c:\\users\\moham\\appdata\\roaming\\python\\python311\\site-packages (from torch>=2.0.1->wildlife-tools) (3.13.3)\n",
            "Requirement already satisfied: typing-extensions>=4.8.0 in c:\\users\\moham\\appdata\\roaming\\python\\python311\\site-packages (from torch>=2.0.1->wildlife-tools) (4.10.0)\n",
            "Requirement already satisfied: sympy in c:\\users\\moham\\appdata\\roaming\\python\\python311\\site-packages (from torch>=2.0.1->wildlife-tools) (1.12)\n",
            "Requirement already satisfied: networkx in c:\\users\\moham\\appdata\\roaming\\python\\python311\\site-packages (from torch>=2.0.1->wildlife-tools) (3.2.1)\n",
            "Requirement already satisfied: jinja2 in c:\\users\\moham\\appdata\\roaming\\python\\python311\\site-packages (from torch>=2.0.1->wildlife-tools) (3.1.3)\n",
            "Requirement already satisfied: fsspec in c:\\users\\moham\\appdata\\roaming\\python\\python311\\site-packages (from torch>=2.0.1->wildlife-tools) (2024.3.1)\n",
            "Requirement already satisfied: colorama in d:\\anaconda_jupyter2024\\lib\\site-packages (from tqdm>=4.62.3->wildlife-tools) (0.4.6)\n",
            "Requirement already satisfied: regex!=2019.12.17 in d:\\anaconda_jupyter2024\\lib\\site-packages (from transformers>=4.30.2->wildlife-tools) (2023.10.3)\n",
            "Requirement already satisfied: requests in d:\\anaconda_jupyter2024\\lib\\site-packages (from transformers>=4.30.2->wildlife-tools) (2.31.0)\n",
            "Requirement already satisfied: tokenizers<0.20,>=0.19 in d:\\anaconda_jupyter2024\\lib\\site-packages (from transformers>=4.30.2->wildlife-tools) (0.19.1)\n",
            "Requirement already satisfied: matplotlib>=3.5.1 in c:\\users\\moham\\appdata\\roaming\\python\\python311\\site-packages (from wildlife-datasets>=0.3.4->wildlife-tools) (3.8.3)\n",
            "Requirement already satisfied: gdown in d:\\anaconda_jupyter2024\\lib\\site-packages (from wildlife-datasets>=0.3.4->wildlife-tools) (5.1.0)\n",
            "Requirement already satisfied: kaggle in d:\\anaconda_jupyter2024\\lib\\site-packages (from wildlife-datasets>=0.3.4->wildlife-tools) (1.6.12)\n",
            "Requirement already satisfied: absl-py>=0.4 in c:\\users\\moham\\appdata\\roaming\\python\\python311\\site-packages (from tensorboard->wildlife-tools) (2.1.0)\n",
            "Requirement already satisfied: grpcio>=1.48.2 in c:\\users\\moham\\appdata\\roaming\\python\\python311\\site-packages (from tensorboard->wildlife-tools) (1.62.1)\n",
            "Requirement already satisfied: markdown>=2.6.8 in c:\\users\\moham\\appdata\\roaming\\python\\python311\\site-packages (from tensorboard->wildlife-tools) (3.6)\n",
            "Requirement already satisfied: protobuf!=4.24.0,>=3.19.6 in c:\\users\\moham\\appdata\\roaming\\python\\python311\\site-packages (from tensorboard->wildlife-tools) (4.25.3)\n",
            "Requirement already satisfied: setuptools>=41.0.0 in d:\\anaconda_jupyter2024\\lib\\site-packages (from tensorboard->wildlife-tools) (68.2.2)\n",
            "Requirement already satisfied: six>1.9 in c:\\users\\moham\\appdata\\roaming\\python\\python311\\site-packages (from tensorboard->wildlife-tools) (1.16.0)\n",
            "Requirement already satisfied: tensorboard-data-server<0.8.0,>=0.7.0 in c:\\users\\moham\\appdata\\roaming\\python\\python311\\site-packages (from tensorboard->wildlife-tools) (0.7.2)\n",
            "Requirement already satisfied: werkzeug>=1.0.1 in c:\\users\\moham\\appdata\\roaming\\python\\python311\\site-packages (from tensorboard->wildlife-tools) (3.0.2)\n",
            "Requirement already satisfied: contourpy>=1.0.1 in c:\\users\\moham\\appdata\\roaming\\python\\python311\\site-packages (from matplotlib>=3.5.1->wildlife-datasets>=0.3.4->wildlife-tools) (1.2.0)\n",
            "Requirement already satisfied: cycler>=0.10 in c:\\users\\moham\\appdata\\roaming\\python\\python311\\site-packages (from matplotlib>=3.5.1->wildlife-datasets>=0.3.4->wildlife-tools) (0.12.1)\n",
            "Requirement already satisfied: fonttools>=4.22.0 in c:\\users\\moham\\appdata\\roaming\\python\\python311\\site-packages (from matplotlib>=3.5.1->wildlife-datasets>=0.3.4->wildlife-tools) (4.50.0)\n",
            "Requirement already satisfied: kiwisolver>=1.3.1 in c:\\users\\moham\\appdata\\roaming\\python\\python311\\site-packages (from matplotlib>=3.5.1->wildlife-datasets>=0.3.4->wildlife-tools) (1.4.5)\n",
            "Requirement already satisfied: pyparsing>=2.3.1 in c:\\users\\moham\\appdata\\roaming\\python\\python311\\site-packages (from matplotlib>=3.5.1->wildlife-datasets>=0.3.4->wildlife-tools) (3.1.2)\n",
            "Requirement already satisfied: MarkupSafe>=2.1.1 in c:\\users\\moham\\appdata\\roaming\\python\\python311\\site-packages (from werkzeug>=1.0.1->tensorboard->wildlife-tools) (2.1.5)\n",
            "Requirement already satisfied: beautifulsoup4 in d:\\anaconda_jupyter2024\\lib\\site-packages (from gdown->wildlife-datasets>=0.3.4->wildlife-tools) (4.12.2)\n",
            "Requirement already satisfied: certifi>=2023.7.22 in d:\\anaconda_jupyter2024\\lib\\site-packages (from kaggle->wildlife-datasets>=0.3.4->wildlife-tools) (2024.2.2)\n",
            "Requirement already satisfied: python-slugify in d:\\anaconda_jupyter2024\\lib\\site-packages (from kaggle->wildlife-datasets>=0.3.4->wildlife-tools) (5.0.2)\n",
            "Requirement already satisfied: urllib3 in d:\\anaconda_jupyter2024\\lib\\site-packages (from kaggle->wildlife-datasets>=0.3.4->wildlife-tools) (2.0.7)\n",
            "Requirement already satisfied: bleach in d:\\anaconda_jupyter2024\\lib\\site-packages (from kaggle->wildlife-datasets>=0.3.4->wildlife-tools) (4.1.0)\n",
            "Requirement already satisfied: charset-normalizer<4,>=2 in d:\\anaconda_jupyter2024\\lib\\site-packages (from requests->transformers>=4.30.2->wildlife-tools) (2.0.4)\n",
            "Requirement already satisfied: idna<4,>=2.5 in d:\\anaconda_jupyter2024\\lib\\site-packages (from requests->transformers>=4.30.2->wildlife-tools) (3.4)\n",
            "Requirement already satisfied: mpmath>=0.19 in c:\\users\\moham\\appdata\\roaming\\python\\python311\\site-packages (from sympy->torch>=2.0.1->wildlife-tools) (1.3.0)\n",
            "Requirement already satisfied: soupsieve>1.2 in d:\\anaconda_jupyter2024\\lib\\site-packages (from beautifulsoup4->gdown->wildlife-datasets>=0.3.4->wildlife-tools) (2.5)\n",
            "Requirement already satisfied: webencodings in d:\\anaconda_jupyter2024\\lib\\site-packages (from bleach->kaggle->wildlife-datasets>=0.3.4->wildlife-tools) (0.5.1)\n",
            "Requirement already satisfied: text-unidecode>=1.3 in d:\\anaconda_jupyter2024\\lib\\site-packages (from python-slugify->kaggle->wildlife-datasets>=0.3.4->wildlife-tools) (1.3)\n",
            "Requirement already satisfied: PySocks!=1.5.7,>=1.5.6 in d:\\anaconda_jupyter2024\\lib\\site-packages (from requests[socks]->gdown->wildlife-datasets>=0.3.4->wildlife-tools) (1.7.1)\n",
            "Note: you may need to restart the kernel to use updated packages.\n"
          ]
        }
      ],
      "source": [
        "pip install wildlife-tools"
      ]
    },
    {
      "cell_type": "code",
      "execution_count": 3,
      "metadata": {
        "colab": {
          "base_uri": "https://localhost:8080/"
        },
        "id": "OfItgSzpR435",
        "outputId": "3502800b-580b-49f8-b630-ddab30c9e43a"
      },
      "outputs": [
        {
          "name": "stdout",
          "output_type": "stream",
          "text": [
            "Requirement already satisfied: timm in d:\\anaconda_jupyter2024\\lib\\site-packages (0.9.16)\n",
            "Requirement already satisfied: torch in d:\\anaconda_jupyter2024\\lib\\site-packages (from timm) (2.2.2+cu121)\n",
            "Requirement already satisfied: torchvision in c:\\users\\moham\\appdata\\roaming\\python\\python311\\site-packages (from timm) (0.17.2)\n",
            "Requirement already satisfied: pyyaml in d:\\anaconda_jupyter2024\\lib\\site-packages (from timm) (6.0.1)\n",
            "Requirement already satisfied: huggingface_hub in d:\\anaconda_jupyter2024\\lib\\site-packages (from timm) (0.23.0)\n",
            "Requirement already satisfied: safetensors in d:\\anaconda_jupyter2024\\lib\\site-packages (from timm) (0.4.3)\n",
            "Requirement already satisfied: filelock in c:\\users\\moham\\appdata\\roaming\\python\\python311\\site-packages (from huggingface_hub->timm) (3.13.3)\n",
            "Requirement already satisfied: fsspec>=2023.5.0 in c:\\users\\moham\\appdata\\roaming\\python\\python311\\site-packages (from huggingface_hub->timm) (2024.3.1)\n",
            "Requirement already satisfied: packaging>=20.9 in d:\\anaconda_jupyter2024\\lib\\site-packages (from huggingface_hub->timm) (23.1)\n",
            "Requirement already satisfied: requests in d:\\anaconda_jupyter2024\\lib\\site-packages (from huggingface_hub->timm) (2.31.0)\n",
            "Requirement already satisfied: tqdm>=4.42.1 in d:\\anaconda_jupyter2024\\lib\\site-packages (from huggingface_hub->timm) (4.65.0)\n",
            "Requirement already satisfied: typing-extensions>=3.7.4.3 in c:\\users\\moham\\appdata\\roaming\\python\\python311\\site-packages (from huggingface_hub->timm) (4.10.0)\n",
            "Requirement already satisfied: sympy in c:\\users\\moham\\appdata\\roaming\\python\\python311\\site-packages (from torch->timm) (1.12)\n",
            "Requirement already satisfied: networkx in c:\\users\\moham\\appdata\\roaming\\python\\python311\\site-packages (from torch->timm) (3.2.1)\n",
            "Requirement already satisfied: jinja2 in c:\\users\\moham\\appdata\\roaming\\python\\python311\\site-packages (from torch->timm) (3.1.3)\n",
            "Requirement already satisfied: numpy in c:\\users\\moham\\appdata\\roaming\\python\\python311\\site-packages (from torchvision->timm) (1.26.4)\n",
            "Requirement already satisfied: pillow!=8.3.*,>=5.3.0 in c:\\users\\moham\\appdata\\roaming\\python\\python311\\site-packages (from torchvision->timm) (10.3.0)\n",
            "Requirement already satisfied: colorama in d:\\anaconda_jupyter2024\\lib\\site-packages (from tqdm>=4.42.1->huggingface_hub->timm) (0.4.6)\n",
            "Requirement already satisfied: MarkupSafe>=2.0 in c:\\users\\moham\\appdata\\roaming\\python\\python311\\site-packages (from jinja2->torch->timm) (2.1.5)\n",
            "Requirement already satisfied: charset-normalizer<4,>=2 in d:\\anaconda_jupyter2024\\lib\\site-packages (from requests->huggingface_hub->timm) (2.0.4)\n",
            "Requirement already satisfied: idna<4,>=2.5 in d:\\anaconda_jupyter2024\\lib\\site-packages (from requests->huggingface_hub->timm) (3.4)\n",
            "Requirement already satisfied: urllib3<3,>=1.21.1 in d:\\anaconda_jupyter2024\\lib\\site-packages (from requests->huggingface_hub->timm) (2.0.7)\n",
            "Requirement already satisfied: certifi>=2017.4.17 in d:\\anaconda_jupyter2024\\lib\\site-packages (from requests->huggingface_hub->timm) (2024.2.2)\n",
            "Requirement already satisfied: mpmath>=0.19 in c:\\users\\moham\\appdata\\roaming\\python\\python311\\site-packages (from sympy->torch->timm) (1.3.0)\n",
            "Note: you may need to restart the kernel to use updated packages.\n"
          ]
        }
      ],
      "source": [
        "pip install timm"
      ]
    },
    {
      "cell_type": "markdown",
      "metadata": {
        "id": "gPGd4yapYVsT"
      },
      "source": [
        "**Importing Wildlife data set and Wildlife tools**\n",
        "\n"
      ]
    },
    {
      "cell_type": "code",
      "execution_count": 4,
      "metadata": {
        "id": "8XfftqyQWm58"
      },
      "outputs": [],
      "source": [
        "import timm\n",
        "import numpy as np\n",
        "from wildlife_datasets.datasets import MacaqueFaces\n",
        "from wildlife_tools.data import WildlifeDataset\n",
        "import torchvision.transforms as T\n",
        "from wildlife_datasets import datasets, splits\n",
        "from wildlife_tools.features import DeepFeatures\n",
        "from wildlife_tools.similarity import CosineSimilarity\n",
        "from wildlife_tools.inference import KnnClassifier"
      ]
    },
    {
      "cell_type": "markdown",
      "metadata": {
        "id": "mM_PNdZtZycu"
      },
      "source": [
        "**MacaqueFaces Dataset**"
      ]
    },
    {
      "cell_type": "code",
      "execution_count": 5,
      "metadata": {
        "colab": {
          "base_uri": "https://localhost:8080/"
        },
        "id": "P7TwSvfxYmWg",
        "outputId": "c12ce068-371b-4594-83ff-d1ea2736870d"
      },
      "outputs": [
        {
          "name": "stdout",
          "output_type": "stream",
          "text": [
            "DATASET MacaqueFaces: DOWNLOADING STARTED.\n"
          ]
        },
        {
          "name": "stderr",
          "output_type": "stream",
          "text": [
            "MacaqueFaces.zip: 12.0MB [00:03, 3.22MB/s]                            \n",
            "MacaqueFaces_ImageInfo.csv: 410kB [00:01, 286kB/s]                             \n"
          ]
        },
        {
          "name": "stdout",
          "output_type": "stream",
          "text": [
            "DATASET MacaqueFaces: EXTRACTING STARTED.\n",
            "DATASET MacaqueFaces: FINISHED.\n",
            "\n"
          ]
        }
      ],
      "source": [
        "# Download dataset (if not already downloaded)\n",
        "datasets.MacaqueFaces.get_data('../data/MacaqueFaces')\n",
        "\n",
        "# Load dataset metadata\n",
        "metadata = datasets.MacaqueFaces('../data/MacaqueFaces')\n",
        "transform = T.Compose([T.Resize([224, 224]), T.ToTensor(), T.Normalize(mean=(0.485, 0.456, 0.406), std=(0.229, 0.224, 0.225))])\n",
        "dataset = WildlifeDataset(metadata.df, metadata.root, transform=transform)"
      ]
    },
    {
      "cell_type": "code",
      "execution_count": 6,
      "metadata": {
        "id": "RGS3aZZKx7gt"
      },
      "outputs": [],
      "source": [
        "dataset_database = WildlifeDataset(metadata.df.iloc[100:,:], metadata.root, transform=transform)\n",
        "dataset_query = WildlifeDataset(metadata.df.iloc[:100,:], metadata.root, transform=transform)"
      ]
    },
    {
      "cell_type": "markdown",
      "metadata": {
        "id": "0DwHb3asXy0c"
      },
      "source": [
        "**Importing the pretrain Model**"
      ]
    },
    {
      "cell_type": "code",
      "execution_count": 7,
      "metadata": {
        "colab": {
          "base_uri": "https://localhost:8080/",
          "height": 275,
          "referenced_widgets": [
            "f7481adc10dc4478be8b52c281173771",
            "d58b7582fef44699a0f68e4544232542",
            "b15287d5d9dd4028bdbb17af6fc62f85",
            "10f2424d26da4a0c914c1e6157644fd0",
            "ad32247671c54c20a3d1a4f6872aa84b",
            "fed949eb50d54e7d8d0fc3f0db4ef28d",
            "1f9938fde2a14dcc8ad851750077b044",
            "e234fc53bda7404486ea049427a21ac7",
            "8c9204db4ae24af7a9cbb701c3c1a7fc",
            "81b4c9d3c29a403a952fca27a1c2c17f",
            "38dfec8ed20549f394d0e2dfe32cc679",
            "bed2b6c8f3b34b6ba2e9f735382f2c37",
            "fb5557e6c4b84924937ebeb8fe0ea03d",
            "7f84a3535e57440581ecc33e5011800b",
            "15d291dd2c834adb896ef0bad8089f91",
            "553f84ddb8c046e79f0d25af3ea7ce00",
            "a00d59e1294a4d19bbbc1591a784e7bb",
            "d459febb28eb4177805af9b8a730c3ba",
            "a5dbdef4bced4945886ba625b3fce054",
            "05583b700b38467d9a0d5e5b3f23acd7",
            "5f73e03d78b4410590dbaa4ae1061163",
            "361c317e4fed40f3aebff423e137c687"
          ]
        },
        "id": "u1t_Q09FW6Xg",
        "outputId": "b78c9aae-1d46-45e3-869b-1de73422a7d5"
      },
      "outputs": [
        {
          "name": "stderr",
          "output_type": "stream",
          "text": [
            "100%|█████████████████████████████████████████████████████████████████| 1/1 [00:42<00:00, 42.07s/it]\n",
            "  2%|█▎                                                              | 1/49 [00:59<47:28, 59.34s/it]\n"
          ]
        },
        {
          "ename": "KeyboardInterrupt",
          "evalue": "",
          "output_type": "error",
          "traceback": [
            "\u001b[1;31m---------------------------------------------------------------------------\u001b[0m",
            "\u001b[1;31mKeyboardInterrupt\u001b[0m                         Traceback (most recent call last)",
            "Cell \u001b[1;32mIn[7], line 3\u001b[0m\n\u001b[0;32m      1\u001b[0m name \u001b[38;5;241m=\u001b[39m \u001b[38;5;124m'\u001b[39m\u001b[38;5;124mhf-hub:BVRA/MegaDescriptor-T-224\u001b[39m\u001b[38;5;124m'\u001b[39m\n\u001b[0;32m      2\u001b[0m extractor \u001b[38;5;241m=\u001b[39m DeepFeatures(timm\u001b[38;5;241m.\u001b[39mcreate_model(name, num_classes\u001b[38;5;241m=\u001b[39m\u001b[38;5;241m0\u001b[39m, pretrained\u001b[38;5;241m=\u001b[39m\u001b[38;5;28;01mTrue\u001b[39;00m))\n\u001b[1;32m----> 3\u001b[0m query, database \u001b[38;5;241m=\u001b[39m extractor(dataset_query), extractor(dataset_database)\n",
            "File \u001b[1;32md:\\ANACONDA_Jupyter2024\\Lib\\site-packages\\wildlife_tools\\features\\deep.py:50\u001b[0m, in \u001b[0;36mDeepFeatures.__call__\u001b[1;34m(self, dataset)\u001b[0m\n\u001b[0;32m     48\u001b[0m \u001b[38;5;28;01mfor\u001b[39;00m image, label \u001b[38;5;129;01min\u001b[39;00m tqdm(loader, mininterval\u001b[38;5;241m=\u001b[39m\u001b[38;5;241m1\u001b[39m, ncols\u001b[38;5;241m=\u001b[39m\u001b[38;5;241m100\u001b[39m):\n\u001b[0;32m     49\u001b[0m     \u001b[38;5;28;01mwith\u001b[39;00m torch\u001b[38;5;241m.\u001b[39mno_grad():\n\u001b[1;32m---> 50\u001b[0m         output \u001b[38;5;241m=\u001b[39m \u001b[38;5;28mself\u001b[39m\u001b[38;5;241m.\u001b[39mmodel(image\u001b[38;5;241m.\u001b[39mto(\u001b[38;5;28mself\u001b[39m\u001b[38;5;241m.\u001b[39mdevice))\n\u001b[0;32m     51\u001b[0m         outputs\u001b[38;5;241m.\u001b[39mappend(output\u001b[38;5;241m.\u001b[39mcpu())\n\u001b[0;32m     52\u001b[0m \u001b[38;5;28;01mreturn\u001b[39;00m torch\u001b[38;5;241m.\u001b[39mcat(outputs)\u001b[38;5;241m.\u001b[39mnumpy()\n",
            "File \u001b[1;32md:\\ANACONDA_Jupyter2024\\Lib\\site-packages\\torch\\nn\\modules\\module.py:1511\u001b[0m, in \u001b[0;36mModule._wrapped_call_impl\u001b[1;34m(self, *args, **kwargs)\u001b[0m\n\u001b[0;32m   1509\u001b[0m     \u001b[38;5;28;01mreturn\u001b[39;00m \u001b[38;5;28mself\u001b[39m\u001b[38;5;241m.\u001b[39m_compiled_call_impl(\u001b[38;5;241m*\u001b[39margs, \u001b[38;5;241m*\u001b[39m\u001b[38;5;241m*\u001b[39mkwargs)  \u001b[38;5;66;03m# type: ignore[misc]\u001b[39;00m\n\u001b[0;32m   1510\u001b[0m \u001b[38;5;28;01melse\u001b[39;00m:\n\u001b[1;32m-> 1511\u001b[0m     \u001b[38;5;28;01mreturn\u001b[39;00m \u001b[38;5;28mself\u001b[39m\u001b[38;5;241m.\u001b[39m_call_impl(\u001b[38;5;241m*\u001b[39margs, \u001b[38;5;241m*\u001b[39m\u001b[38;5;241m*\u001b[39mkwargs)\n",
            "File \u001b[1;32md:\\ANACONDA_Jupyter2024\\Lib\\site-packages\\torch\\nn\\modules\\module.py:1520\u001b[0m, in \u001b[0;36mModule._call_impl\u001b[1;34m(self, *args, **kwargs)\u001b[0m\n\u001b[0;32m   1515\u001b[0m \u001b[38;5;66;03m# If we don't have any hooks, we want to skip the rest of the logic in\u001b[39;00m\n\u001b[0;32m   1516\u001b[0m \u001b[38;5;66;03m# this function, and just call forward.\u001b[39;00m\n\u001b[0;32m   1517\u001b[0m \u001b[38;5;28;01mif\u001b[39;00m \u001b[38;5;129;01mnot\u001b[39;00m (\u001b[38;5;28mself\u001b[39m\u001b[38;5;241m.\u001b[39m_backward_hooks \u001b[38;5;129;01mor\u001b[39;00m \u001b[38;5;28mself\u001b[39m\u001b[38;5;241m.\u001b[39m_backward_pre_hooks \u001b[38;5;129;01mor\u001b[39;00m \u001b[38;5;28mself\u001b[39m\u001b[38;5;241m.\u001b[39m_forward_hooks \u001b[38;5;129;01mor\u001b[39;00m \u001b[38;5;28mself\u001b[39m\u001b[38;5;241m.\u001b[39m_forward_pre_hooks\n\u001b[0;32m   1518\u001b[0m         \u001b[38;5;129;01mor\u001b[39;00m _global_backward_pre_hooks \u001b[38;5;129;01mor\u001b[39;00m _global_backward_hooks\n\u001b[0;32m   1519\u001b[0m         \u001b[38;5;129;01mor\u001b[39;00m _global_forward_hooks \u001b[38;5;129;01mor\u001b[39;00m _global_forward_pre_hooks):\n\u001b[1;32m-> 1520\u001b[0m     \u001b[38;5;28;01mreturn\u001b[39;00m forward_call(\u001b[38;5;241m*\u001b[39margs, \u001b[38;5;241m*\u001b[39m\u001b[38;5;241m*\u001b[39mkwargs)\n\u001b[0;32m   1522\u001b[0m \u001b[38;5;28;01mtry\u001b[39;00m:\n\u001b[0;32m   1523\u001b[0m     result \u001b[38;5;241m=\u001b[39m \u001b[38;5;28;01mNone\u001b[39;00m\n",
            "File \u001b[1;32md:\\ANACONDA_Jupyter2024\\Lib\\site-packages\\timm\\models\\swin_transformer.py:620\u001b[0m, in \u001b[0;36mSwinTransformer.forward\u001b[1;34m(self, x)\u001b[0m\n\u001b[0;32m    619\u001b[0m \u001b[38;5;28;01mdef\u001b[39;00m \u001b[38;5;21mforward\u001b[39m(\u001b[38;5;28mself\u001b[39m, x):\n\u001b[1;32m--> 620\u001b[0m     x \u001b[38;5;241m=\u001b[39m \u001b[38;5;28mself\u001b[39m\u001b[38;5;241m.\u001b[39mforward_features(x)\n\u001b[0;32m    621\u001b[0m     x \u001b[38;5;241m=\u001b[39m \u001b[38;5;28mself\u001b[39m\u001b[38;5;241m.\u001b[39mforward_head(x)\n\u001b[0;32m    622\u001b[0m     \u001b[38;5;28;01mreturn\u001b[39;00m x\n",
            "File \u001b[1;32md:\\ANACONDA_Jupyter2024\\Lib\\site-packages\\timm\\models\\swin_transformer.py:612\u001b[0m, in \u001b[0;36mSwinTransformer.forward_features\u001b[1;34m(self, x)\u001b[0m\n\u001b[0;32m    610\u001b[0m \u001b[38;5;28;01mdef\u001b[39;00m \u001b[38;5;21mforward_features\u001b[39m(\u001b[38;5;28mself\u001b[39m, x):\n\u001b[0;32m    611\u001b[0m     x \u001b[38;5;241m=\u001b[39m \u001b[38;5;28mself\u001b[39m\u001b[38;5;241m.\u001b[39mpatch_embed(x)\n\u001b[1;32m--> 612\u001b[0m     x \u001b[38;5;241m=\u001b[39m \u001b[38;5;28mself\u001b[39m\u001b[38;5;241m.\u001b[39mlayers(x)\n\u001b[0;32m    613\u001b[0m     x \u001b[38;5;241m=\u001b[39m \u001b[38;5;28mself\u001b[39m\u001b[38;5;241m.\u001b[39mnorm(x)\n\u001b[0;32m    614\u001b[0m     \u001b[38;5;28;01mreturn\u001b[39;00m x\n",
            "File \u001b[1;32md:\\ANACONDA_Jupyter2024\\Lib\\site-packages\\torch\\nn\\modules\\module.py:1511\u001b[0m, in \u001b[0;36mModule._wrapped_call_impl\u001b[1;34m(self, *args, **kwargs)\u001b[0m\n\u001b[0;32m   1509\u001b[0m     \u001b[38;5;28;01mreturn\u001b[39;00m \u001b[38;5;28mself\u001b[39m\u001b[38;5;241m.\u001b[39m_compiled_call_impl(\u001b[38;5;241m*\u001b[39margs, \u001b[38;5;241m*\u001b[39m\u001b[38;5;241m*\u001b[39mkwargs)  \u001b[38;5;66;03m# type: ignore[misc]\u001b[39;00m\n\u001b[0;32m   1510\u001b[0m \u001b[38;5;28;01melse\u001b[39;00m:\n\u001b[1;32m-> 1511\u001b[0m     \u001b[38;5;28;01mreturn\u001b[39;00m \u001b[38;5;28mself\u001b[39m\u001b[38;5;241m.\u001b[39m_call_impl(\u001b[38;5;241m*\u001b[39margs, \u001b[38;5;241m*\u001b[39m\u001b[38;5;241m*\u001b[39mkwargs)\n",
            "File \u001b[1;32md:\\ANACONDA_Jupyter2024\\Lib\\site-packages\\torch\\nn\\modules\\module.py:1520\u001b[0m, in \u001b[0;36mModule._call_impl\u001b[1;34m(self, *args, **kwargs)\u001b[0m\n\u001b[0;32m   1515\u001b[0m \u001b[38;5;66;03m# If we don't have any hooks, we want to skip the rest of the logic in\u001b[39;00m\n\u001b[0;32m   1516\u001b[0m \u001b[38;5;66;03m# this function, and just call forward.\u001b[39;00m\n\u001b[0;32m   1517\u001b[0m \u001b[38;5;28;01mif\u001b[39;00m \u001b[38;5;129;01mnot\u001b[39;00m (\u001b[38;5;28mself\u001b[39m\u001b[38;5;241m.\u001b[39m_backward_hooks \u001b[38;5;129;01mor\u001b[39;00m \u001b[38;5;28mself\u001b[39m\u001b[38;5;241m.\u001b[39m_backward_pre_hooks \u001b[38;5;129;01mor\u001b[39;00m \u001b[38;5;28mself\u001b[39m\u001b[38;5;241m.\u001b[39m_forward_hooks \u001b[38;5;129;01mor\u001b[39;00m \u001b[38;5;28mself\u001b[39m\u001b[38;5;241m.\u001b[39m_forward_pre_hooks\n\u001b[0;32m   1518\u001b[0m         \u001b[38;5;129;01mor\u001b[39;00m _global_backward_pre_hooks \u001b[38;5;129;01mor\u001b[39;00m _global_backward_hooks\n\u001b[0;32m   1519\u001b[0m         \u001b[38;5;129;01mor\u001b[39;00m _global_forward_hooks \u001b[38;5;129;01mor\u001b[39;00m _global_forward_pre_hooks):\n\u001b[1;32m-> 1520\u001b[0m     \u001b[38;5;28;01mreturn\u001b[39;00m forward_call(\u001b[38;5;241m*\u001b[39margs, \u001b[38;5;241m*\u001b[39m\u001b[38;5;241m*\u001b[39mkwargs)\n\u001b[0;32m   1522\u001b[0m \u001b[38;5;28;01mtry\u001b[39;00m:\n\u001b[0;32m   1523\u001b[0m     result \u001b[38;5;241m=\u001b[39m \u001b[38;5;28;01mNone\u001b[39;00m\n",
            "File \u001b[1;32md:\\ANACONDA_Jupyter2024\\Lib\\site-packages\\torch\\nn\\modules\\container.py:217\u001b[0m, in \u001b[0;36mSequential.forward\u001b[1;34m(self, input)\u001b[0m\n\u001b[0;32m    215\u001b[0m \u001b[38;5;28;01mdef\u001b[39;00m \u001b[38;5;21mforward\u001b[39m(\u001b[38;5;28mself\u001b[39m, \u001b[38;5;28minput\u001b[39m):\n\u001b[0;32m    216\u001b[0m     \u001b[38;5;28;01mfor\u001b[39;00m module \u001b[38;5;129;01min\u001b[39;00m \u001b[38;5;28mself\u001b[39m:\n\u001b[1;32m--> 217\u001b[0m         \u001b[38;5;28minput\u001b[39m \u001b[38;5;241m=\u001b[39m module(\u001b[38;5;28minput\u001b[39m)\n\u001b[0;32m    218\u001b[0m     \u001b[38;5;28;01mreturn\u001b[39;00m \u001b[38;5;28minput\u001b[39m\n",
            "File \u001b[1;32md:\\ANACONDA_Jupyter2024\\Lib\\site-packages\\torch\\nn\\modules\\module.py:1511\u001b[0m, in \u001b[0;36mModule._wrapped_call_impl\u001b[1;34m(self, *args, **kwargs)\u001b[0m\n\u001b[0;32m   1509\u001b[0m     \u001b[38;5;28;01mreturn\u001b[39;00m \u001b[38;5;28mself\u001b[39m\u001b[38;5;241m.\u001b[39m_compiled_call_impl(\u001b[38;5;241m*\u001b[39margs, \u001b[38;5;241m*\u001b[39m\u001b[38;5;241m*\u001b[39mkwargs)  \u001b[38;5;66;03m# type: ignore[misc]\u001b[39;00m\n\u001b[0;32m   1510\u001b[0m \u001b[38;5;28;01melse\u001b[39;00m:\n\u001b[1;32m-> 1511\u001b[0m     \u001b[38;5;28;01mreturn\u001b[39;00m \u001b[38;5;28mself\u001b[39m\u001b[38;5;241m.\u001b[39m_call_impl(\u001b[38;5;241m*\u001b[39margs, \u001b[38;5;241m*\u001b[39m\u001b[38;5;241m*\u001b[39mkwargs)\n",
            "File \u001b[1;32md:\\ANACONDA_Jupyter2024\\Lib\\site-packages\\torch\\nn\\modules\\module.py:1520\u001b[0m, in \u001b[0;36mModule._call_impl\u001b[1;34m(self, *args, **kwargs)\u001b[0m\n\u001b[0;32m   1515\u001b[0m \u001b[38;5;66;03m# If we don't have any hooks, we want to skip the rest of the logic in\u001b[39;00m\n\u001b[0;32m   1516\u001b[0m \u001b[38;5;66;03m# this function, and just call forward.\u001b[39;00m\n\u001b[0;32m   1517\u001b[0m \u001b[38;5;28;01mif\u001b[39;00m \u001b[38;5;129;01mnot\u001b[39;00m (\u001b[38;5;28mself\u001b[39m\u001b[38;5;241m.\u001b[39m_backward_hooks \u001b[38;5;129;01mor\u001b[39;00m \u001b[38;5;28mself\u001b[39m\u001b[38;5;241m.\u001b[39m_backward_pre_hooks \u001b[38;5;129;01mor\u001b[39;00m \u001b[38;5;28mself\u001b[39m\u001b[38;5;241m.\u001b[39m_forward_hooks \u001b[38;5;129;01mor\u001b[39;00m \u001b[38;5;28mself\u001b[39m\u001b[38;5;241m.\u001b[39m_forward_pre_hooks\n\u001b[0;32m   1518\u001b[0m         \u001b[38;5;129;01mor\u001b[39;00m _global_backward_pre_hooks \u001b[38;5;129;01mor\u001b[39;00m _global_backward_hooks\n\u001b[0;32m   1519\u001b[0m         \u001b[38;5;129;01mor\u001b[39;00m _global_forward_hooks \u001b[38;5;129;01mor\u001b[39;00m _global_forward_pre_hooks):\n\u001b[1;32m-> 1520\u001b[0m     \u001b[38;5;28;01mreturn\u001b[39;00m forward_call(\u001b[38;5;241m*\u001b[39margs, \u001b[38;5;241m*\u001b[39m\u001b[38;5;241m*\u001b[39mkwargs)\n\u001b[0;32m   1522\u001b[0m \u001b[38;5;28;01mtry\u001b[39;00m:\n\u001b[0;32m   1523\u001b[0m     result \u001b[38;5;241m=\u001b[39m \u001b[38;5;28;01mNone\u001b[39;00m\n",
            "File \u001b[1;32md:\\ANACONDA_Jupyter2024\\Lib\\site-packages\\timm\\models\\swin_transformer.py:444\u001b[0m, in \u001b[0;36mSwinTransformerStage.forward\u001b[1;34m(self, x)\u001b[0m\n\u001b[0;32m    442\u001b[0m     x \u001b[38;5;241m=\u001b[39m checkpoint_seq(\u001b[38;5;28mself\u001b[39m\u001b[38;5;241m.\u001b[39mblocks, x)\n\u001b[0;32m    443\u001b[0m \u001b[38;5;28;01melse\u001b[39;00m:\n\u001b[1;32m--> 444\u001b[0m     x \u001b[38;5;241m=\u001b[39m \u001b[38;5;28mself\u001b[39m\u001b[38;5;241m.\u001b[39mblocks(x)\n\u001b[0;32m    445\u001b[0m \u001b[38;5;28;01mreturn\u001b[39;00m x\n",
            "File \u001b[1;32md:\\ANACONDA_Jupyter2024\\Lib\\site-packages\\torch\\nn\\modules\\module.py:1511\u001b[0m, in \u001b[0;36mModule._wrapped_call_impl\u001b[1;34m(self, *args, **kwargs)\u001b[0m\n\u001b[0;32m   1509\u001b[0m     \u001b[38;5;28;01mreturn\u001b[39;00m \u001b[38;5;28mself\u001b[39m\u001b[38;5;241m.\u001b[39m_compiled_call_impl(\u001b[38;5;241m*\u001b[39margs, \u001b[38;5;241m*\u001b[39m\u001b[38;5;241m*\u001b[39mkwargs)  \u001b[38;5;66;03m# type: ignore[misc]\u001b[39;00m\n\u001b[0;32m   1510\u001b[0m \u001b[38;5;28;01melse\u001b[39;00m:\n\u001b[1;32m-> 1511\u001b[0m     \u001b[38;5;28;01mreturn\u001b[39;00m \u001b[38;5;28mself\u001b[39m\u001b[38;5;241m.\u001b[39m_call_impl(\u001b[38;5;241m*\u001b[39margs, \u001b[38;5;241m*\u001b[39m\u001b[38;5;241m*\u001b[39mkwargs)\n",
            "File \u001b[1;32md:\\ANACONDA_Jupyter2024\\Lib\\site-packages\\torch\\nn\\modules\\module.py:1520\u001b[0m, in \u001b[0;36mModule._call_impl\u001b[1;34m(self, *args, **kwargs)\u001b[0m\n\u001b[0;32m   1515\u001b[0m \u001b[38;5;66;03m# If we don't have any hooks, we want to skip the rest of the logic in\u001b[39;00m\n\u001b[0;32m   1516\u001b[0m \u001b[38;5;66;03m# this function, and just call forward.\u001b[39;00m\n\u001b[0;32m   1517\u001b[0m \u001b[38;5;28;01mif\u001b[39;00m \u001b[38;5;129;01mnot\u001b[39;00m (\u001b[38;5;28mself\u001b[39m\u001b[38;5;241m.\u001b[39m_backward_hooks \u001b[38;5;129;01mor\u001b[39;00m \u001b[38;5;28mself\u001b[39m\u001b[38;5;241m.\u001b[39m_backward_pre_hooks \u001b[38;5;129;01mor\u001b[39;00m \u001b[38;5;28mself\u001b[39m\u001b[38;5;241m.\u001b[39m_forward_hooks \u001b[38;5;129;01mor\u001b[39;00m \u001b[38;5;28mself\u001b[39m\u001b[38;5;241m.\u001b[39m_forward_pre_hooks\n\u001b[0;32m   1518\u001b[0m         \u001b[38;5;129;01mor\u001b[39;00m _global_backward_pre_hooks \u001b[38;5;129;01mor\u001b[39;00m _global_backward_hooks\n\u001b[0;32m   1519\u001b[0m         \u001b[38;5;129;01mor\u001b[39;00m _global_forward_hooks \u001b[38;5;129;01mor\u001b[39;00m _global_forward_pre_hooks):\n\u001b[1;32m-> 1520\u001b[0m     \u001b[38;5;28;01mreturn\u001b[39;00m forward_call(\u001b[38;5;241m*\u001b[39margs, \u001b[38;5;241m*\u001b[39m\u001b[38;5;241m*\u001b[39mkwargs)\n\u001b[0;32m   1522\u001b[0m \u001b[38;5;28;01mtry\u001b[39;00m:\n\u001b[0;32m   1523\u001b[0m     result \u001b[38;5;241m=\u001b[39m \u001b[38;5;28;01mNone\u001b[39;00m\n",
            "File \u001b[1;32md:\\ANACONDA_Jupyter2024\\Lib\\site-packages\\torch\\nn\\modules\\container.py:217\u001b[0m, in \u001b[0;36mSequential.forward\u001b[1;34m(self, input)\u001b[0m\n\u001b[0;32m    215\u001b[0m \u001b[38;5;28;01mdef\u001b[39;00m \u001b[38;5;21mforward\u001b[39m(\u001b[38;5;28mself\u001b[39m, \u001b[38;5;28minput\u001b[39m):\n\u001b[0;32m    216\u001b[0m     \u001b[38;5;28;01mfor\u001b[39;00m module \u001b[38;5;129;01min\u001b[39;00m \u001b[38;5;28mself\u001b[39m:\n\u001b[1;32m--> 217\u001b[0m         \u001b[38;5;28minput\u001b[39m \u001b[38;5;241m=\u001b[39m module(\u001b[38;5;28minput\u001b[39m)\n\u001b[0;32m    218\u001b[0m     \u001b[38;5;28;01mreturn\u001b[39;00m \u001b[38;5;28minput\u001b[39m\n",
            "File \u001b[1;32md:\\ANACONDA_Jupyter2024\\Lib\\site-packages\\torch\\nn\\modules\\module.py:1511\u001b[0m, in \u001b[0;36mModule._wrapped_call_impl\u001b[1;34m(self, *args, **kwargs)\u001b[0m\n\u001b[0;32m   1509\u001b[0m     \u001b[38;5;28;01mreturn\u001b[39;00m \u001b[38;5;28mself\u001b[39m\u001b[38;5;241m.\u001b[39m_compiled_call_impl(\u001b[38;5;241m*\u001b[39margs, \u001b[38;5;241m*\u001b[39m\u001b[38;5;241m*\u001b[39mkwargs)  \u001b[38;5;66;03m# type: ignore[misc]\u001b[39;00m\n\u001b[0;32m   1510\u001b[0m \u001b[38;5;28;01melse\u001b[39;00m:\n\u001b[1;32m-> 1511\u001b[0m     \u001b[38;5;28;01mreturn\u001b[39;00m \u001b[38;5;28mself\u001b[39m\u001b[38;5;241m.\u001b[39m_call_impl(\u001b[38;5;241m*\u001b[39margs, \u001b[38;5;241m*\u001b[39m\u001b[38;5;241m*\u001b[39mkwargs)\n",
            "File \u001b[1;32md:\\ANACONDA_Jupyter2024\\Lib\\site-packages\\torch\\nn\\modules\\module.py:1520\u001b[0m, in \u001b[0;36mModule._call_impl\u001b[1;34m(self, *args, **kwargs)\u001b[0m\n\u001b[0;32m   1515\u001b[0m \u001b[38;5;66;03m# If we don't have any hooks, we want to skip the rest of the logic in\u001b[39;00m\n\u001b[0;32m   1516\u001b[0m \u001b[38;5;66;03m# this function, and just call forward.\u001b[39;00m\n\u001b[0;32m   1517\u001b[0m \u001b[38;5;28;01mif\u001b[39;00m \u001b[38;5;129;01mnot\u001b[39;00m (\u001b[38;5;28mself\u001b[39m\u001b[38;5;241m.\u001b[39m_backward_hooks \u001b[38;5;129;01mor\u001b[39;00m \u001b[38;5;28mself\u001b[39m\u001b[38;5;241m.\u001b[39m_backward_pre_hooks \u001b[38;5;129;01mor\u001b[39;00m \u001b[38;5;28mself\u001b[39m\u001b[38;5;241m.\u001b[39m_forward_hooks \u001b[38;5;129;01mor\u001b[39;00m \u001b[38;5;28mself\u001b[39m\u001b[38;5;241m.\u001b[39m_forward_pre_hooks\n\u001b[0;32m   1518\u001b[0m         \u001b[38;5;129;01mor\u001b[39;00m _global_backward_pre_hooks \u001b[38;5;129;01mor\u001b[39;00m _global_backward_hooks\n\u001b[0;32m   1519\u001b[0m         \u001b[38;5;129;01mor\u001b[39;00m _global_forward_hooks \u001b[38;5;129;01mor\u001b[39;00m _global_forward_pre_hooks):\n\u001b[1;32m-> 1520\u001b[0m     \u001b[38;5;28;01mreturn\u001b[39;00m forward_call(\u001b[38;5;241m*\u001b[39margs, \u001b[38;5;241m*\u001b[39m\u001b[38;5;241m*\u001b[39mkwargs)\n\u001b[0;32m   1522\u001b[0m \u001b[38;5;28;01mtry\u001b[39;00m:\n\u001b[0;32m   1523\u001b[0m     result \u001b[38;5;241m=\u001b[39m \u001b[38;5;28;01mNone\u001b[39;00m\n",
            "File \u001b[1;32md:\\ANACONDA_Jupyter2024\\Lib\\site-packages\\timm\\models\\swin_transformer.py:323\u001b[0m, in \u001b[0;36mSwinTransformerBlock.forward\u001b[1;34m(self, x)\u001b[0m\n\u001b[0;32m    321\u001b[0m \u001b[38;5;28;01mdef\u001b[39;00m \u001b[38;5;21mforward\u001b[39m(\u001b[38;5;28mself\u001b[39m, x):\n\u001b[0;32m    322\u001b[0m     B, H, W, C \u001b[38;5;241m=\u001b[39m x\u001b[38;5;241m.\u001b[39mshape\n\u001b[1;32m--> 323\u001b[0m     x \u001b[38;5;241m=\u001b[39m x \u001b[38;5;241m+\u001b[39m \u001b[38;5;28mself\u001b[39m\u001b[38;5;241m.\u001b[39mdrop_path1(\u001b[38;5;28mself\u001b[39m\u001b[38;5;241m.\u001b[39m_attn(\u001b[38;5;28mself\u001b[39m\u001b[38;5;241m.\u001b[39mnorm1(x)))\n\u001b[0;32m    324\u001b[0m     x \u001b[38;5;241m=\u001b[39m x\u001b[38;5;241m.\u001b[39mreshape(B, \u001b[38;5;241m-\u001b[39m\u001b[38;5;241m1\u001b[39m, C)\n\u001b[0;32m    325\u001b[0m     x \u001b[38;5;241m=\u001b[39m x \u001b[38;5;241m+\u001b[39m \u001b[38;5;28mself\u001b[39m\u001b[38;5;241m.\u001b[39mdrop_path2(\u001b[38;5;28mself\u001b[39m\u001b[38;5;241m.\u001b[39mmlp(\u001b[38;5;28mself\u001b[39m\u001b[38;5;241m.\u001b[39mnorm2(x)))\n",
            "File \u001b[1;32md:\\ANACONDA_Jupyter2024\\Lib\\site-packages\\timm\\models\\swin_transformer.py:307\u001b[0m, in \u001b[0;36mSwinTransformerBlock._attn\u001b[1;34m(self, x)\u001b[0m\n\u001b[0;32m    304\u001b[0m x_windows \u001b[38;5;241m=\u001b[39m x_windows\u001b[38;5;241m.\u001b[39mview(\u001b[38;5;241m-\u001b[39m\u001b[38;5;241m1\u001b[39m, \u001b[38;5;28mself\u001b[39m\u001b[38;5;241m.\u001b[39mwindow_area, C)  \u001b[38;5;66;03m# nW*B, window_size*window_size, C\u001b[39;00m\n\u001b[0;32m    306\u001b[0m \u001b[38;5;66;03m# W-MSA/SW-MSA\u001b[39;00m\n\u001b[1;32m--> 307\u001b[0m attn_windows \u001b[38;5;241m=\u001b[39m \u001b[38;5;28mself\u001b[39m\u001b[38;5;241m.\u001b[39mattn(x_windows, mask\u001b[38;5;241m=\u001b[39m\u001b[38;5;28mself\u001b[39m\u001b[38;5;241m.\u001b[39mattn_mask)  \u001b[38;5;66;03m# nW*B, window_size*window_size, C\u001b[39;00m\n\u001b[0;32m    309\u001b[0m \u001b[38;5;66;03m# merge windows\u001b[39;00m\n\u001b[0;32m    310\u001b[0m attn_windows \u001b[38;5;241m=\u001b[39m attn_windows\u001b[38;5;241m.\u001b[39mview(\u001b[38;5;241m-\u001b[39m\u001b[38;5;241m1\u001b[39m, \u001b[38;5;28mself\u001b[39m\u001b[38;5;241m.\u001b[39mwindow_size[\u001b[38;5;241m0\u001b[39m], \u001b[38;5;28mself\u001b[39m\u001b[38;5;241m.\u001b[39mwindow_size[\u001b[38;5;241m1\u001b[39m], C)\n",
            "File \u001b[1;32md:\\ANACONDA_Jupyter2024\\Lib\\site-packages\\torch\\nn\\modules\\module.py:1511\u001b[0m, in \u001b[0;36mModule._wrapped_call_impl\u001b[1;34m(self, *args, **kwargs)\u001b[0m\n\u001b[0;32m   1509\u001b[0m     \u001b[38;5;28;01mreturn\u001b[39;00m \u001b[38;5;28mself\u001b[39m\u001b[38;5;241m.\u001b[39m_compiled_call_impl(\u001b[38;5;241m*\u001b[39margs, \u001b[38;5;241m*\u001b[39m\u001b[38;5;241m*\u001b[39mkwargs)  \u001b[38;5;66;03m# type: ignore[misc]\u001b[39;00m\n\u001b[0;32m   1510\u001b[0m \u001b[38;5;28;01melse\u001b[39;00m:\n\u001b[1;32m-> 1511\u001b[0m     \u001b[38;5;28;01mreturn\u001b[39;00m \u001b[38;5;28mself\u001b[39m\u001b[38;5;241m.\u001b[39m_call_impl(\u001b[38;5;241m*\u001b[39margs, \u001b[38;5;241m*\u001b[39m\u001b[38;5;241m*\u001b[39mkwargs)\n",
            "File \u001b[1;32md:\\ANACONDA_Jupyter2024\\Lib\\site-packages\\torch\\nn\\modules\\module.py:1520\u001b[0m, in \u001b[0;36mModule._call_impl\u001b[1;34m(self, *args, **kwargs)\u001b[0m\n\u001b[0;32m   1515\u001b[0m \u001b[38;5;66;03m# If we don't have any hooks, we want to skip the rest of the logic in\u001b[39;00m\n\u001b[0;32m   1516\u001b[0m \u001b[38;5;66;03m# this function, and just call forward.\u001b[39;00m\n\u001b[0;32m   1517\u001b[0m \u001b[38;5;28;01mif\u001b[39;00m \u001b[38;5;129;01mnot\u001b[39;00m (\u001b[38;5;28mself\u001b[39m\u001b[38;5;241m.\u001b[39m_backward_hooks \u001b[38;5;129;01mor\u001b[39;00m \u001b[38;5;28mself\u001b[39m\u001b[38;5;241m.\u001b[39m_backward_pre_hooks \u001b[38;5;129;01mor\u001b[39;00m \u001b[38;5;28mself\u001b[39m\u001b[38;5;241m.\u001b[39m_forward_hooks \u001b[38;5;129;01mor\u001b[39;00m \u001b[38;5;28mself\u001b[39m\u001b[38;5;241m.\u001b[39m_forward_pre_hooks\n\u001b[0;32m   1518\u001b[0m         \u001b[38;5;129;01mor\u001b[39;00m _global_backward_pre_hooks \u001b[38;5;129;01mor\u001b[39;00m _global_backward_hooks\n\u001b[0;32m   1519\u001b[0m         \u001b[38;5;129;01mor\u001b[39;00m _global_forward_hooks \u001b[38;5;129;01mor\u001b[39;00m _global_forward_pre_hooks):\n\u001b[1;32m-> 1520\u001b[0m     \u001b[38;5;28;01mreturn\u001b[39;00m forward_call(\u001b[38;5;241m*\u001b[39margs, \u001b[38;5;241m*\u001b[39m\u001b[38;5;241m*\u001b[39mkwargs)\n\u001b[0;32m   1522\u001b[0m \u001b[38;5;28;01mtry\u001b[39;00m:\n\u001b[0;32m   1523\u001b[0m     result \u001b[38;5;241m=\u001b[39m \u001b[38;5;28;01mNone\u001b[39;00m\n",
            "File \u001b[1;32md:\\ANACONDA_Jupyter2024\\Lib\\site-packages\\timm\\models\\swin_transformer.py:182\u001b[0m, in \u001b[0;36mWindowAttention.forward\u001b[1;34m(self, x, mask)\u001b[0m\n\u001b[0;32m    179\u001b[0m     x \u001b[38;5;241m=\u001b[39m attn \u001b[38;5;241m@\u001b[39m v\n\u001b[0;32m    181\u001b[0m x \u001b[38;5;241m=\u001b[39m x\u001b[38;5;241m.\u001b[39mtranspose(\u001b[38;5;241m1\u001b[39m, \u001b[38;5;241m2\u001b[39m)\u001b[38;5;241m.\u001b[39mreshape(B_, N, \u001b[38;5;241m-\u001b[39m\u001b[38;5;241m1\u001b[39m)\n\u001b[1;32m--> 182\u001b[0m x \u001b[38;5;241m=\u001b[39m \u001b[38;5;28mself\u001b[39m\u001b[38;5;241m.\u001b[39mproj(x)\n\u001b[0;32m    183\u001b[0m x \u001b[38;5;241m=\u001b[39m \u001b[38;5;28mself\u001b[39m\u001b[38;5;241m.\u001b[39mproj_drop(x)\n\u001b[0;32m    184\u001b[0m \u001b[38;5;28;01mreturn\u001b[39;00m x\n",
            "File \u001b[1;32md:\\ANACONDA_Jupyter2024\\Lib\\site-packages\\torch\\nn\\modules\\module.py:1511\u001b[0m, in \u001b[0;36mModule._wrapped_call_impl\u001b[1;34m(self, *args, **kwargs)\u001b[0m\n\u001b[0;32m   1509\u001b[0m     \u001b[38;5;28;01mreturn\u001b[39;00m \u001b[38;5;28mself\u001b[39m\u001b[38;5;241m.\u001b[39m_compiled_call_impl(\u001b[38;5;241m*\u001b[39margs, \u001b[38;5;241m*\u001b[39m\u001b[38;5;241m*\u001b[39mkwargs)  \u001b[38;5;66;03m# type: ignore[misc]\u001b[39;00m\n\u001b[0;32m   1510\u001b[0m \u001b[38;5;28;01melse\u001b[39;00m:\n\u001b[1;32m-> 1511\u001b[0m     \u001b[38;5;28;01mreturn\u001b[39;00m \u001b[38;5;28mself\u001b[39m\u001b[38;5;241m.\u001b[39m_call_impl(\u001b[38;5;241m*\u001b[39margs, \u001b[38;5;241m*\u001b[39m\u001b[38;5;241m*\u001b[39mkwargs)\n",
            "File \u001b[1;32md:\\ANACONDA_Jupyter2024\\Lib\\site-packages\\torch\\nn\\modules\\module.py:1520\u001b[0m, in \u001b[0;36mModule._call_impl\u001b[1;34m(self, *args, **kwargs)\u001b[0m\n\u001b[0;32m   1515\u001b[0m \u001b[38;5;66;03m# If we don't have any hooks, we want to skip the rest of the logic in\u001b[39;00m\n\u001b[0;32m   1516\u001b[0m \u001b[38;5;66;03m# this function, and just call forward.\u001b[39;00m\n\u001b[0;32m   1517\u001b[0m \u001b[38;5;28;01mif\u001b[39;00m \u001b[38;5;129;01mnot\u001b[39;00m (\u001b[38;5;28mself\u001b[39m\u001b[38;5;241m.\u001b[39m_backward_hooks \u001b[38;5;129;01mor\u001b[39;00m \u001b[38;5;28mself\u001b[39m\u001b[38;5;241m.\u001b[39m_backward_pre_hooks \u001b[38;5;129;01mor\u001b[39;00m \u001b[38;5;28mself\u001b[39m\u001b[38;5;241m.\u001b[39m_forward_hooks \u001b[38;5;129;01mor\u001b[39;00m \u001b[38;5;28mself\u001b[39m\u001b[38;5;241m.\u001b[39m_forward_pre_hooks\n\u001b[0;32m   1518\u001b[0m         \u001b[38;5;129;01mor\u001b[39;00m _global_backward_pre_hooks \u001b[38;5;129;01mor\u001b[39;00m _global_backward_hooks\n\u001b[0;32m   1519\u001b[0m         \u001b[38;5;129;01mor\u001b[39;00m _global_forward_hooks \u001b[38;5;129;01mor\u001b[39;00m _global_forward_pre_hooks):\n\u001b[1;32m-> 1520\u001b[0m     \u001b[38;5;28;01mreturn\u001b[39;00m forward_call(\u001b[38;5;241m*\u001b[39margs, \u001b[38;5;241m*\u001b[39m\u001b[38;5;241m*\u001b[39mkwargs)\n\u001b[0;32m   1522\u001b[0m \u001b[38;5;28;01mtry\u001b[39;00m:\n\u001b[0;32m   1523\u001b[0m     result \u001b[38;5;241m=\u001b[39m \u001b[38;5;28;01mNone\u001b[39;00m\n",
            "File \u001b[1;32md:\\ANACONDA_Jupyter2024\\Lib\\site-packages\\torch\\nn\\modules\\linear.py:116\u001b[0m, in \u001b[0;36mLinear.forward\u001b[1;34m(self, input)\u001b[0m\n\u001b[0;32m    115\u001b[0m \u001b[38;5;28;01mdef\u001b[39;00m \u001b[38;5;21mforward\u001b[39m(\u001b[38;5;28mself\u001b[39m, \u001b[38;5;28minput\u001b[39m: Tensor) \u001b[38;5;241m-\u001b[39m\u001b[38;5;241m>\u001b[39m Tensor:\n\u001b[1;32m--> 116\u001b[0m     \u001b[38;5;28;01mreturn\u001b[39;00m F\u001b[38;5;241m.\u001b[39mlinear(\u001b[38;5;28minput\u001b[39m, \u001b[38;5;28mself\u001b[39m\u001b[38;5;241m.\u001b[39mweight, \u001b[38;5;28mself\u001b[39m\u001b[38;5;241m.\u001b[39mbias)\n",
            "\u001b[1;31mKeyboardInterrupt\u001b[0m: "
          ]
        }
      ],
      "source": [
        "name = 'hf-hub:BVRA/MegaDescriptor-T-224'\n",
        "extractor = DeepFeatures(timm.create_model(name, num_classes=0, pretrained=True))\n",
        "query, database = extractor(dataset_query), extractor(dataset_database)"
      ]
    },
    {
      "cell_type": "code",
      "execution_count": null,
      "metadata": {
        "colab": {
          "base_uri": "https://localhost:8080/"
        },
        "id": "Q48ly6P-yQby",
        "outputId": "9bfc4267-9a90-4645-e90d-b537b9df4b90"
      },
      "outputs": [
        {
          "name": "stdout",
          "output_type": "stream",
          "text": [
            "{'cosine': array([[0.93894947, 0.97903377, 0.9748248 , ..., 0.06067665, 0.0604975 ,\n",
            "        0.07648014],\n",
            "       [0.94975156, 0.9809722 , 0.9829178 , ..., 0.08857712, 0.08899386,\n",
            "        0.10716249],\n",
            "       [0.9368558 , 0.97414136, 0.9836564 , ..., 0.08185371, 0.08442868,\n",
            "        0.10064524],\n",
            "       ...,\n",
            "       [0.9431046 , 0.985183  , 0.98194647, ..., 0.08535906, 0.08368647,\n",
            "        0.10288547],\n",
            "       [0.92794454, 0.98648065, 0.97138005, ..., 0.06948385, 0.06463583,\n",
            "        0.08578961],\n",
            "       [0.958699  , 0.9781159 , 0.9700406 , ..., 0.11579873, 0.11533174,\n",
            "        0.13037327]], dtype=float32)}\n"
          ]
        }
      ],
      "source": [
        "similarity_function = CosineSimilarity()\n",
        "similarity = similarity_function(query, database)\n",
        "print(similarity)"
      ]
    },
    {
      "cell_type": "code",
      "execution_count": null,
      "metadata": {
        "colab": {
          "base_uri": "https://localhost:8080/"
        },
        "id": "tFRpGqxTab03",
        "outputId": "f91ea988-ecf0-457b-d2ba-3cd1964e3357"
      },
      "outputs": [
        {
          "name": "stdout",
          "output_type": "stream",
          "text": [
            "Predictions for 100 test Images:-\n",
            " ['Dan' 'Dan' 'Dan' 'Dan' 'Dan' 'Dan' 'Dan' 'Dan' 'Dan' 'Dan' 'Dan' 'Dan'\n",
            " 'Dan' 'Dan' 'Dan' 'Dan' 'Dan' 'Dan' 'Dan' 'Dan' 'Dan' 'Dan' 'Dan' 'Dan'\n",
            " 'Dan' 'Dan' 'Dan' 'Dan' 'Dan' 'Dan' 'Dan' 'Dan' 'Dan' 'Dan' 'Dan' 'Dan'\n",
            " 'Dan' 'Dan' 'Dan' 'Dan' 'Dan' 'Dan' 'Dan' 'Dan' 'Dan' 'Dan' 'Dan' 'Dan'\n",
            " 'Dan' 'Dan' 'Dan' 'Dan' 'Dan' 'Dan' 'Dan' 'Dan' 'Dan' 'Dan' 'Dan' 'Dan'\n",
            " 'Dan' 'Dan' 'Dan' 'Dan' 'Dan' 'Dan' 'Dan' 'Dan' 'Dan' 'Dan' 'Dan' 'Dan'\n",
            " 'Dan' 'Dan' 'Dan' 'Dan' 'Dan' 'Dan' 'Dan' 'Dan' 'Dan' 'Dan' 'Dan' 'Dan'\n",
            " 'Dan' 'Dan' 'Dan' 'Dan' 'Dan' 'Dan' 'Dan' 'Dan' 'Dan' 'Dan' 'Dan' 'Dan'\n",
            " 'Dan' 'Dan' 'Dan' 'Dan']\n",
            "Accuracy on MacaqueFaces data: 100.00%\n"
          ]
        }
      ],
      "source": [
        "classifier = KnnClassifier(k=1, database_labels=dataset_database.labels_string)\n",
        "predictions = classifier(similarity['cosine'])\n",
        "print(\"Predictions for 100 test Images:-\\n\",predictions)\n",
        "accuracy = np.mean(dataset_query.labels_string == predictions)\n",
        "print(\"Accuracy on MacaqueFaces data: {:.2f}%\".format(accuracy * 100))"
      ]
    },
    {
      "cell_type": "markdown",
      "metadata": {
        "id": "x8WIYP4jzI6y"
      },
      "source": [
        "**LionData Dateset**"
      ]
    },
    {
      "cell_type": "code",
      "execution_count": null,
      "metadata": {
        "colab": {
          "base_uri": "https://localhost:8080/"
        },
        "id": "rrO6dLzDzPDa",
        "outputId": "b7758238-4b1a-4707-e7d7-c17e8bfe46d0"
      },
      "outputs": [
        {
          "name": "stdout",
          "output_type": "stream",
          "text": [
            "DATASET LionData: DOWNLOADING STARTED.\n",
            "You are trying to download an already downloaded dataset.\n",
            "        This message may have happened to due interrupted download or extract.\n",
            "        To force the download use the `force=True` keyword such as\n",
            "        get_data(..., force=True) or download(..., force=True).\n",
            "        \n"
          ]
        }
      ],
      "source": [
        "# Download dataset (if not already downloaded)\n",
        "datasets.LionData.get_data('../data/LionData')\n",
        "\n",
        "# Load dataset metadata\n",
        "metadata = datasets.LionData('../data/LionData')\n",
        "transform = T.Compose([T.Resize([224, 224]), T.ToTensor(), T.Normalize(mean=(0.485, 0.456, 0.406), std=(0.229, 0.224, 0.225))])\n",
        "dataset = WildlifeDataset(metadata.df, metadata.root, transform=transform)"
      ]
    },
    {
      "cell_type": "code",
      "execution_count": null,
      "metadata": {
        "id": "Nj1rVBcP0quR"
      },
      "outputs": [],
      "source": [
        "dataset_database = WildlifeDataset(metadata.df.iloc[100:,:], metadata.root, transform=transform)\n",
        "dataset_query = WildlifeDataset(metadata.df.iloc[:100,:], metadata.root, transform=transform)"
      ]
    },
    {
      "cell_type": "code",
      "execution_count": null,
      "metadata": {
        "colab": {
          "base_uri": "https://localhost:8080/"
        },
        "id": "DpZt2GKa0uZ8",
        "outputId": "bb99c456-c9e3-434c-ac9d-f850b9d08182"
      },
      "outputs": [
        {
          "name": "stderr",
          "output_type": "stream",
          "text": [
            "\r  0%|                                                                         | 0/1 [00:00<?, ?it/s]/usr/lib/python3.10/multiprocessing/popen_fork.py:66: RuntimeWarning: os.fork() was called. os.fork() is incompatible with multithreaded code, and JAX is multithreaded, so this will likely lead to a deadlock.\n",
            "  self.pid = os.fork()\n",
            "100%|█████████████████████████████████████████████████████████████████| 1/1 [00:32<00:00, 32.69s/it]/usr/lib/python3.10/multiprocessing/popen_fork.py:66: RuntimeWarning: os.fork() was called. os.fork() is incompatible with multithreaded code, and JAX is multithreaded, so this will likely lead to a deadlock.\n",
            "  self.pid = os.fork()\n",
            "100%|█████████████████████████████████████████████████████████████████| 1/1 [00:32<00:00, 32.85s/it]\n",
            "100%|█████████████████████████████████████████████████████████████████| 5/5 [03:30<00:00, 42.13s/it]\n"
          ]
        }
      ],
      "source": [
        "query, database = extractor(dataset_query), extractor(dataset_database)"
      ]
    },
    {
      "cell_type": "code",
      "execution_count": null,
      "metadata": {
        "colab": {
          "base_uri": "https://localhost:8080/"
        },
        "id": "z73QR_5D44kw",
        "outputId": "4bae13ee-5ecd-404f-82e2-68773f9cb720"
      },
      "outputs": [
        {
          "name": "stdout",
          "output_type": "stream",
          "text": [
            "{'cosine': array([[0.86896247, 0.69942033, 0.8777389 , ..., 0.829781  , 0.8954884 ,\n",
            "        0.86451447],\n",
            "       [0.9500992 , 0.7055931 , 0.9380013 , ..., 0.7477597 , 0.9478767 ,\n",
            "        0.89982736],\n",
            "       [0.87242615, 0.6950849 , 0.89943147, ..., 0.75892425, 0.91286826,\n",
            "        0.9114601 ],\n",
            "       ...,\n",
            "       [0.8723602 , 0.7832219 , 0.9014683 , ..., 0.8094394 , 0.9129671 ,\n",
            "        0.9049461 ],\n",
            "       [0.8919123 , 0.73857903, 0.92439425, ..., 0.7845442 , 0.9392824 ,\n",
            "        0.9575528 ],\n",
            "       [0.89837366, 0.75758326, 0.91506803, ..., 0.80790067, 0.9342222 ,\n",
            "        0.93150544]], dtype=float32)}\n"
          ]
        }
      ],
      "source": [
        "similarity_function = CosineSimilarity()\n",
        "similarity = similarity_function(query, database)\n",
        "print(similarity)"
      ]
    },
    {
      "cell_type": "code",
      "execution_count": null,
      "metadata": {
        "colab": {
          "base_uri": "https://localhost:8080/"
        },
        "id": "pqHIJW025EOL",
        "outputId": "c6d8ae7d-841c-439f-c84e-dc817aaa2ea6"
      },
      "outputs": [
        {
          "name": "stdout",
          "output_type": "stream",
          "text": [
            "Predictions for 100 test Images:-\n",
            " ['Sebastian' 'Saba' 'Etana' 'Tigisi' 'Sebastian' 'Moswen' 'Naape'\n",
            " 'Simaloi' 'Autumn' 'Lolparpit' 'Maskio' 'Chaimu' 'Naape' 'Saba' 'Saitoti'\n",
            " 'Esiriwua' 'Sadala' 'Etana' 'Enderoni' 'Kinna' 'Lucinda' 'Enkume' 'Joy'\n",
            " 'Lemuanik' 'Naibor' 'Shambe' 'Siti' 'Selenkay' 'Sadala' 'Manzy' 'Moswen'\n",
            " 'Napi' 'Ngare' 'Naimina' 'Napi' 'Cleopatra' 'Moswen' 'Kioni' 'Chaimu'\n",
            " 'Engiyaa' 'Enderoni' 'Jamal' 'Leia' 'Sebastian' 'Nuru' 'Maskio' 'Mooza'\n",
            " 'Moswen' 'Kibibi' 'Tigisi' 'Enderoni' 'Lucinda' 'Moswen' 'Kioni'\n",
            " 'Sebastian' 'Mashavu' 'Mickey' 'Mama-Kali' 'Kioni' 'Ngare' 'Nashipai'\n",
            " 'Sikio-Kali' 'Ngare' 'Amber' 'Olonyori' 'Lemuanik' 'Kibibi' 'Ngare'\n",
            " 'Saimutie' 'Amber' 'Shemsa' 'Olonyori' 'Mickey' 'Esiriwua' 'Nashipai'\n",
            " 'Enderoni' 'Summer' 'Nuru' 'Mickey' 'Joy' 'Cleopatra' 'Tigisi' 'Mooza'\n",
            " 'Saitoti' 'Kioni' 'Naini' 'Rescue' 'Sikio-Kali' 'Empurra' 'Enadalut'\n",
            " 'Lemayian' 'Rescue' 'Enadalut' 'Esiriwua' 'Enkume' 'Senteu' 'Doto'\n",
            " 'Enkume' 'Nakato' 'Enderoni']\n",
            "Accuracy on Lion data: 8.00%\n"
          ]
        }
      ],
      "source": [
        "classifier = KnnClassifier(k=1, database_labels=dataset_database.labels_string)\n",
        "predictions = classifier(similarity['cosine'])\n",
        "print(\"Predictions for 100 test Images:-\\n\",predictions)\n",
        "accuracy = np.mean(dataset_query.labels_string == predictions)\n",
        "print(\"Accuracy on Lion data: {:.2f}%\".format(accuracy * 100))"
      ]
    },
    {
      "cell_type": "markdown",
      "metadata": {
        "id": "8BVColWW5peR"
      },
      "source": [
        "**NyalaDataSet**"
      ]
    },
    {
      "cell_type": "code",
      "execution_count": null,
      "metadata": {
        "colab": {
          "base_uri": "https://localhost:8080/"
        },
        "id": "lrsdGDje5obt",
        "outputId": "c56de32a-a03f-4bdc-fd3b-9c445b69436f"
      },
      "outputs": [
        {
          "name": "stdout",
          "output_type": "stream",
          "text": [
            "DATASET NyalaData: DOWNLOADING STARTED.\n",
            "You are trying to download an already downloaded dataset.\n",
            "        This message may have happened to due interrupted download or extract.\n",
            "        To force the download use the `force=True` keyword such as\n",
            "        get_data(..., force=True) or download(..., force=True).\n",
            "        \n"
          ]
        }
      ],
      "source": [
        "# Download dataset (if not already downloaded)\n",
        "datasets.NyalaData.get_data('../data/NyalaData')\n",
        "\n",
        "# Load dataset metadata\n",
        "metadata = datasets.NyalaData('../data/NyalaData')\n",
        "transform = T.Compose([T.Resize([224, 224]), T.ToTensor(), T.Normalize(mean=(0.485, 0.456, 0.406), std=(0.229, 0.224, 0.225))])\n",
        "dataset = WildlifeDataset(metadata.df, metadata.root, transform=transform)"
      ]
    },
    {
      "cell_type": "code",
      "execution_count": null,
      "metadata": {
        "id": "Gt-66g7v6MsJ"
      },
      "outputs": [],
      "source": [
        "dataset_database = WildlifeDataset(metadata.df.iloc[100:,:], metadata.root, transform=transform)\n",
        "dataset_query = WildlifeDataset(metadata.df.iloc[:100,:], metadata.root, transform=transform)"
      ]
    },
    {
      "cell_type": "code",
      "execution_count": null,
      "metadata": {
        "colab": {
          "base_uri": "https://localhost:8080/"
        },
        "id": "1hmLnsoN6Oey",
        "outputId": "4350be6b-b87e-40ea-e051-6e15ed8e96c1"
      },
      "outputs": [
        {
          "name": "stderr",
          "output_type": "stream",
          "text": [
            "\r  0%|                                                                         | 0/1 [00:00<?, ?it/s]/usr/lib/python3.10/multiprocessing/popen_fork.py:66: RuntimeWarning: os.fork() was called. os.fork() is incompatible with multithreaded code, and JAX is multithreaded, so this will likely lead to a deadlock.\n",
            "  self.pid = os.fork()\n",
            "100%|█████████████████████████████████████████████████████████████████| 1/1 [00:37<00:00, 37.40s/it]\n",
            "100%|███████████████████████████████████████████████████████████████| 15/15 [10:46<00:00, 43.08s/it]\n"
          ]
        }
      ],
      "source": [
        "query, database = extractor(dataset_query), extractor(dataset_database)"
      ]
    },
    {
      "cell_type": "code",
      "execution_count": null,
      "metadata": {
        "colab": {
          "base_uri": "https://localhost:8080/"
        },
        "id": "rzYBhZBM9MH0",
        "outputId": "125c97f8-2d14-40ea-d442-bee69d41bfd9"
      },
      "outputs": [
        {
          "name": "stdout",
          "output_type": "stream",
          "text": [
            "{'cosine': array([[0.8619583 , 0.01217471, 0.05642469, ..., 0.6895717 , 0.03031028,\n",
            "        0.898418  ],\n",
            "       [0.25952083, 0.918558  , 0.785017  , ..., 0.5010886 , 0.82998675,\n",
            "        0.1797384 ],\n",
            "       [0.71705055, 0.4680481 , 0.5621629 , ..., 0.962554  , 0.5190879 ,\n",
            "        0.7367308 ],\n",
            "       ...,\n",
            "       [0.2627344 , 0.9283303 , 0.7531287 , ..., 0.4816041 , 0.80183464,\n",
            "        0.17906114],\n",
            "       [0.84421116, 0.0514888 , 0.10151841, ..., 0.7681327 , 0.0811858 ,\n",
            "        0.9342401 ],\n",
            "       [0.07699895, 0.7878246 , 0.9208322 , ..., 0.38661018, 0.9427093 ,\n",
            "        0.07355451]], dtype=float32)}\n"
          ]
        }
      ],
      "source": [
        "similarity_function = CosineSimilarity()\n",
        "similarity = similarity_function(query, database)\n",
        "print(similarity)"
      ]
    },
    {
      "cell_type": "code",
      "execution_count": null,
      "metadata": {
        "colab": {
          "base_uri": "https://localhost:8080/"
        },
        "id": "SjsH9Edm9RI-",
        "outputId": "ee3c9e4d-fc32-45e8-d8e4-f3f191e34121"
      },
      "outputs": [
        {
          "name": "stdout",
          "output_type": "stream",
          "text": [
            "Predictions for 100 test Images:-\n",
            " ['166' '10' '57' '89' '58' '179' '55' '58' '149' '71' '87' '125' '56'\n",
            " '144' '131' '8' '36' '150' '131' '11' '116' '19' '20' '86' '260' '165'\n",
            " '140' '11' '246' '41' '140' '197' '9' '131' '24' '48' '41' '11' '48'\n",
            " '131' '272' '47' '21' '46' '8' '241' '114' '62' '21' '48' '252' '151'\n",
            " '27' '108' '82' '51' '101' '85' '32' '58' '46' '139' '63' '85' '9' '181'\n",
            " '65' '242' '43' '144' '142' '12' '60' '5' '127' '166' '56' '21' '27' '36'\n",
            " '20' '188' '51' '51' '42' '20' '111' '62' '165' '68' '104' '174' '48'\n",
            " '217' '144' '6' '50' '91' '105' '140']\n",
            "Accuracy on NyalaData data: 11.00%\n"
          ]
        }
      ],
      "source": [
        "classifier = KnnClassifier(k=1, database_labels=dataset_database.labels_string)\n",
        "predictions = classifier(similarity['cosine'])\n",
        "print(\"Predictions for 100 test Images:-\\n\",predictions)\n",
        "accuracy = np.mean(dataset_query.labels_string == predictions)\n",
        "print(\"Accuracy on NyalaData data: {:.2f}%\".format(accuracy * 100))"
      ]
    },
    {
      "cell_type": "markdown",
      "metadata": {
        "id": "TggFYlC7-Q7Y"
      },
      "source": [
        "**StripeSpotter Dataset**"
      ]
    },
    {
      "cell_type": "code",
      "execution_count": null,
      "metadata": {
        "colab": {
          "base_uri": "https://localhost:8080/"
        },
        "id": "37C8D2y9-WIy",
        "outputId": "cf764223-9a8c-4237-be24-0b833490cfe1"
      },
      "outputs": [
        {
          "name": "stdout",
          "output_type": "stream",
          "text": [
            "DATASET StripeSpotter: DOWNLOADING STARTED.\n",
            "You are trying to download an already downloaded dataset.\n",
            "        This message may have happened to due interrupted download or extract.\n",
            "        To force the download use the `force=True` keyword such as\n",
            "        get_data(..., force=True) or download(..., force=True).\n",
            "        \n"
          ]
        }
      ],
      "source": [
        "# Download dataset (if not already downloaded)\n",
        "datasets.StripeSpotter.get_data('../data/StripeSpotter')\n",
        "# Load dataset metadata\n",
        "metadata = datasets.StripeSpotter('../data/StripeSpotter')\n",
        "transform = T.Compose([T.Resize([224, 224]), T.ToTensor(), T.Normalize(mean=(0.485, 0.456, 0.406), std=(0.229, 0.224, 0.225))])\n",
        "dataset = WildlifeDataset(metadata.df, metadata.root, transform=transform)"
      ]
    },
    {
      "cell_type": "code",
      "execution_count": null,
      "metadata": {
        "id": "hddjZQpyGSZC"
      },
      "outputs": [],
      "source": [
        "dataset_database = WildlifeDataset(metadata.df.iloc[100:,:], metadata.root, transform=transform)\n",
        "dataset_query = WildlifeDataset(metadata.df.iloc[:100,:], metadata.root, transform=transform)"
      ]
    },
    {
      "cell_type": "code",
      "execution_count": null,
      "metadata": {
        "colab": {
          "base_uri": "https://localhost:8080/"
        },
        "id": "GLTVw6LtGeDr",
        "outputId": "c951cf06-2b39-45e7-aebb-599f662b3db2"
      },
      "outputs": [
        {
          "name": "stderr",
          "output_type": "stream",
          "text": [
            "\r  0%|                                                                         | 0/1 [00:00<?, ?it/s]/usr/lib/python3.10/multiprocessing/popen_fork.py:66: RuntimeWarning: os.fork() was called. os.fork() is incompatible with multithreaded code, and JAX is multithreaded, so this will likely lead to a deadlock.\n",
            "  self.pid = os.fork()\n",
            "100%|█████████████████████████████████████████████████████████████████| 1/1 [00:37<00:00, 37.88s/it]/usr/lib/python3.10/multiprocessing/popen_fork.py:66: RuntimeWarning: os.fork() was called. os.fork() is incompatible with multithreaded code, and JAX is multithreaded, so this will likely lead to a deadlock.\n",
            "  self.pid = os.fork()\n",
            "100%|█████████████████████████████████████████████████████████████████| 1/1 [00:38<00:00, 38.07s/it]\n",
            "100%|█████████████████████████████████████████████████████████████████| 6/6 [04:25<00:00, 44.30s/it]\n"
          ]
        }
      ],
      "source": [
        "query, database = extractor(dataset_query), extractor(dataset_database)"
      ]
    },
    {
      "cell_type": "code",
      "execution_count": null,
      "metadata": {
        "colab": {
          "base_uri": "https://localhost:8080/"
        },
        "id": "_E_O6trCIY_p",
        "outputId": "59e9b194-008c-4f05-ea45-2d49bac003a9"
      },
      "outputs": [
        {
          "name": "stdout",
          "output_type": "stream",
          "text": [
            "{'cosine': array([[0.2130194 , 0.588757  , 0.65936303, ..., 0.4394258 , 0.44544154,\n",
            "        0.621335  ],\n",
            "       [0.17780262, 0.38624054, 0.40102234, ..., 0.7090034 , 0.20244715,\n",
            "        0.2846234 ],\n",
            "       [0.6676848 , 0.43850845, 0.34033626, ..., 0.2868997 , 0.39746365,\n",
            "        0.36011013],\n",
            "       ...,\n",
            "       [0.60642976, 0.23701996, 0.21666232, ..., 0.41781956, 0.32831538,\n",
            "        0.35214955],\n",
            "       [0.51512223, 0.2798951 , 0.32729602, ..., 0.53868353, 0.39507398,\n",
            "        0.28750026],\n",
            "       [0.17924337, 0.24542159, 0.3013066 , ..., 0.58145046, 0.2895743 ,\n",
            "        0.35858634]], dtype=float32)}\n"
          ]
        }
      ],
      "source": [
        "similarity_function = CosineSimilarity()\n",
        "similarity = similarity_function(query, database)\n",
        "print(similarity)"
      ]
    },
    {
      "cell_type": "code",
      "execution_count": null,
      "metadata": {
        "colab": {
          "base_uri": "https://localhost:8080/"
        },
        "id": "rJItxeuOIhQT",
        "outputId": "0a243fa3-b587-4a44-9cb1-a6efc6d2eb24"
      },
      "outputs": [
        {
          "name": "stdout",
          "output_type": "stream",
          "text": [
            "Predictions for 100 test Images:-\n",
            " ['09_212' 'S09_161' '08_085' '08_100' '09_200' 'OP05_625' '09_212'\n",
            " '02_149' '01_579' '08_034' '01_679' '08_078' '01_460' '10_002' '01_136'\n",
            " '09_212' '09_200' 'S09_111' '02_149' 'S09_069' '08_100' '01_363' '01_363'\n",
            " '08_078' '08_034' '01_805' '09_355' '08_085' 'OP05_546' '09_212' '08_100'\n",
            " 'S09_088' '09_182' 'S09_215' '02_162' '01_230' '08_085' '01_661'\n",
            " '02_1026' '09_185' '01_136' '01_661' '01_661' '02_161' '01_165' '02_161'\n",
            " 'S09_174' 'S09_067' '08_100' 'OP04_225' '02_149' 'S09_067' '09_200'\n",
            " '04_008' '01_661' '09_182' '01_805' '02_161' '10_002' '01_036' '02_149'\n",
            " '01_165' '09_212' 'S09_211' 'S09_215' '03_045' '01_579' 'OP04_225'\n",
            " '08_100' '08_100' '04_008' '09_212' 'OP05_625' 'OP05_625' '02_149'\n",
            " '01_230' '09_200' 'OP05_625' '01_661' 'OP04_225' '01_661' '01_661'\n",
            " 'S09_174' '01_679' '01_661' 'S09_067' 'S09_111' 'S09_112' '09_212'\n",
            " 'OP04_225' '02_161' '09_185' '04_008' '08_100' '01_460' '01_679'\n",
            " 'S09_111' '01_679' '01_036' 'S09_067']\n",
            "Accuracy on StripeSpotter data: 98.00%\n"
          ]
        }
      ],
      "source": [
        "classifier = KnnClassifier(k=1, database_labels=dataset_database.labels_string)\n",
        "predictions = classifier(similarity['cosine'])\n",
        "print(\"Predictions for 100 test Images:-\\n\",predictions)\n",
        "accuracy = np.mean(dataset_query.labels_string == predictions)\n",
        "print(\"Accuracy on StripeSpotter data: {:.2f}%\".format(accuracy * 100))"
      ]
    },
    {
      "cell_type": "markdown",
      "metadata": {
        "id": "ekpRAxgNIvDu"
      },
      "source": [
        "**IPanda50 Dataset**"
      ]
    },
    {
      "cell_type": "code",
      "execution_count": null,
      "metadata": {
        "colab": {
          "base_uri": "https://localhost:8080/"
        },
        "id": "0cmTPCjII07F",
        "outputId": "c2661e2a-7999-4463-88f7-06d1aba47ef3"
      },
      "outputs": [
        {
          "name": "stdout",
          "output_type": "stream",
          "text": [
            "DATASET IPanda50: DOWNLOADING STARTED.\n"
          ]
        },
        {
          "name": "stderr",
          "output_type": "stream",
          "text": [
            "Downloading...\n",
            "From (original): https://drive.google.com/uc?id=1nkh-g6a8JvWy-XsMaZqrN2AXoPlaXuFg\n",
            "From (redirected): https://drive.google.com/uc?id=1nkh-g6a8JvWy-XsMaZqrN2AXoPlaXuFg&confirm=t&uuid=174954f6-d2bd-4289-b1ed-6c990eb70713\n",
            "To: /data/IPanda50/iPanda50-images.zip\n",
            "100%|██████████| 926M/926M [00:15<00:00, 59.5MB/s]\n",
            "Downloading...\n",
            "From: https://drive.google.com/uc?id=1gVREtFWkNec4xwqOyKkpuIQIyWU_Y_Ob\n",
            "To: /data/IPanda50/iPanda50-split.zip\n",
            "100%|██████████| 140k/140k [00:00<00:00, 3.27MB/s]\n",
            "Downloading...\n",
            "From: https://drive.google.com/uc?id=1jdACN98uOxedZDT-6X3rpbooLAAUEbNY\n",
            "To: /data/IPanda50/iPanda50-eyes-labels.zip\n",
            "100%|██████████| 2.55M/2.55M [00:00<00:00, 21.5MB/s]\n"
          ]
        },
        {
          "name": "stdout",
          "output_type": "stream",
          "text": [
            "DATASET IPanda50: EXTRACTING STARTED.\n",
            "DATASET IPanda50: FINISHED.\n",
            "\n"
          ]
        }
      ],
      "source": [
        "# Download dataset (if not already downloaded)\n",
        "datasets.IPanda50.get_data('../data/IPanda50')\n",
        "# Load dataset metadata\n",
        "metadata = datasets.IPanda50('../data/IPanda50')\n",
        "transform = T.Compose([T.Resize([224, 224]), T.ToTensor(), T.Normalize(mean=(0.485, 0.456, 0.406), std=(0.229, 0.224, 0.225))])\n",
        "dataset = WildlifeDataset(metadata.df, metadata.root, transform=transform)"
      ]
    },
    {
      "cell_type": "code",
      "execution_count": null,
      "metadata": {
        "id": "uI4Yr7QLLrMO"
      },
      "outputs": [],
      "source": [
        "dataset_database = WildlifeDataset(metadata.df.iloc[100:,:], metadata.root, transform=transform)\n",
        "dataset_query = WildlifeDataset(metadata.df.iloc[:100,:], metadata.root, transform=transform)"
      ]
    },
    {
      "cell_type": "code",
      "execution_count": null,
      "metadata": {
        "colab": {
          "base_uri": "https://localhost:8080/"
        },
        "id": "E-4AJbLMLuOv",
        "outputId": "c538f2f2-bb8f-4f71-a915-097798915cd4"
      },
      "outputs": [
        {
          "name": "stderr",
          "output_type": "stream",
          "text": [
            "\r  0%|                                                                         | 0/1 [00:00<?, ?it/s]/usr/lib/python3.10/multiprocessing/popen_fork.py:66: RuntimeWarning: os.fork() was called. os.fork() is incompatible with multithreaded code, and JAX is multithreaded, so this will likely lead to a deadlock.\n",
            "  self.pid = os.fork()\n",
            "100%|█████████████████████████████████████████████████████████████████| 1/1 [00:38<00:00, 38.09s/it]/usr/lib/python3.10/multiprocessing/popen_fork.py:66: RuntimeWarning: os.fork() was called. os.fork() is incompatible with multithreaded code, and JAX is multithreaded, so this will likely lead to a deadlock.\n",
            "  self.pid = os.fork()\n",
            "100%|█████████████████████████████████████████████████████████████████| 1/1 [00:38<00:00, 38.20s/it]\n",
            "100%|███████████████████████████████████████████████████████████████| 53/53 [38:16<00:00, 43.33s/it]\n"
          ]
        }
      ],
      "source": [
        "query, database = extractor(dataset_query), extractor(dataset_database)"
      ]
    },
    {
      "cell_type": "code",
      "execution_count": null,
      "metadata": {
        "colab": {
          "base_uri": "https://localhost:8080/"
        },
        "id": "Ztg2VL79WglN",
        "outputId": "04d810bb-059b-4a38-aa9f-580f8b91788e"
      },
      "outputs": [
        {
          "name": "stdout",
          "output_type": "stream",
          "text": [
            "{'cosine': array([[ 0.02714637,  0.53501487,  0.14056858, ...,  0.38829625,\n",
            "         0.43481827, -0.07561179],\n",
            "       [ 0.08373775,  0.5616951 ,  0.03785922, ...,  0.3602667 ,\n",
            "         0.6493416 , -0.1295084 ],\n",
            "       [ 0.01190435,  0.4141855 ,  0.23542283, ...,  0.45754877,\n",
            "         0.5449476 , -0.1335805 ],\n",
            "       ...,\n",
            "       [ 0.0320384 ,  0.12872331, -0.14140168, ...,  0.02448   ,\n",
            "         0.22118227, -0.17661369],\n",
            "       [-0.08624166,  0.16572046,  0.07199848, ...,  0.14675027,\n",
            "         0.23473434, -0.02312863],\n",
            "       [ 0.01022829,  0.06892081,  0.7597883 , ...,  0.4224525 ,\n",
            "         0.10611828, -0.04714176]], dtype=float32)}\n"
          ]
        }
      ],
      "source": [
        "similarity_function = CosineSimilarity()\n",
        "similarity = similarity_function(query, database)\n",
        "print(similarity)"
      ]
    },
    {
      "cell_type": "code",
      "execution_count": null,
      "metadata": {
        "colab": {
          "base_uri": "https://localhost:8080/"
        },
        "id": "tyqid4CXWnJc",
        "outputId": "b47f9961-0262-4d2b-bdf4-a1f1f6bc1266"
      },
      "outputs": [
        {
          "name": "stdout",
          "output_type": "stream",
          "text": [
            "Predictions for 100 test Images:-\n",
            " ['10_hexing' '37_xinger' '01_aoliao' '33_wuyi' '47_yingying' '15_maosun'\n",
            " '09_fushun' '10_hexing' '36_xingda' '19_nannan' '08_fulai' '31_shurong'\n",
            " '44_yayi' '39_xinghui' '37_xinger' '14_maodou' '14_maodou' '00_aibang'\n",
            " '21_nina' '35_xilan' '19_nannan' '33_wuyi' '47_yingying' '49_yuanrun'\n",
            " '38_xingfan' '04_chengdui' '16_maotao' '48_yongbang' '11_jiaoao'\n",
            " '49_yuanrun' '24_qixi' '10_hexing' '35_xilan' '35_xilan' '02_baolan'\n",
            " '31_shurong' '31_shurong' '02_baolan' '23_qiubang' '26_qiyuan'\n",
            " '04_chengdui' '35_xilan' '08_fulai' '00_aibang' '10_hexing'\n",
            " '29_shuangxiong' '11_jiaoao' '44_yayi' '14_maodou' '30_shuqing'\n",
            " '36_xingda' '39_xinghui' '33_wuyi' '10_hexing' '10_hexing' '00_aibang'\n",
            " '49_yuanrun' '35_xilan' '04_chengdui' '10_hexing' '39_xinghui' '44_yayi'\n",
            " '10_hexing' '36_xingda' '16_maotao' '22_nini' '00_aibang' '39_xinghui'\n",
            " '10_hexing' '17_meibang' '00_aibang' '46_yazhu' '14_maodou' '15_maosun'\n",
            " '32_susu' '26_qiyuan' '27_rourou' '23_qiubang' '18_miaomiao'\n",
            " '48_yongbang' '45_yayun' '16_maotao' '33_wuyi' '13_jingliang'\n",
            " '41_xingxiao' '39_xinghui' '09_fushun' '46_yazhu' '22_nini' '49_yuanrun'\n",
            " '09_fushun' '28_sa' '48_yongbang' '47_yingying' '28_sa' '15_maosun'\n",
            " '39_xinghui' '20_nike' '43_yaxing' '47_yingying']\n",
            "Accuracy on IPanda50 data: 85.00%\n"
          ]
        }
      ],
      "source": [
        "classifier = KnnClassifier(k=1, database_labels=dataset_database.labels_string)\n",
        "predictions = classifier(similarity['cosine'])\n",
        "print(\"Predictions for 100 test Images:-\\n\",predictions)\n",
        "accuracy = np.mean(dataset_query.labels_string == predictions)\n",
        "print(\"Accuracy on IPanda50 data: {:.2f}%\".format(accuracy * 100))"
      ]
    },
    {
      "cell_type": "code",
      "execution_count": null,
      "metadata": {
        "id": "JZWRBA_upqLH"
      },
      "outputs": [],
      "source": []
    },
    {
      "cell_type": "markdown",
      "metadata": {
        "id": "A17qmo9_d7TE"
      },
      "source": [
        "CZoo Dataset"
      ]
    },
    {
      "cell_type": "code",
      "execution_count": null,
      "metadata": {
        "colab": {
          "base_uri": "https://localhost:8080/"
        },
        "id": "VmYHIzw4Zjv6",
        "outputId": "c3ccca60-ce55-4b09-9476-b21e9beb92dd"
      },
      "outputs": [
        {
          "name": "stdout",
          "output_type": "stream",
          "text": [
            "DATASET CZoo: DOWNLOADING STARTED.\n",
            "You are trying to download an already downloaded dataset.\n",
            "        This message may have happened to due interrupted download or extract.\n",
            "        To force the download use the `force=True` keyword such as\n",
            "        get_data(..., force=True) or download(..., force=True).\n",
            "        \n"
          ]
        }
      ],
      "source": [
        "# Download dataset (if not already downloaded)\n",
        "datasets.CZoo.get_data('../data/CZoo')\n",
        "\n",
        "# Load dataset metadata\n",
        "metadata_CZoo = datasets.CZoo('../data/CZoo')\n",
        "transform = T.Compose([T.Resize([224, 224]), T.ToTensor(), T.Normalize(mean=(0.485, 0.456, 0.406), std=(0.229, 0.224, 0.225))])\n",
        "dataset = WildlifeDataset(metadata_CZoo.df, metadata_CZoo.root, transform=transform)"
      ]
    },
    {
      "cell_type": "code",
      "execution_count": null,
      "metadata": {
        "id": "pyu8Ze_se5y_"
      },
      "outputs": [],
      "source": [
        "dataset_database = WildlifeDataset(metadata.df.iloc[100:,:], metadata.root, transform=transform)\n",
        "dataset_query = WildlifeDataset(metadata.df.iloc[:100,:], metadata.root, transform=transform)"
      ]
    },
    {
      "cell_type": "code",
      "execution_count": null,
      "metadata": {
        "colab": {
          "base_uri": "https://localhost:8080/"
        },
        "id": "iuM3AcuBfA_6",
        "outputId": "7ba6c082-b6dd-49d1-8630-08c2e11e6a48"
      },
      "outputs": [
        {
          "name": "stderr",
          "output_type": "stream",
          "text": [
            "\r  0%|                                                                         | 0/1 [00:00<?, ?it/s]/usr/lib/python3.10/multiprocessing/popen_fork.py:66: RuntimeWarning: os.fork() was called. os.fork() is incompatible with multithreaded code, and JAX is multithreaded, so this will likely lead to a deadlock.\n",
            "  self.pid = os.fork()\n",
            "100%|█████████████████████████████████████████████████████████████████| 1/1 [00:35<00:00, 35.28s/it]/usr/lib/python3.10/multiprocessing/popen_fork.py:66: RuntimeWarning: os.fork() was called. os.fork() is incompatible with multithreaded code, and JAX is multithreaded, so this will likely lead to a deadlock.\n",
            "  self.pid = os.fork()\n",
            "100%|█████████████████████████████████████████████████████████████████| 1/1 [00:35<00:00, 35.45s/it]\n",
            "100%|███████████████████████████████████████████████████████████████| 16/16 [10:51<00:00, 40.69s/it]\n"
          ]
        }
      ],
      "source": [
        "query, database = extractor(dataset_query), extractor(dataset_database)"
      ]
    },
    {
      "cell_type": "code",
      "execution_count": null,
      "metadata": {
        "colab": {
          "base_uri": "https://localhost:8080/"
        },
        "id": "y0MDSts6iG-o",
        "outputId": "6c9c9fcf-e256-4bad-c91e-35dabe8f7015"
      },
      "outputs": [
        {
          "name": "stdout",
          "output_type": "stream",
          "text": [
            "{'cosine': array([[ 9.0549982e-01,  8.9250720e-01,  8.9013600e-01, ...,\n",
            "        -2.4628341e-02, -1.9136328e-02,  2.0032311e-02],\n",
            "       [ 9.1913915e-01,  9.1288275e-01,  9.0220594e-01, ...,\n",
            "        -1.2885875e-02, -3.0940475e-02, -7.5778235e-03],\n",
            "       [ 9.3326151e-01,  9.2265338e-01,  9.1522133e-01, ...,\n",
            "        -3.5657752e-02, -1.6588740e-02,  1.8029639e-02],\n",
            "       ...,\n",
            "       [ 9.4986129e-01,  9.6489835e-01,  9.4513679e-01, ...,\n",
            "        -5.2607138e-02, -3.3724420e-03, -1.1571882e-02],\n",
            "       [ 9.5598102e-01,  9.6259630e-01,  9.4699091e-01, ...,\n",
            "        -4.5473136e-02, -1.4542699e-02, -3.2175947e-03],\n",
            "       [ 9.4659024e-01,  9.6087039e-01,  9.4981194e-01, ...,\n",
            "        -4.7210053e-02, -3.1141117e-03, -8.7950751e-04]], dtype=float32)}\n"
          ]
        }
      ],
      "source": [
        "similarity_function = CosineSimilarity()\n",
        "similarity = similarity_function(query, database)\n",
        "print(similarity)"
      ]
    },
    {
      "cell_type": "code",
      "execution_count": null,
      "metadata": {
        "colab": {
          "base_uri": "https://localhost:8080/"
        },
        "id": "ntU0cfOIiMIJ",
        "outputId": "4bba856a-2a4d-41f6-96be-9a31d9bc9b76"
      },
      "outputs": [
        {
          "name": "stdout",
          "output_type": "stream",
          "text": [
            "Predictions for 100 test Images:-\n",
            " ['Alex' 'Alex' 'Alex' 'Jahaga' 'Jahaga' 'Alex' 'Alex' 'Jahaga' 'Alex'\n",
            " 'Jahaga' 'Alex' 'Alex' 'Alex' 'Alex' 'Alex' 'Alex' 'Alex' 'Alex' 'Alex'\n",
            " 'Alex' 'Alex' 'Alex' 'Alexandra' 'Alexandra' 'Alexandra' 'Alexandra'\n",
            " 'Alexandra' 'Alexandra' 'Alexandra' 'Alexandra' 'Alexandra' 'Alexandra'\n",
            " 'Alexandra' 'Gertrudia' 'Gertrudia' 'Gertrudia' 'Alexandra' 'Alexandra'\n",
            " 'Alexandra' 'Alexandra' 'Alexandra' 'Alexandra' 'Alexandra' 'Alexandra'\n",
            " 'Alexandra' 'Annett' 'Annett' 'Alexandra' 'Alexandra' 'Alexandra'\n",
            " 'Alexandra' 'Alexandra' 'Alexandra' 'Alexandra' 'Alexandra' 'Alexandra'\n",
            " 'Alexandra' 'Alexandra' 'Alexandra' 'Alexandra' 'Alexandra' 'Alexandra'\n",
            " 'Alexandra' 'Alexandra' 'Alexandra' 'Alexandra' 'Alexandra' 'Alexandra'\n",
            " 'Alexandra' 'Alexandra' 'Alexandra' 'Alexandra' 'Alexandra' 'Alexandra'\n",
            " 'Alexandra' 'Alexandra' 'Alexandra' 'Alexandra' 'Alexandra' 'Alexandra'\n",
            " 'Alexandra' 'Alexandra' 'Alexandra' 'Alexandra' 'Alexandra' 'Alexandra'\n",
            " 'Alexandra' 'Alexandra' 'Alexandra' 'Alexandra' 'Alexandra' 'Alexandra'\n",
            " 'Alexandra' 'Alexandra' 'Alex' 'Alex' 'Alex' 'Alex' 'Alex' 'Alex']\n",
            "Accuracy on CZoo data: 100.00%\n"
          ]
        }
      ],
      "source": [
        "classifier = KnnClassifier(k=1, database_labels=dataset_database.labels_string)\n",
        "predictions = classifier(similarity['cosine'])\n",
        "print(\"Predictions for 100 test Images:-\\n\",predictions)\n",
        "accuracy = np.mean(dataset_query.labels_string == predictions)\n",
        "print(\"Accuracy on CZoo data: {:.2f}%\".format(accuracy * 100))"
      ]
    },
    {
      "cell_type": "code",
      "execution_count": null,
      "metadata": {
        "colab": {
          "base_uri": "https://localhost:8080/"
        },
        "id": "fQakimDkoJdy",
        "outputId": "b68ebc76-e16f-4111-814e-93ea86b44e44"
      },
      "outputs": [
        {
          "name": "stdout",
          "output_type": "stream",
          "text": [
            "Precision: 1.0\n",
            "Recall: 1.0\n",
            "F1 Score: 1.0\n"
          ]
        }
      ],
      "source": [
        "from sklearn.metrics import precision_score, recall_score, f1_score\n",
        "\n",
        "# Calculate precision\n",
        "precision = precision_score(dataset_query.labels_string, predictions, average='weighted')\n",
        "\n",
        "# Calculate recall\n",
        "recall = recall_score(dataset_query.labels_string, predictions, average='weighted')\n",
        "\n",
        "# Calculate F1 score\n",
        "f1 = f1_score(dataset_query.labels_string, predictions, average='weighted')\n",
        "\n",
        "print(\"Precision:\", precision)\n",
        "print(\"Recall:\", recall)\n",
        "print(\"F1 Score:\", f1)\n"
      ]
    }
  ],
  "metadata": {
    "colab": {
      "provenance": []
    },
    "kernelspec": {
      "display_name": "Python 3",
      "name": "python3"
    },
    "language_info": {
      "codemirror_mode": {
        "name": "ipython",
        "version": 3
      },
      "file_extension": ".py",
      "mimetype": "text/x-python",
      "name": "python",
      "nbconvert_exporter": "python",
      "pygments_lexer": "ipython3",
      "version": "3.11.7"
    },
    "widgets": {
      "application/vnd.jupyter.widget-state+json": {
        "05583b700b38467d9a0d5e5b3f23acd7": {
          "model_module": "@jupyter-widgets/controls",
          "model_module_version": "1.5.0",
          "model_name": "ProgressStyleModel",
          "state": {
            "_model_module": "@jupyter-widgets/controls",
            "_model_module_version": "1.5.0",
            "_model_name": "ProgressStyleModel",
            "_view_count": null,
            "_view_module": "@jupyter-widgets/base",
            "_view_module_version": "1.2.0",
            "_view_name": "StyleView",
            "bar_color": null,
            "description_width": ""
          }
        },
        "10f2424d26da4a0c914c1e6157644fd0": {
          "model_module": "@jupyter-widgets/controls",
          "model_module_version": "1.5.0",
          "model_name": "HTMLModel",
          "state": {
            "_dom_classes": [],
            "_model_module": "@jupyter-widgets/controls",
            "_model_module_version": "1.5.0",
            "_model_name": "HTMLModel",
            "_view_count": null,
            "_view_module": "@jupyter-widgets/controls",
            "_view_module_version": "1.5.0",
            "_view_name": "HTMLView",
            "description": "",
            "description_tooltip": null,
            "layout": "IPY_MODEL_81b4c9d3c29a403a952fca27a1c2c17f",
            "placeholder": "​",
            "style": "IPY_MODEL_38dfec8ed20549f394d0e2dfe32cc679",
            "value": " 609/609 [00:00&lt;00:00, 36.2kB/s]"
          }
        },
        "15d291dd2c834adb896ef0bad8089f91": {
          "model_module": "@jupyter-widgets/controls",
          "model_module_version": "1.5.0",
          "model_name": "HTMLModel",
          "state": {
            "_dom_classes": [],
            "_model_module": "@jupyter-widgets/controls",
            "_model_module_version": "1.5.0",
            "_model_name": "HTMLModel",
            "_view_count": null,
            "_view_module": "@jupyter-widgets/controls",
            "_view_module_version": "1.5.0",
            "_view_name": "HTMLView",
            "description": "",
            "description_tooltip": null,
            "layout": "IPY_MODEL_5f73e03d78b4410590dbaa4ae1061163",
            "placeholder": "​",
            "style": "IPY_MODEL_361c317e4fed40f3aebff423e137c687",
            "value": " 204M/204M [00:01&lt;00:00, 141MB/s]"
          }
        },
        "1f9938fde2a14dcc8ad851750077b044": {
          "model_module": "@jupyter-widgets/controls",
          "model_module_version": "1.5.0",
          "model_name": "DescriptionStyleModel",
          "state": {
            "_model_module": "@jupyter-widgets/controls",
            "_model_module_version": "1.5.0",
            "_model_name": "DescriptionStyleModel",
            "_view_count": null,
            "_view_module": "@jupyter-widgets/base",
            "_view_module_version": "1.2.0",
            "_view_name": "StyleView",
            "description_width": ""
          }
        },
        "361c317e4fed40f3aebff423e137c687": {
          "model_module": "@jupyter-widgets/controls",
          "model_module_version": "1.5.0",
          "model_name": "DescriptionStyleModel",
          "state": {
            "_model_module": "@jupyter-widgets/controls",
            "_model_module_version": "1.5.0",
            "_model_name": "DescriptionStyleModel",
            "_view_count": null,
            "_view_module": "@jupyter-widgets/base",
            "_view_module_version": "1.2.0",
            "_view_name": "StyleView",
            "description_width": ""
          }
        },
        "38dfec8ed20549f394d0e2dfe32cc679": {
          "model_module": "@jupyter-widgets/controls",
          "model_module_version": "1.5.0",
          "model_name": "DescriptionStyleModel",
          "state": {
            "_model_module": "@jupyter-widgets/controls",
            "_model_module_version": "1.5.0",
            "_model_name": "DescriptionStyleModel",
            "_view_count": null,
            "_view_module": "@jupyter-widgets/base",
            "_view_module_version": "1.2.0",
            "_view_name": "StyleView",
            "description_width": ""
          }
        },
        "553f84ddb8c046e79f0d25af3ea7ce00": {
          "model_module": "@jupyter-widgets/base",
          "model_module_version": "1.2.0",
          "model_name": "LayoutModel",
          "state": {
            "_model_module": "@jupyter-widgets/base",
            "_model_module_version": "1.2.0",
            "_model_name": "LayoutModel",
            "_view_count": null,
            "_view_module": "@jupyter-widgets/base",
            "_view_module_version": "1.2.0",
            "_view_name": "LayoutView",
            "align_content": null,
            "align_items": null,
            "align_self": null,
            "border": null,
            "bottom": null,
            "display": null,
            "flex": null,
            "flex_flow": null,
            "grid_area": null,
            "grid_auto_columns": null,
            "grid_auto_flow": null,
            "grid_auto_rows": null,
            "grid_column": null,
            "grid_gap": null,
            "grid_row": null,
            "grid_template_areas": null,
            "grid_template_columns": null,
            "grid_template_rows": null,
            "height": null,
            "justify_content": null,
            "justify_items": null,
            "left": null,
            "margin": null,
            "max_height": null,
            "max_width": null,
            "min_height": null,
            "min_width": null,
            "object_fit": null,
            "object_position": null,
            "order": null,
            "overflow": null,
            "overflow_x": null,
            "overflow_y": null,
            "padding": null,
            "right": null,
            "top": null,
            "visibility": null,
            "width": null
          }
        },
        "5f73e03d78b4410590dbaa4ae1061163": {
          "model_module": "@jupyter-widgets/base",
          "model_module_version": "1.2.0",
          "model_name": "LayoutModel",
          "state": {
            "_model_module": "@jupyter-widgets/base",
            "_model_module_version": "1.2.0",
            "_model_name": "LayoutModel",
            "_view_count": null,
            "_view_module": "@jupyter-widgets/base",
            "_view_module_version": "1.2.0",
            "_view_name": "LayoutView",
            "align_content": null,
            "align_items": null,
            "align_self": null,
            "border": null,
            "bottom": null,
            "display": null,
            "flex": null,
            "flex_flow": null,
            "grid_area": null,
            "grid_auto_columns": null,
            "grid_auto_flow": null,
            "grid_auto_rows": null,
            "grid_column": null,
            "grid_gap": null,
            "grid_row": null,
            "grid_template_areas": null,
            "grid_template_columns": null,
            "grid_template_rows": null,
            "height": null,
            "justify_content": null,
            "justify_items": null,
            "left": null,
            "margin": null,
            "max_height": null,
            "max_width": null,
            "min_height": null,
            "min_width": null,
            "object_fit": null,
            "object_position": null,
            "order": null,
            "overflow": null,
            "overflow_x": null,
            "overflow_y": null,
            "padding": null,
            "right": null,
            "top": null,
            "visibility": null,
            "width": null
          }
        },
        "7f84a3535e57440581ecc33e5011800b": {
          "model_module": "@jupyter-widgets/controls",
          "model_module_version": "1.5.0",
          "model_name": "FloatProgressModel",
          "state": {
            "_dom_classes": [],
            "_model_module": "@jupyter-widgets/controls",
            "_model_module_version": "1.5.0",
            "_model_name": "FloatProgressModel",
            "_view_count": null,
            "_view_module": "@jupyter-widgets/controls",
            "_view_module_version": "1.5.0",
            "_view_name": "ProgressView",
            "bar_style": "success",
            "description": "",
            "description_tooltip": null,
            "layout": "IPY_MODEL_a5dbdef4bced4945886ba625b3fce054",
            "max": 204267588,
            "min": 0,
            "orientation": "horizontal",
            "style": "IPY_MODEL_05583b700b38467d9a0d5e5b3f23acd7",
            "value": 204267588
          }
        },
        "81b4c9d3c29a403a952fca27a1c2c17f": {
          "model_module": "@jupyter-widgets/base",
          "model_module_version": "1.2.0",
          "model_name": "LayoutModel",
          "state": {
            "_model_module": "@jupyter-widgets/base",
            "_model_module_version": "1.2.0",
            "_model_name": "LayoutModel",
            "_view_count": null,
            "_view_module": "@jupyter-widgets/base",
            "_view_module_version": "1.2.0",
            "_view_name": "LayoutView",
            "align_content": null,
            "align_items": null,
            "align_self": null,
            "border": null,
            "bottom": null,
            "display": null,
            "flex": null,
            "flex_flow": null,
            "grid_area": null,
            "grid_auto_columns": null,
            "grid_auto_flow": null,
            "grid_auto_rows": null,
            "grid_column": null,
            "grid_gap": null,
            "grid_row": null,
            "grid_template_areas": null,
            "grid_template_columns": null,
            "grid_template_rows": null,
            "height": null,
            "justify_content": null,
            "justify_items": null,
            "left": null,
            "margin": null,
            "max_height": null,
            "max_width": null,
            "min_height": null,
            "min_width": null,
            "object_fit": null,
            "object_position": null,
            "order": null,
            "overflow": null,
            "overflow_x": null,
            "overflow_y": null,
            "padding": null,
            "right": null,
            "top": null,
            "visibility": null,
            "width": null
          }
        },
        "8c9204db4ae24af7a9cbb701c3c1a7fc": {
          "model_module": "@jupyter-widgets/controls",
          "model_module_version": "1.5.0",
          "model_name": "ProgressStyleModel",
          "state": {
            "_model_module": "@jupyter-widgets/controls",
            "_model_module_version": "1.5.0",
            "_model_name": "ProgressStyleModel",
            "_view_count": null,
            "_view_module": "@jupyter-widgets/base",
            "_view_module_version": "1.2.0",
            "_view_name": "StyleView",
            "bar_color": null,
            "description_width": ""
          }
        },
        "a00d59e1294a4d19bbbc1591a784e7bb": {
          "model_module": "@jupyter-widgets/base",
          "model_module_version": "1.2.0",
          "model_name": "LayoutModel",
          "state": {
            "_model_module": "@jupyter-widgets/base",
            "_model_module_version": "1.2.0",
            "_model_name": "LayoutModel",
            "_view_count": null,
            "_view_module": "@jupyter-widgets/base",
            "_view_module_version": "1.2.0",
            "_view_name": "LayoutView",
            "align_content": null,
            "align_items": null,
            "align_self": null,
            "border": null,
            "bottom": null,
            "display": null,
            "flex": null,
            "flex_flow": null,
            "grid_area": null,
            "grid_auto_columns": null,
            "grid_auto_flow": null,
            "grid_auto_rows": null,
            "grid_column": null,
            "grid_gap": null,
            "grid_row": null,
            "grid_template_areas": null,
            "grid_template_columns": null,
            "grid_template_rows": null,
            "height": null,
            "justify_content": null,
            "justify_items": null,
            "left": null,
            "margin": null,
            "max_height": null,
            "max_width": null,
            "min_height": null,
            "min_width": null,
            "object_fit": null,
            "object_position": null,
            "order": null,
            "overflow": null,
            "overflow_x": null,
            "overflow_y": null,
            "padding": null,
            "right": null,
            "top": null,
            "visibility": null,
            "width": null
          }
        },
        "a5dbdef4bced4945886ba625b3fce054": {
          "model_module": "@jupyter-widgets/base",
          "model_module_version": "1.2.0",
          "model_name": "LayoutModel",
          "state": {
            "_model_module": "@jupyter-widgets/base",
            "_model_module_version": "1.2.0",
            "_model_name": "LayoutModel",
            "_view_count": null,
            "_view_module": "@jupyter-widgets/base",
            "_view_module_version": "1.2.0",
            "_view_name": "LayoutView",
            "align_content": null,
            "align_items": null,
            "align_self": null,
            "border": null,
            "bottom": null,
            "display": null,
            "flex": null,
            "flex_flow": null,
            "grid_area": null,
            "grid_auto_columns": null,
            "grid_auto_flow": null,
            "grid_auto_rows": null,
            "grid_column": null,
            "grid_gap": null,
            "grid_row": null,
            "grid_template_areas": null,
            "grid_template_columns": null,
            "grid_template_rows": null,
            "height": null,
            "justify_content": null,
            "justify_items": null,
            "left": null,
            "margin": null,
            "max_height": null,
            "max_width": null,
            "min_height": null,
            "min_width": null,
            "object_fit": null,
            "object_position": null,
            "order": null,
            "overflow": null,
            "overflow_x": null,
            "overflow_y": null,
            "padding": null,
            "right": null,
            "top": null,
            "visibility": null,
            "width": null
          }
        },
        "ad32247671c54c20a3d1a4f6872aa84b": {
          "model_module": "@jupyter-widgets/base",
          "model_module_version": "1.2.0",
          "model_name": "LayoutModel",
          "state": {
            "_model_module": "@jupyter-widgets/base",
            "_model_module_version": "1.2.0",
            "_model_name": "LayoutModel",
            "_view_count": null,
            "_view_module": "@jupyter-widgets/base",
            "_view_module_version": "1.2.0",
            "_view_name": "LayoutView",
            "align_content": null,
            "align_items": null,
            "align_self": null,
            "border": null,
            "bottom": null,
            "display": null,
            "flex": null,
            "flex_flow": null,
            "grid_area": null,
            "grid_auto_columns": null,
            "grid_auto_flow": null,
            "grid_auto_rows": null,
            "grid_column": null,
            "grid_gap": null,
            "grid_row": null,
            "grid_template_areas": null,
            "grid_template_columns": null,
            "grid_template_rows": null,
            "height": null,
            "justify_content": null,
            "justify_items": null,
            "left": null,
            "margin": null,
            "max_height": null,
            "max_width": null,
            "min_height": null,
            "min_width": null,
            "object_fit": null,
            "object_position": null,
            "order": null,
            "overflow": null,
            "overflow_x": null,
            "overflow_y": null,
            "padding": null,
            "right": null,
            "top": null,
            "visibility": null,
            "width": null
          }
        },
        "b15287d5d9dd4028bdbb17af6fc62f85": {
          "model_module": "@jupyter-widgets/controls",
          "model_module_version": "1.5.0",
          "model_name": "FloatProgressModel",
          "state": {
            "_dom_classes": [],
            "_model_module": "@jupyter-widgets/controls",
            "_model_module_version": "1.5.0",
            "_model_name": "FloatProgressModel",
            "_view_count": null,
            "_view_module": "@jupyter-widgets/controls",
            "_view_module_version": "1.5.0",
            "_view_name": "ProgressView",
            "bar_style": "success",
            "description": "",
            "description_tooltip": null,
            "layout": "IPY_MODEL_e234fc53bda7404486ea049427a21ac7",
            "max": 609,
            "min": 0,
            "orientation": "horizontal",
            "style": "IPY_MODEL_8c9204db4ae24af7a9cbb701c3c1a7fc",
            "value": 609
          }
        },
        "bed2b6c8f3b34b6ba2e9f735382f2c37": {
          "model_module": "@jupyter-widgets/controls",
          "model_module_version": "1.5.0",
          "model_name": "HBoxModel",
          "state": {
            "_dom_classes": [],
            "_model_module": "@jupyter-widgets/controls",
            "_model_module_version": "1.5.0",
            "_model_name": "HBoxModel",
            "_view_count": null,
            "_view_module": "@jupyter-widgets/controls",
            "_view_module_version": "1.5.0",
            "_view_name": "HBoxView",
            "box_style": "",
            "children": [
              "IPY_MODEL_fb5557e6c4b84924937ebeb8fe0ea03d",
              "IPY_MODEL_7f84a3535e57440581ecc33e5011800b",
              "IPY_MODEL_15d291dd2c834adb896ef0bad8089f91"
            ],
            "layout": "IPY_MODEL_553f84ddb8c046e79f0d25af3ea7ce00"
          }
        },
        "d459febb28eb4177805af9b8a730c3ba": {
          "model_module": "@jupyter-widgets/controls",
          "model_module_version": "1.5.0",
          "model_name": "DescriptionStyleModel",
          "state": {
            "_model_module": "@jupyter-widgets/controls",
            "_model_module_version": "1.5.0",
            "_model_name": "DescriptionStyleModel",
            "_view_count": null,
            "_view_module": "@jupyter-widgets/base",
            "_view_module_version": "1.2.0",
            "_view_name": "StyleView",
            "description_width": ""
          }
        },
        "d58b7582fef44699a0f68e4544232542": {
          "model_module": "@jupyter-widgets/controls",
          "model_module_version": "1.5.0",
          "model_name": "HTMLModel",
          "state": {
            "_dom_classes": [],
            "_model_module": "@jupyter-widgets/controls",
            "_model_module_version": "1.5.0",
            "_model_name": "HTMLModel",
            "_view_count": null,
            "_view_module": "@jupyter-widgets/controls",
            "_view_module_version": "1.5.0",
            "_view_name": "HTMLView",
            "description": "",
            "description_tooltip": null,
            "layout": "IPY_MODEL_fed949eb50d54e7d8d0fc3f0db4ef28d",
            "placeholder": "​",
            "style": "IPY_MODEL_1f9938fde2a14dcc8ad851750077b044",
            "value": "config.json: 100%"
          }
        },
        "e234fc53bda7404486ea049427a21ac7": {
          "model_module": "@jupyter-widgets/base",
          "model_module_version": "1.2.0",
          "model_name": "LayoutModel",
          "state": {
            "_model_module": "@jupyter-widgets/base",
            "_model_module_version": "1.2.0",
            "_model_name": "LayoutModel",
            "_view_count": null,
            "_view_module": "@jupyter-widgets/base",
            "_view_module_version": "1.2.0",
            "_view_name": "LayoutView",
            "align_content": null,
            "align_items": null,
            "align_self": null,
            "border": null,
            "bottom": null,
            "display": null,
            "flex": null,
            "flex_flow": null,
            "grid_area": null,
            "grid_auto_columns": null,
            "grid_auto_flow": null,
            "grid_auto_rows": null,
            "grid_column": null,
            "grid_gap": null,
            "grid_row": null,
            "grid_template_areas": null,
            "grid_template_columns": null,
            "grid_template_rows": null,
            "height": null,
            "justify_content": null,
            "justify_items": null,
            "left": null,
            "margin": null,
            "max_height": null,
            "max_width": null,
            "min_height": null,
            "min_width": null,
            "object_fit": null,
            "object_position": null,
            "order": null,
            "overflow": null,
            "overflow_x": null,
            "overflow_y": null,
            "padding": null,
            "right": null,
            "top": null,
            "visibility": null,
            "width": null
          }
        },
        "f7481adc10dc4478be8b52c281173771": {
          "model_module": "@jupyter-widgets/controls",
          "model_module_version": "1.5.0",
          "model_name": "HBoxModel",
          "state": {
            "_dom_classes": [],
            "_model_module": "@jupyter-widgets/controls",
            "_model_module_version": "1.5.0",
            "_model_name": "HBoxModel",
            "_view_count": null,
            "_view_module": "@jupyter-widgets/controls",
            "_view_module_version": "1.5.0",
            "_view_name": "HBoxView",
            "box_style": "",
            "children": [
              "IPY_MODEL_d58b7582fef44699a0f68e4544232542",
              "IPY_MODEL_b15287d5d9dd4028bdbb17af6fc62f85",
              "IPY_MODEL_10f2424d26da4a0c914c1e6157644fd0"
            ],
            "layout": "IPY_MODEL_ad32247671c54c20a3d1a4f6872aa84b"
          }
        },
        "fb5557e6c4b84924937ebeb8fe0ea03d": {
          "model_module": "@jupyter-widgets/controls",
          "model_module_version": "1.5.0",
          "model_name": "HTMLModel",
          "state": {
            "_dom_classes": [],
            "_model_module": "@jupyter-widgets/controls",
            "_model_module_version": "1.5.0",
            "_model_name": "HTMLModel",
            "_view_count": null,
            "_view_module": "@jupyter-widgets/controls",
            "_view_module_version": "1.5.0",
            "_view_name": "HTMLView",
            "description": "",
            "description_tooltip": null,
            "layout": "IPY_MODEL_a00d59e1294a4d19bbbc1591a784e7bb",
            "placeholder": "​",
            "style": "IPY_MODEL_d459febb28eb4177805af9b8a730c3ba",
            "value": "pytorch_model.bin: 100%"
          }
        },
        "fed949eb50d54e7d8d0fc3f0db4ef28d": {
          "model_module": "@jupyter-widgets/base",
          "model_module_version": "1.2.0",
          "model_name": "LayoutModel",
          "state": {
            "_model_module": "@jupyter-widgets/base",
            "_model_module_version": "1.2.0",
            "_model_name": "LayoutModel",
            "_view_count": null,
            "_view_module": "@jupyter-widgets/base",
            "_view_module_version": "1.2.0",
            "_view_name": "LayoutView",
            "align_content": null,
            "align_items": null,
            "align_self": null,
            "border": null,
            "bottom": null,
            "display": null,
            "flex": null,
            "flex_flow": null,
            "grid_area": null,
            "grid_auto_columns": null,
            "grid_auto_flow": null,
            "grid_auto_rows": null,
            "grid_column": null,
            "grid_gap": null,
            "grid_row": null,
            "grid_template_areas": null,
            "grid_template_columns": null,
            "grid_template_rows": null,
            "height": null,
            "justify_content": null,
            "justify_items": null,
            "left": null,
            "margin": null,
            "max_height": null,
            "max_width": null,
            "min_height": null,
            "min_width": null,
            "object_fit": null,
            "object_position": null,
            "order": null,
            "overflow": null,
            "overflow_x": null,
            "overflow_y": null,
            "padding": null,
            "right": null,
            "top": null,
            "visibility": null,
            "width": null
          }
        }
      }
    }
  },
  "nbformat": 4,
  "nbformat_minor": 0
}
