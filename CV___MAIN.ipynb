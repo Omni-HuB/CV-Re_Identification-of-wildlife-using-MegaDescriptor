{
  "cells": [
    {
      "cell_type": "code",
      "execution_count": null,
      "metadata": {
        "colab": {
          "base_uri": "https://localhost:8080/"
        },
        "id": "xnpxqIVkxhgy",
        "outputId": "1b5fe21c-721e-4ea9-da22-bb7858e98b21"
      },
      "outputs": [
        {
          "output_type": "stream",
          "name": "stdout",
          "text": [
            "Requirement already satisfied: wildlife-datasets in /usr/local/lib/python3.10/dist-packages (1.0.3)\n",
            "Requirement already satisfied: numpy>=1.19.4 in /usr/local/lib/python3.10/dist-packages (from wildlife-datasets) (1.25.2)\n",
            "Requirement already satisfied: pandas>=1.1.4 in /usr/local/lib/python3.10/dist-packages (from wildlife-datasets) (2.0.3)\n",
            "Requirement already satisfied: tqdm>=4.62.3 in /usr/local/lib/python3.10/dist-packages (from wildlife-datasets) (4.66.4)\n",
            "Requirement already satisfied: opencv-python>=4.5.5.62 in /usr/local/lib/python3.10/dist-packages (from wildlife-datasets) (4.8.0.76)\n",
            "Requirement already satisfied: Pillow>=7.1.2 in /usr/local/lib/python3.10/dist-packages (from wildlife-datasets) (9.4.0)\n",
            "Requirement already satisfied: scikit-learn>=1.0.1 in /usr/local/lib/python3.10/dist-packages (from wildlife-datasets) (1.2.2)\n",
            "Requirement already satisfied: matplotlib>=3.5.1 in /usr/local/lib/python3.10/dist-packages (from wildlife-datasets) (3.7.1)\n",
            "Requirement already satisfied: gdown in /usr/local/lib/python3.10/dist-packages (from wildlife-datasets) (5.1.0)\n",
            "Requirement already satisfied: kaggle in /usr/local/lib/python3.10/dist-packages (from wildlife-datasets) (1.6.12)\n",
            "Requirement already satisfied: contourpy>=1.0.1 in /usr/local/lib/python3.10/dist-packages (from matplotlib>=3.5.1->wildlife-datasets) (1.2.1)\n",
            "Requirement already satisfied: cycler>=0.10 in /usr/local/lib/python3.10/dist-packages (from matplotlib>=3.5.1->wildlife-datasets) (0.12.1)\n",
            "Requirement already satisfied: fonttools>=4.22.0 in /usr/local/lib/python3.10/dist-packages (from matplotlib>=3.5.1->wildlife-datasets) (4.51.0)\n",
            "Requirement already satisfied: kiwisolver>=1.0.1 in /usr/local/lib/python3.10/dist-packages (from matplotlib>=3.5.1->wildlife-datasets) (1.4.5)\n",
            "Requirement already satisfied: packaging>=20.0 in /usr/local/lib/python3.10/dist-packages (from matplotlib>=3.5.1->wildlife-datasets) (24.0)\n",
            "Requirement already satisfied: pyparsing>=2.3.1 in /usr/local/lib/python3.10/dist-packages (from matplotlib>=3.5.1->wildlife-datasets) (3.1.2)\n",
            "Requirement already satisfied: python-dateutil>=2.7 in /usr/local/lib/python3.10/dist-packages (from matplotlib>=3.5.1->wildlife-datasets) (2.8.2)\n",
            "Requirement already satisfied: pytz>=2020.1 in /usr/local/lib/python3.10/dist-packages (from pandas>=1.1.4->wildlife-datasets) (2023.4)\n",
            "Requirement already satisfied: tzdata>=2022.1 in /usr/local/lib/python3.10/dist-packages (from pandas>=1.1.4->wildlife-datasets) (2024.1)\n",
            "Requirement already satisfied: scipy>=1.3.2 in /usr/local/lib/python3.10/dist-packages (from scikit-learn>=1.0.1->wildlife-datasets) (1.11.4)\n",
            "Requirement already satisfied: joblib>=1.1.1 in /usr/local/lib/python3.10/dist-packages (from scikit-learn>=1.0.1->wildlife-datasets) (1.4.2)\n",
            "Requirement already satisfied: threadpoolctl>=2.0.0 in /usr/local/lib/python3.10/dist-packages (from scikit-learn>=1.0.1->wildlife-datasets) (3.5.0)\n",
            "Requirement already satisfied: beautifulsoup4 in /usr/local/lib/python3.10/dist-packages (from gdown->wildlife-datasets) (4.12.3)\n",
            "Requirement already satisfied: filelock in /usr/local/lib/python3.10/dist-packages (from gdown->wildlife-datasets) (3.14.0)\n",
            "Requirement already satisfied: requests[socks] in /usr/local/lib/python3.10/dist-packages (from gdown->wildlife-datasets) (2.31.0)\n",
            "Requirement already satisfied: six>=1.10 in /usr/local/lib/python3.10/dist-packages (from kaggle->wildlife-datasets) (1.16.0)\n",
            "Requirement already satisfied: certifi>=2023.7.22 in /usr/local/lib/python3.10/dist-packages (from kaggle->wildlife-datasets) (2024.2.2)\n",
            "Requirement already satisfied: python-slugify in /usr/local/lib/python3.10/dist-packages (from kaggle->wildlife-datasets) (8.0.4)\n",
            "Requirement already satisfied: urllib3 in /usr/local/lib/python3.10/dist-packages (from kaggle->wildlife-datasets) (2.0.7)\n",
            "Requirement already satisfied: bleach in /usr/local/lib/python3.10/dist-packages (from kaggle->wildlife-datasets) (6.1.0)\n",
            "Requirement already satisfied: soupsieve>1.2 in /usr/local/lib/python3.10/dist-packages (from beautifulsoup4->gdown->wildlife-datasets) (2.5)\n",
            "Requirement already satisfied: webencodings in /usr/local/lib/python3.10/dist-packages (from bleach->kaggle->wildlife-datasets) (0.5.1)\n",
            "Requirement already satisfied: text-unidecode>=1.3 in /usr/local/lib/python3.10/dist-packages (from python-slugify->kaggle->wildlife-datasets) (1.3)\n",
            "Requirement already satisfied: charset-normalizer<4,>=2 in /usr/local/lib/python3.10/dist-packages (from requests[socks]->gdown->wildlife-datasets) (3.3.2)\n",
            "Requirement already satisfied: idna<4,>=2.5 in /usr/local/lib/python3.10/dist-packages (from requests[socks]->gdown->wildlife-datasets) (3.7)\n",
            "Requirement already satisfied: PySocks!=1.5.7,>=1.5.6 in /usr/local/lib/python3.10/dist-packages (from requests[socks]->gdown->wildlife-datasets) (1.7.1)\n"
          ]
        }
      ],
      "source": [
        "pip install wildlife-datasets\n"
      ]
    },
    {
      "cell_type": "code",
      "source": [
        "pip install wildlife-tools"
      ],
      "metadata": {
        "colab": {
          "base_uri": "https://localhost:8080/"
        },
        "id": "ymOorYH2XpQB",
        "outputId": "bae5106d-50ac-4bf8-a433-7bbe7af725a6"
      },
      "execution_count": null,
      "outputs": [
        {
          "output_type": "stream",
          "name": "stdout",
          "text": [
            "Collecting wildlife-tools\n",
            "  Downloading wildlife_tools-0.0.9-py3-none-any.whl (25 kB)\n",
            "Requirement already satisfied: torch>=2.0.1 in /usr/local/lib/python3.10/dist-packages (from wildlife-tools) (2.2.1+cu121)\n",
            "Collecting timm>=0.9.2 (from wildlife-tools)\n",
            "  Downloading timm-0.9.16-py3-none-any.whl (2.2 MB)\n",
            "\u001b[2K     \u001b[90m━━━━━━━━━━━━━━━━━━━━━━━━━━━━━━━━━━━━━━━━\u001b[0m \u001b[32m2.2/2.2 MB\u001b[0m \u001b[31m22.2 MB/s\u001b[0m eta \u001b[36m0:00:00\u001b[0m\n",
            "\u001b[?25hRequirement already satisfied: numpy>=1.19.4 in /usr/local/lib/python3.10/dist-packages (from wildlife-tools) (1.25.2)\n",
            "Requirement already satisfied: pandas>=1.1.4 in /usr/local/lib/python3.10/dist-packages (from wildlife-tools) (2.0.3)\n",
            "Requirement already satisfied: tqdm>=4.62.3 in /usr/local/lib/python3.10/dist-packages (from wildlife-tools) (4.66.4)\n",
            "Requirement already satisfied: opencv-python>=4.5.5.62 in /usr/local/lib/python3.10/dist-packages (from wildlife-tools) (4.8.0.76)\n",
            "Requirement already satisfied: Pillow>=7.1.2 in /usr/local/lib/python3.10/dist-packages (from wildlife-tools) (9.4.0)\n",
            "Requirement already satisfied: scikit-learn>=1.0.1 in /usr/local/lib/python3.10/dist-packages (from wildlife-tools) (1.2.2)\n",
            "Requirement already satisfied: pycocotools in /usr/local/lib/python3.10/dist-packages (from wildlife-tools) (2.0.7)\n",
            "Requirement already satisfied: tensorboard in /usr/local/lib/python3.10/dist-packages (from wildlife-tools) (2.15.2)\n",
            "Collecting pytorch-metric-learning (from wildlife-tools)\n",
            "  Downloading pytorch_metric_learning-2.5.0-py3-none-any.whl (119 kB)\n",
            "\u001b[2K     \u001b[90m━━━━━━━━━━━━━━━━━━━━━━━━━━━━━━━━━━━━━━━━\u001b[0m \u001b[32m119.1/119.1 kB\u001b[0m \u001b[31m16.8 MB/s\u001b[0m eta \u001b[36m0:00:00\u001b[0m\n",
            "\u001b[?25hRequirement already satisfied: transformers>=4.30.2 in /usr/local/lib/python3.10/dist-packages (from wildlife-tools) (4.40.2)\n",
            "Collecting wildlife-datasets>=0.3.4 (from wildlife-tools)\n",
            "  Downloading wildlife_datasets-1.0.3-py3-none-any.whl (43 kB)\n",
            "\u001b[2K     \u001b[90m━━━━━━━━━━━━━━━━━━━━━━━━━━━━━━━━━━━━━━━━\u001b[0m \u001b[32m43.3/43.3 kB\u001b[0m \u001b[31m6.7 MB/s\u001b[0m eta \u001b[36m0:00:00\u001b[0m\n",
            "\u001b[?25hCollecting kornia>=0.6.12 (from wildlife-tools)\n",
            "  Downloading kornia-0.7.2-py2.py3-none-any.whl (825 kB)\n",
            "\u001b[2K     \u001b[90m━━━━━━━━━━━━━━━━━━━━━━━━━━━━━━━━━━━━━━━━\u001b[0m \u001b[32m825.4/825.4 kB\u001b[0m \u001b[31m58.3 MB/s\u001b[0m eta \u001b[36m0:00:00\u001b[0m\n",
            "\u001b[?25hCollecting faiss-gpu (from wildlife-tools)\n",
            "  Downloading faiss_gpu-1.7.2-cp310-cp310-manylinux_2_17_x86_64.manylinux2014_x86_64.whl (85.5 MB)\n",
            "\u001b[2K     \u001b[90m━━━━━━━━━━━━━━━━━━━━━━━━━━━━━━━━━━━━━━━━\u001b[0m \u001b[32m85.5/85.5 MB\u001b[0m \u001b[31m10.6 MB/s\u001b[0m eta \u001b[36m0:00:00\u001b[0m\n",
            "\u001b[?25hCollecting kornia-rs>=0.1.0 (from kornia>=0.6.12->wildlife-tools)\n",
            "  Downloading kornia_rs-0.1.3-cp310-cp310-manylinux_2_17_x86_64.manylinux2014_x86_64.whl (2.4 MB)\n",
            "\u001b[2K     \u001b[90m━━━━━━━━━━━━━━━━━━━━━━━━━━━━━━━━━━━━━━━━\u001b[0m \u001b[32m2.4/2.4 MB\u001b[0m \u001b[31m84.5 MB/s\u001b[0m eta \u001b[36m0:00:00\u001b[0m\n",
            "\u001b[?25hRequirement already satisfied: packaging in /usr/local/lib/python3.10/dist-packages (from kornia>=0.6.12->wildlife-tools) (24.0)\n",
            "Requirement already satisfied: python-dateutil>=2.8.2 in /usr/local/lib/python3.10/dist-packages (from pandas>=1.1.4->wildlife-tools) (2.8.2)\n",
            "Requirement already satisfied: pytz>=2020.1 in /usr/local/lib/python3.10/dist-packages (from pandas>=1.1.4->wildlife-tools) (2023.4)\n",
            "Requirement already satisfied: tzdata>=2022.1 in /usr/local/lib/python3.10/dist-packages (from pandas>=1.1.4->wildlife-tools) (2024.1)\n",
            "Requirement already satisfied: scipy>=1.3.2 in /usr/local/lib/python3.10/dist-packages (from scikit-learn>=1.0.1->wildlife-tools) (1.11.4)\n",
            "Requirement already satisfied: joblib>=1.1.1 in /usr/local/lib/python3.10/dist-packages (from scikit-learn>=1.0.1->wildlife-tools) (1.4.2)\n",
            "Requirement already satisfied: threadpoolctl>=2.0.0 in /usr/local/lib/python3.10/dist-packages (from scikit-learn>=1.0.1->wildlife-tools) (3.5.0)\n",
            "Requirement already satisfied: torchvision in /usr/local/lib/python3.10/dist-packages (from timm>=0.9.2->wildlife-tools) (0.17.1+cu121)\n",
            "Requirement already satisfied: pyyaml in /usr/local/lib/python3.10/dist-packages (from timm>=0.9.2->wildlife-tools) (6.0.1)\n",
            "Requirement already satisfied: huggingface_hub in /usr/local/lib/python3.10/dist-packages (from timm>=0.9.2->wildlife-tools) (0.20.3)\n",
            "Requirement already satisfied: safetensors in /usr/local/lib/python3.10/dist-packages (from timm>=0.9.2->wildlife-tools) (0.4.3)\n",
            "Requirement already satisfied: filelock in /usr/local/lib/python3.10/dist-packages (from torch>=2.0.1->wildlife-tools) (3.14.0)\n",
            "Requirement already satisfied: typing-extensions>=4.8.0 in /usr/local/lib/python3.10/dist-packages (from torch>=2.0.1->wildlife-tools) (4.11.0)\n",
            "Requirement already satisfied: sympy in /usr/local/lib/python3.10/dist-packages (from torch>=2.0.1->wildlife-tools) (1.12)\n",
            "Requirement already satisfied: networkx in /usr/local/lib/python3.10/dist-packages (from torch>=2.0.1->wildlife-tools) (3.3)\n",
            "Requirement already satisfied: jinja2 in /usr/local/lib/python3.10/dist-packages (from torch>=2.0.1->wildlife-tools) (3.1.4)\n",
            "Requirement already satisfied: fsspec in /usr/local/lib/python3.10/dist-packages (from torch>=2.0.1->wildlife-tools) (2023.6.0)\n",
            "Collecting nvidia-cuda-nvrtc-cu12==12.1.105 (from torch>=2.0.1->wildlife-tools)\n",
            "  Using cached nvidia_cuda_nvrtc_cu12-12.1.105-py3-none-manylinux1_x86_64.whl (23.7 MB)\n",
            "Collecting nvidia-cuda-runtime-cu12==12.1.105 (from torch>=2.0.1->wildlife-tools)\n",
            "  Using cached nvidia_cuda_runtime_cu12-12.1.105-py3-none-manylinux1_x86_64.whl (823 kB)\n",
            "Collecting nvidia-cuda-cupti-cu12==12.1.105 (from torch>=2.0.1->wildlife-tools)\n",
            "  Using cached nvidia_cuda_cupti_cu12-12.1.105-py3-none-manylinux1_x86_64.whl (14.1 MB)\n",
            "Collecting nvidia-cudnn-cu12==8.9.2.26 (from torch>=2.0.1->wildlife-tools)\n",
            "  Using cached nvidia_cudnn_cu12-8.9.2.26-py3-none-manylinux1_x86_64.whl (731.7 MB)\n",
            "Collecting nvidia-cublas-cu12==12.1.3.1 (from torch>=2.0.1->wildlife-tools)\n",
            "  Using cached nvidia_cublas_cu12-12.1.3.1-py3-none-manylinux1_x86_64.whl (410.6 MB)\n",
            "Collecting nvidia-cufft-cu12==11.0.2.54 (from torch>=2.0.1->wildlife-tools)\n",
            "  Using cached nvidia_cufft_cu12-11.0.2.54-py3-none-manylinux1_x86_64.whl (121.6 MB)\n",
            "Collecting nvidia-curand-cu12==10.3.2.106 (from torch>=2.0.1->wildlife-tools)\n",
            "  Using cached nvidia_curand_cu12-10.3.2.106-py3-none-manylinux1_x86_64.whl (56.5 MB)\n",
            "Collecting nvidia-cusolver-cu12==11.4.5.107 (from torch>=2.0.1->wildlife-tools)\n",
            "  Using cached nvidia_cusolver_cu12-11.4.5.107-py3-none-manylinux1_x86_64.whl (124.2 MB)\n",
            "Collecting nvidia-cusparse-cu12==12.1.0.106 (from torch>=2.0.1->wildlife-tools)\n",
            "  Using cached nvidia_cusparse_cu12-12.1.0.106-py3-none-manylinux1_x86_64.whl (196.0 MB)\n",
            "Collecting nvidia-nccl-cu12==2.19.3 (from torch>=2.0.1->wildlife-tools)\n",
            "  Using cached nvidia_nccl_cu12-2.19.3-py3-none-manylinux1_x86_64.whl (166.0 MB)\n",
            "Collecting nvidia-nvtx-cu12==12.1.105 (from torch>=2.0.1->wildlife-tools)\n",
            "  Using cached nvidia_nvtx_cu12-12.1.105-py3-none-manylinux1_x86_64.whl (99 kB)\n",
            "Requirement already satisfied: triton==2.2.0 in /usr/local/lib/python3.10/dist-packages (from torch>=2.0.1->wildlife-tools) (2.2.0)\n",
            "Collecting nvidia-nvjitlink-cu12 (from nvidia-cusolver-cu12==11.4.5.107->torch>=2.0.1->wildlife-tools)\n",
            "  Using cached nvidia_nvjitlink_cu12-12.4.127-py3-none-manylinux2014_x86_64.whl (21.1 MB)\n",
            "Requirement already satisfied: regex!=2019.12.17 in /usr/local/lib/python3.10/dist-packages (from transformers>=4.30.2->wildlife-tools) (2023.12.25)\n",
            "Requirement already satisfied: requests in /usr/local/lib/python3.10/dist-packages (from transformers>=4.30.2->wildlife-tools) (2.31.0)\n",
            "Requirement already satisfied: tokenizers<0.20,>=0.19 in /usr/local/lib/python3.10/dist-packages (from transformers>=4.30.2->wildlife-tools) (0.19.1)\n",
            "Requirement already satisfied: matplotlib>=3.5.1 in /usr/local/lib/python3.10/dist-packages (from wildlife-datasets>=0.3.4->wildlife-tools) (3.7.1)\n",
            "Requirement already satisfied: gdown in /usr/local/lib/python3.10/dist-packages (from wildlife-datasets>=0.3.4->wildlife-tools) (5.1.0)\n",
            "Requirement already satisfied: kaggle in /usr/local/lib/python3.10/dist-packages (from wildlife-datasets>=0.3.4->wildlife-tools) (1.6.12)\n",
            "Requirement already satisfied: absl-py>=0.4 in /usr/local/lib/python3.10/dist-packages (from tensorboard->wildlife-tools) (1.4.0)\n",
            "Requirement already satisfied: grpcio>=1.48.2 in /usr/local/lib/python3.10/dist-packages (from tensorboard->wildlife-tools) (1.63.0)\n",
            "Requirement already satisfied: google-auth<3,>=1.6.3 in /usr/local/lib/python3.10/dist-packages (from tensorboard->wildlife-tools) (2.27.0)\n",
            "Requirement already satisfied: google-auth-oauthlib<2,>=0.5 in /usr/local/lib/python3.10/dist-packages (from tensorboard->wildlife-tools) (1.2.0)\n",
            "Requirement already satisfied: markdown>=2.6.8 in /usr/local/lib/python3.10/dist-packages (from tensorboard->wildlife-tools) (3.6)\n",
            "Requirement already satisfied: protobuf!=4.24.0,>=3.19.6 in /usr/local/lib/python3.10/dist-packages (from tensorboard->wildlife-tools) (3.20.3)\n",
            "Requirement already satisfied: setuptools>=41.0.0 in /usr/local/lib/python3.10/dist-packages (from tensorboard->wildlife-tools) (67.7.2)\n",
            "Requirement already satisfied: six>1.9 in /usr/local/lib/python3.10/dist-packages (from tensorboard->wildlife-tools) (1.16.0)\n",
            "Requirement already satisfied: tensorboard-data-server<0.8.0,>=0.7.0 in /usr/local/lib/python3.10/dist-packages (from tensorboard->wildlife-tools) (0.7.2)\n",
            "Requirement already satisfied: werkzeug>=1.0.1 in /usr/local/lib/python3.10/dist-packages (from tensorboard->wildlife-tools) (3.0.3)\n",
            "Requirement already satisfied: cachetools<6.0,>=2.0.0 in /usr/local/lib/python3.10/dist-packages (from google-auth<3,>=1.6.3->tensorboard->wildlife-tools) (5.3.3)\n",
            "Requirement already satisfied: pyasn1-modules>=0.2.1 in /usr/local/lib/python3.10/dist-packages (from google-auth<3,>=1.6.3->tensorboard->wildlife-tools) (0.4.0)\n",
            "Requirement already satisfied: rsa<5,>=3.1.4 in /usr/local/lib/python3.10/dist-packages (from google-auth<3,>=1.6.3->tensorboard->wildlife-tools) (4.9)\n",
            "Requirement already satisfied: requests-oauthlib>=0.7.0 in /usr/local/lib/python3.10/dist-packages (from google-auth-oauthlib<2,>=0.5->tensorboard->wildlife-tools) (1.3.1)\n",
            "Requirement already satisfied: contourpy>=1.0.1 in /usr/local/lib/python3.10/dist-packages (from matplotlib>=3.5.1->wildlife-datasets>=0.3.4->wildlife-tools) (1.2.1)\n",
            "Requirement already satisfied: cycler>=0.10 in /usr/local/lib/python3.10/dist-packages (from matplotlib>=3.5.1->wildlife-datasets>=0.3.4->wildlife-tools) (0.12.1)\n",
            "Requirement already satisfied: fonttools>=4.22.0 in /usr/local/lib/python3.10/dist-packages (from matplotlib>=3.5.1->wildlife-datasets>=0.3.4->wildlife-tools) (4.51.0)\n",
            "Requirement already satisfied: kiwisolver>=1.0.1 in /usr/local/lib/python3.10/dist-packages (from matplotlib>=3.5.1->wildlife-datasets>=0.3.4->wildlife-tools) (1.4.5)\n",
            "Requirement already satisfied: pyparsing>=2.3.1 in /usr/local/lib/python3.10/dist-packages (from matplotlib>=3.5.1->wildlife-datasets>=0.3.4->wildlife-tools) (3.1.2)\n",
            "Requirement already satisfied: charset-normalizer<4,>=2 in /usr/local/lib/python3.10/dist-packages (from requests->transformers>=4.30.2->wildlife-tools) (3.3.2)\n",
            "Requirement already satisfied: idna<4,>=2.5 in /usr/local/lib/python3.10/dist-packages (from requests->transformers>=4.30.2->wildlife-tools) (3.7)\n",
            "Requirement already satisfied: urllib3<3,>=1.21.1 in /usr/local/lib/python3.10/dist-packages (from requests->transformers>=4.30.2->wildlife-tools) (2.0.7)\n",
            "Requirement already satisfied: certifi>=2017.4.17 in /usr/local/lib/python3.10/dist-packages (from requests->transformers>=4.30.2->wildlife-tools) (2024.2.2)\n",
            "Requirement already satisfied: MarkupSafe>=2.1.1 in /usr/local/lib/python3.10/dist-packages (from werkzeug>=1.0.1->tensorboard->wildlife-tools) (2.1.5)\n",
            "Requirement already satisfied: beautifulsoup4 in /usr/local/lib/python3.10/dist-packages (from gdown->wildlife-datasets>=0.3.4->wildlife-tools) (4.12.3)\n",
            "Requirement already satisfied: python-slugify in /usr/local/lib/python3.10/dist-packages (from kaggle->wildlife-datasets>=0.3.4->wildlife-tools) (8.0.4)\n",
            "Requirement already satisfied: bleach in /usr/local/lib/python3.10/dist-packages (from kaggle->wildlife-datasets>=0.3.4->wildlife-tools) (6.1.0)\n",
            "Requirement already satisfied: mpmath>=0.19 in /usr/local/lib/python3.10/dist-packages (from sympy->torch>=2.0.1->wildlife-tools) (1.3.0)\n",
            "Requirement already satisfied: pyasn1<0.7.0,>=0.4.6 in /usr/local/lib/python3.10/dist-packages (from pyasn1-modules>=0.2.1->google-auth<3,>=1.6.3->tensorboard->wildlife-tools) (0.6.0)\n",
            "Requirement already satisfied: oauthlib>=3.0.0 in /usr/local/lib/python3.10/dist-packages (from requests-oauthlib>=0.7.0->google-auth-oauthlib<2,>=0.5->tensorboard->wildlife-tools) (3.2.2)\n",
            "Requirement already satisfied: soupsieve>1.2 in /usr/local/lib/python3.10/dist-packages (from beautifulsoup4->gdown->wildlife-datasets>=0.3.4->wildlife-tools) (2.5)\n",
            "Requirement already satisfied: webencodings in /usr/local/lib/python3.10/dist-packages (from bleach->kaggle->wildlife-datasets>=0.3.4->wildlife-tools) (0.5.1)\n",
            "Requirement already satisfied: text-unidecode>=1.3 in /usr/local/lib/python3.10/dist-packages (from python-slugify->kaggle->wildlife-datasets>=0.3.4->wildlife-tools) (1.3)\n",
            "Requirement already satisfied: PySocks!=1.5.7,>=1.5.6 in /usr/local/lib/python3.10/dist-packages (from requests->transformers>=4.30.2->wildlife-tools) (1.7.1)\n",
            "Installing collected packages: faiss-gpu, nvidia-nvtx-cu12, nvidia-nvjitlink-cu12, nvidia-nccl-cu12, nvidia-curand-cu12, nvidia-cufft-cu12, nvidia-cuda-runtime-cu12, nvidia-cuda-nvrtc-cu12, nvidia-cuda-cupti-cu12, nvidia-cublas-cu12, kornia-rs, nvidia-cusparse-cu12, nvidia-cudnn-cu12, nvidia-cusolver-cu12, wildlife-datasets, pytorch-metric-learning, kornia, timm, wildlife-tools\n",
            "Successfully installed faiss-gpu-1.7.2 kornia-0.7.2 kornia-rs-0.1.3 nvidia-cublas-cu12-12.1.3.1 nvidia-cuda-cupti-cu12-12.1.105 nvidia-cuda-nvrtc-cu12-12.1.105 nvidia-cuda-runtime-cu12-12.1.105 nvidia-cudnn-cu12-8.9.2.26 nvidia-cufft-cu12-11.0.2.54 nvidia-curand-cu12-10.3.2.106 nvidia-cusolver-cu12-11.4.5.107 nvidia-cusparse-cu12-12.1.0.106 nvidia-nccl-cu12-2.19.3 nvidia-nvjitlink-cu12-12.4.127 nvidia-nvtx-cu12-12.1.105 pytorch-metric-learning-2.5.0 timm-0.9.16 wildlife-datasets-1.0.3 wildlife-tools-0.0.9\n"
          ]
        }
      ]
    },
    {
      "cell_type": "code",
      "source": [
        "pip install timm"
      ],
      "metadata": {
        "colab": {
          "base_uri": "https://localhost:8080/"
        },
        "id": "OfItgSzpR435",
        "outputId": "3502800b-580b-49f8-b630-ddab30c9e43a"
      },
      "execution_count": null,
      "outputs": [
        {
          "output_type": "stream",
          "name": "stdout",
          "text": [
            "Requirement already satisfied: timm in /usr/local/lib/python3.10/dist-packages (0.9.16)\n",
            "Requirement already satisfied: torch in /usr/local/lib/python3.10/dist-packages (from timm) (2.2.1+cu121)\n",
            "Requirement already satisfied: torchvision in /usr/local/lib/python3.10/dist-packages (from timm) (0.17.1+cu121)\n",
            "Requirement already satisfied: pyyaml in /usr/local/lib/python3.10/dist-packages (from timm) (6.0.1)\n",
            "Requirement already satisfied: huggingface_hub in /usr/local/lib/python3.10/dist-packages (from timm) (0.20.3)\n",
            "Requirement already satisfied: safetensors in /usr/local/lib/python3.10/dist-packages (from timm) (0.4.3)\n",
            "Requirement already satisfied: filelock in /usr/local/lib/python3.10/dist-packages (from huggingface_hub->timm) (3.14.0)\n",
            "Requirement already satisfied: fsspec>=2023.5.0 in /usr/local/lib/python3.10/dist-packages (from huggingface_hub->timm) (2023.6.0)\n",
            "Requirement already satisfied: requests in /usr/local/lib/python3.10/dist-packages (from huggingface_hub->timm) (2.31.0)\n",
            "Requirement already satisfied: tqdm>=4.42.1 in /usr/local/lib/python3.10/dist-packages (from huggingface_hub->timm) (4.66.4)\n",
            "Requirement already satisfied: typing-extensions>=3.7.4.3 in /usr/local/lib/python3.10/dist-packages (from huggingface_hub->timm) (4.11.0)\n",
            "Requirement already satisfied: packaging>=20.9 in /usr/local/lib/python3.10/dist-packages (from huggingface_hub->timm) (24.0)\n",
            "Requirement already satisfied: sympy in /usr/local/lib/python3.10/dist-packages (from torch->timm) (1.12)\n",
            "Requirement already satisfied: networkx in /usr/local/lib/python3.10/dist-packages (from torch->timm) (3.3)\n",
            "Requirement already satisfied: jinja2 in /usr/local/lib/python3.10/dist-packages (from torch->timm) (3.1.4)\n",
            "Requirement already satisfied: nvidia-cuda-nvrtc-cu12==12.1.105 in /usr/local/lib/python3.10/dist-packages (from torch->timm) (12.1.105)\n",
            "Requirement already satisfied: nvidia-cuda-runtime-cu12==12.1.105 in /usr/local/lib/python3.10/dist-packages (from torch->timm) (12.1.105)\n",
            "Requirement already satisfied: nvidia-cuda-cupti-cu12==12.1.105 in /usr/local/lib/python3.10/dist-packages (from torch->timm) (12.1.105)\n",
            "Requirement already satisfied: nvidia-cudnn-cu12==8.9.2.26 in /usr/local/lib/python3.10/dist-packages (from torch->timm) (8.9.2.26)\n",
            "Requirement already satisfied: nvidia-cublas-cu12==12.1.3.1 in /usr/local/lib/python3.10/dist-packages (from torch->timm) (12.1.3.1)\n",
            "Requirement already satisfied: nvidia-cufft-cu12==11.0.2.54 in /usr/local/lib/python3.10/dist-packages (from torch->timm) (11.0.2.54)\n",
            "Requirement already satisfied: nvidia-curand-cu12==10.3.2.106 in /usr/local/lib/python3.10/dist-packages (from torch->timm) (10.3.2.106)\n",
            "Requirement already satisfied: nvidia-cusolver-cu12==11.4.5.107 in /usr/local/lib/python3.10/dist-packages (from torch->timm) (11.4.5.107)\n",
            "Requirement already satisfied: nvidia-cusparse-cu12==12.1.0.106 in /usr/local/lib/python3.10/dist-packages (from torch->timm) (12.1.0.106)\n",
            "Requirement already satisfied: nvidia-nccl-cu12==2.19.3 in /usr/local/lib/python3.10/dist-packages (from torch->timm) (2.19.3)\n",
            "Requirement already satisfied: nvidia-nvtx-cu12==12.1.105 in /usr/local/lib/python3.10/dist-packages (from torch->timm) (12.1.105)\n",
            "Requirement already satisfied: triton==2.2.0 in /usr/local/lib/python3.10/dist-packages (from torch->timm) (2.2.0)\n",
            "Requirement already satisfied: nvidia-nvjitlink-cu12 in /usr/local/lib/python3.10/dist-packages (from nvidia-cusolver-cu12==11.4.5.107->torch->timm) (12.4.127)\n",
            "Requirement already satisfied: numpy in /usr/local/lib/python3.10/dist-packages (from torchvision->timm) (1.25.2)\n",
            "Requirement already satisfied: pillow!=8.3.*,>=5.3.0 in /usr/local/lib/python3.10/dist-packages (from torchvision->timm) (9.4.0)\n",
            "Requirement already satisfied: MarkupSafe>=2.0 in /usr/local/lib/python3.10/dist-packages (from jinja2->torch->timm) (2.1.5)\n",
            "Requirement already satisfied: charset-normalizer<4,>=2 in /usr/local/lib/python3.10/dist-packages (from requests->huggingface_hub->timm) (3.3.2)\n",
            "Requirement already satisfied: idna<4,>=2.5 in /usr/local/lib/python3.10/dist-packages (from requests->huggingface_hub->timm) (3.7)\n",
            "Requirement already satisfied: urllib3<3,>=1.21.1 in /usr/local/lib/python3.10/dist-packages (from requests->huggingface_hub->timm) (2.0.7)\n",
            "Requirement already satisfied: certifi>=2017.4.17 in /usr/local/lib/python3.10/dist-packages (from requests->huggingface_hub->timm) (2024.2.2)\n",
            "Requirement already satisfied: mpmath>=0.19 in /usr/local/lib/python3.10/dist-packages (from sympy->torch->timm) (1.3.0)\n"
          ]
        }
      ]
    },
    {
      "cell_type": "markdown",
      "source": [
        "**Importing Wildlife data set and Wildlife tools**\n",
        "\n"
      ],
      "metadata": {
        "id": "gPGd4yapYVsT"
      }
    },
    {
      "cell_type": "code",
      "source": [
        "import timm\n",
        "import numpy as np\n",
        "from wildlife_datasets.datasets import MacaqueFaces\n",
        "from wildlife_tools.data import WildlifeDataset\n",
        "import torchvision.transforms as T\n",
        "from wildlife_datasets import datasets, splits\n",
        "from wildlife_tools.features import DeepFeatures\n",
        "from wildlife_tools.similarity import CosineSimilarity\n",
        "from wildlife_tools.inference import KnnClassifier"
      ],
      "metadata": {
        "id": "8XfftqyQWm58"
      },
      "execution_count": null,
      "outputs": []
    },
    {
      "cell_type": "markdown",
      "source": [
        "**MacaqueFaces Dataset**"
      ],
      "metadata": {
        "id": "mM_PNdZtZycu"
      }
    },
    {
      "cell_type": "code",
      "source": [
        "# Download dataset (if not already downloaded)\n",
        "datasets.MacaqueFaces.get_data('../data/MacaqueFaces')\n",
        "\n",
        "# Load dataset metadata\n",
        "metadata = datasets.MacaqueFaces('../data/MacaqueFaces')\n",
        "transform = T.Compose([T.Resize([224, 224]), T.ToTensor(), T.Normalize(mean=(0.485, 0.456, 0.406), std=(0.229, 0.224, 0.225))])\n",
        "dataset = WildlifeDataset(metadata.df, metadata.root, transform=transform)"
      ],
      "metadata": {
        "colab": {
          "base_uri": "https://localhost:8080/"
        },
        "id": "P7TwSvfxYmWg",
        "outputId": "c12ce068-371b-4594-83ff-d1ea2736870d"
      },
      "execution_count": null,
      "outputs": [
        {
          "output_type": "stream",
          "name": "stdout",
          "text": [
            "DATASET MacaqueFaces: DOWNLOADING STARTED.\n",
            "You are trying to download an already downloaded dataset.\n",
            "        This message may have happened to due interrupted download or extract.\n",
            "        To force the download use the `force=True` keyword such as\n",
            "        get_data(..., force=True) or download(..., force=True).\n",
            "        \n"
          ]
        }
      ]
    },
    {
      "cell_type": "code",
      "execution_count": null,
      "metadata": {
        "id": "RGS3aZZKx7gt"
      },
      "outputs": [],
      "source": [
        "dataset_database = WildlifeDataset(metadata.df.iloc[100:,:], metadata.root, transform=transform)\n",
        "dataset_query = WildlifeDataset(metadata.df.iloc[:100,:], metadata.root, transform=transform)"
      ]
    },
    {
      "cell_type": "markdown",
      "source": [
        "**Importing the pretrain Model**"
      ],
      "metadata": {
        "id": "0DwHb3asXy0c"
      }
    },
    {
      "cell_type": "code",
      "source": [
        "name = 'hf-hub:BVRA/MegaDescriptor-T-224'\n",
        "extractor = DeepFeatures(timm.create_model(name, num_classes=0, pretrained=True))\n",
        "query, database = extractor(dataset_query), extractor(dataset_database)"
      ],
      "metadata": {
        "colab": {
          "base_uri": "https://localhost:8080/",
          "height": 275,
          "referenced_widgets": [
            "f7481adc10dc4478be8b52c281173771",
            "d58b7582fef44699a0f68e4544232542",
            "b15287d5d9dd4028bdbb17af6fc62f85",
            "10f2424d26da4a0c914c1e6157644fd0",
            "ad32247671c54c20a3d1a4f6872aa84b",
            "fed949eb50d54e7d8d0fc3f0db4ef28d",
            "1f9938fde2a14dcc8ad851750077b044",
            "e234fc53bda7404486ea049427a21ac7",
            "8c9204db4ae24af7a9cbb701c3c1a7fc",
            "81b4c9d3c29a403a952fca27a1c2c17f",
            "38dfec8ed20549f394d0e2dfe32cc679",
            "bed2b6c8f3b34b6ba2e9f735382f2c37",
            "fb5557e6c4b84924937ebeb8fe0ea03d",
            "7f84a3535e57440581ecc33e5011800b",
            "15d291dd2c834adb896ef0bad8089f91",
            "553f84ddb8c046e79f0d25af3ea7ce00",
            "a00d59e1294a4d19bbbc1591a784e7bb",
            "d459febb28eb4177805af9b8a730c3ba",
            "a5dbdef4bced4945886ba625b3fce054",
            "05583b700b38467d9a0d5e5b3f23acd7",
            "5f73e03d78b4410590dbaa4ae1061163",
            "361c317e4fed40f3aebff423e137c687"
          ]
        },
        "id": "u1t_Q09FW6Xg",
        "outputId": "b78c9aae-1d46-45e3-869b-1de73422a7d5"
      },
      "execution_count": null,
      "outputs": [
        {
          "output_type": "stream",
          "name": "stderr",
          "text": [
            "/usr/local/lib/python3.10/dist-packages/huggingface_hub/utils/_token.py:88: UserWarning: \n",
            "The secret `HF_TOKEN` does not exist in your Colab secrets.\n",
            "To authenticate with the Hugging Face Hub, create a token in your settings tab (https://huggingface.co/settings/tokens), set it as secret in your Google Colab and restart your session.\n",
            "You will be able to reuse this secret in all of your notebooks.\n",
            "Please note that authentication is recommended but still optional to access public models or datasets.\n",
            "  warnings.warn(\n"
          ]
        },
        {
          "output_type": "display_data",
          "data": {
            "text/plain": [
              "config.json:   0%|          | 0.00/609 [00:00<?, ?B/s]"
            ],
            "application/vnd.jupyter.widget-view+json": {
              "version_major": 2,
              "version_minor": 0,
              "model_id": "f7481adc10dc4478be8b52c281173771"
            }
          },
          "metadata": {}
        },
        {
          "output_type": "display_data",
          "data": {
            "text/plain": [
              "pytorch_model.bin:   0%|          | 0.00/204M [00:00<?, ?B/s]"
            ],
            "application/vnd.jupyter.widget-view+json": {
              "version_major": 2,
              "version_minor": 0,
              "model_id": "bed2b6c8f3b34b6ba2e9f735382f2c37"
            }
          },
          "metadata": {}
        },
        {
          "output_type": "stream",
          "name": "stderr",
          "text": [
            "\r  0%|                                                                         | 0/1 [00:00<?, ?it/s]/usr/lib/python3.10/multiprocessing/popen_fork.py:66: RuntimeWarning: os.fork() was called. os.fork() is incompatible with multithreaded code, and JAX is multithreaded, so this will likely lead to a deadlock.\n",
            "  self.pid = os.fork()\n",
            "100%|█████████████████████████████████████████████████████████████████| 1/1 [00:34<00:00, 34.79s/it]\n",
            "100%|███████████████████████████████████████████████████████████████| 49/49 [34:50<00:00, 42.66s/it]\n"
          ]
        }
      ]
    },
    {
      "cell_type": "code",
      "execution_count": null,
      "metadata": {
        "colab": {
          "base_uri": "https://localhost:8080/"
        },
        "id": "Q48ly6P-yQby",
        "outputId": "9bfc4267-9a90-4645-e90d-b537b9df4b90"
      },
      "outputs": [
        {
          "output_type": "stream",
          "name": "stdout",
          "text": [
            "{'cosine': array([[0.93894947, 0.97903377, 0.9748248 , ..., 0.06067665, 0.0604975 ,\n",
            "        0.07648014],\n",
            "       [0.94975156, 0.9809722 , 0.9829178 , ..., 0.08857712, 0.08899386,\n",
            "        0.10716249],\n",
            "       [0.9368558 , 0.97414136, 0.9836564 , ..., 0.08185371, 0.08442868,\n",
            "        0.10064524],\n",
            "       ...,\n",
            "       [0.9431046 , 0.985183  , 0.98194647, ..., 0.08535906, 0.08368647,\n",
            "        0.10288547],\n",
            "       [0.92794454, 0.98648065, 0.97138005, ..., 0.06948385, 0.06463583,\n",
            "        0.08578961],\n",
            "       [0.958699  , 0.9781159 , 0.9700406 , ..., 0.11579873, 0.11533174,\n",
            "        0.13037327]], dtype=float32)}\n"
          ]
        }
      ],
      "source": [
        "similarity_function = CosineSimilarity()\n",
        "similarity = similarity_function(query, database)\n",
        "print(similarity)"
      ]
    },
    {
      "cell_type": "code",
      "source": [
        "classifier = KnnClassifier(k=1, database_labels=dataset_database.labels_string)\n",
        "predictions = classifier(similarity['cosine'])\n",
        "print(\"Predictions for 100 test Images:-\\n\",predictions)\n",
        "accuracy = np.mean(dataset_query.labels_string == predictions)\n",
        "print(\"Accuracy on MacaqueFaces data: {:.2f}%\".format(accuracy * 100))"
      ],
      "metadata": {
        "colab": {
          "base_uri": "https://localhost:8080/"
        },
        "id": "tFRpGqxTab03",
        "outputId": "f91ea988-ecf0-457b-d2ba-3cd1964e3357"
      },
      "execution_count": null,
      "outputs": [
        {
          "output_type": "stream",
          "name": "stdout",
          "text": [
            "Predictions for 100 test Images:-\n",
            " ['Dan' 'Dan' 'Dan' 'Dan' 'Dan' 'Dan' 'Dan' 'Dan' 'Dan' 'Dan' 'Dan' 'Dan'\n",
            " 'Dan' 'Dan' 'Dan' 'Dan' 'Dan' 'Dan' 'Dan' 'Dan' 'Dan' 'Dan' 'Dan' 'Dan'\n",
            " 'Dan' 'Dan' 'Dan' 'Dan' 'Dan' 'Dan' 'Dan' 'Dan' 'Dan' 'Dan' 'Dan' 'Dan'\n",
            " 'Dan' 'Dan' 'Dan' 'Dan' 'Dan' 'Dan' 'Dan' 'Dan' 'Dan' 'Dan' 'Dan' 'Dan'\n",
            " 'Dan' 'Dan' 'Dan' 'Dan' 'Dan' 'Dan' 'Dan' 'Dan' 'Dan' 'Dan' 'Dan' 'Dan'\n",
            " 'Dan' 'Dan' 'Dan' 'Dan' 'Dan' 'Dan' 'Dan' 'Dan' 'Dan' 'Dan' 'Dan' 'Dan'\n",
            " 'Dan' 'Dan' 'Dan' 'Dan' 'Dan' 'Dan' 'Dan' 'Dan' 'Dan' 'Dan' 'Dan' 'Dan'\n",
            " 'Dan' 'Dan' 'Dan' 'Dan' 'Dan' 'Dan' 'Dan' 'Dan' 'Dan' 'Dan' 'Dan' 'Dan'\n",
            " 'Dan' 'Dan' 'Dan' 'Dan']\n",
            "Accuracy on MacaqueFaces data: 100.00%\n"
          ]
        }
      ]
    },
    {
      "cell_type": "markdown",
      "source": [
        "**LionData Dateset**"
      ],
      "metadata": {
        "id": "x8WIYP4jzI6y"
      }
    },
    {
      "cell_type": "code",
      "source": [
        "# Download dataset (if not already downloaded)\n",
        "datasets.LionData.get_data('../data/LionData')\n",
        "\n",
        "# Load dataset metadata\n",
        "metadata = datasets.LionData('../data/LionData')\n",
        "transform = T.Compose([T.Resize([224, 224]), T.ToTensor(), T.Normalize(mean=(0.485, 0.456, 0.406), std=(0.229, 0.224, 0.225))])\n",
        "dataset = WildlifeDataset(metadata.df, metadata.root, transform=transform)"
      ],
      "metadata": {
        "colab": {
          "base_uri": "https://localhost:8080/"
        },
        "id": "rrO6dLzDzPDa",
        "outputId": "b7758238-4b1a-4707-e7d7-c17e8bfe46d0"
      },
      "execution_count": null,
      "outputs": [
        {
          "output_type": "stream",
          "name": "stdout",
          "text": [
            "DATASET LionData: DOWNLOADING STARTED.\n",
            "You are trying to download an already downloaded dataset.\n",
            "        This message may have happened to due interrupted download or extract.\n",
            "        To force the download use the `force=True` keyword such as\n",
            "        get_data(..., force=True) or download(..., force=True).\n",
            "        \n"
          ]
        }
      ]
    },
    {
      "cell_type": "code",
      "source": [
        "dataset_database = WildlifeDataset(metadata.df.iloc[100:,:], metadata.root, transform=transform)\n",
        "dataset_query = WildlifeDataset(metadata.df.iloc[:100,:], metadata.root, transform=transform)"
      ],
      "metadata": {
        "id": "Nj1rVBcP0quR"
      },
      "execution_count": null,
      "outputs": []
    },
    {
      "cell_type": "code",
      "source": [
        "query, database = extractor(dataset_query), extractor(dataset_database)"
      ],
      "metadata": {
        "colab": {
          "base_uri": "https://localhost:8080/"
        },
        "id": "DpZt2GKa0uZ8",
        "outputId": "bb99c456-c9e3-434c-ac9d-f850b9d08182"
      },
      "execution_count": null,
      "outputs": [
        {
          "output_type": "stream",
          "name": "stderr",
          "text": [
            "\r  0%|                                                                         | 0/1 [00:00<?, ?it/s]/usr/lib/python3.10/multiprocessing/popen_fork.py:66: RuntimeWarning: os.fork() was called. os.fork() is incompatible with multithreaded code, and JAX is multithreaded, so this will likely lead to a deadlock.\n",
            "  self.pid = os.fork()\n",
            "100%|█████████████████████████████████████████████████████████████████| 1/1 [00:32<00:00, 32.69s/it]/usr/lib/python3.10/multiprocessing/popen_fork.py:66: RuntimeWarning: os.fork() was called. os.fork() is incompatible with multithreaded code, and JAX is multithreaded, so this will likely lead to a deadlock.\n",
            "  self.pid = os.fork()\n",
            "100%|█████████████████████████████████████████████████████████████████| 1/1 [00:32<00:00, 32.85s/it]\n",
            "100%|█████████████████████████████████████████████████████████████████| 5/5 [03:30<00:00, 42.13s/it]\n"
          ]
        }
      ]
    },
    {
      "cell_type": "code",
      "source": [
        "similarity_function = CosineSimilarity()\n",
        "similarity = similarity_function(query, database)\n",
        "print(similarity)"
      ],
      "metadata": {
        "colab": {
          "base_uri": "https://localhost:8080/"
        },
        "id": "z73QR_5D44kw",
        "outputId": "4bae13ee-5ecd-404f-82e2-68773f9cb720"
      },
      "execution_count": null,
      "outputs": [
        {
          "output_type": "stream",
          "name": "stdout",
          "text": [
            "{'cosine': array([[0.86896247, 0.69942033, 0.8777389 , ..., 0.829781  , 0.8954884 ,\n",
            "        0.86451447],\n",
            "       [0.9500992 , 0.7055931 , 0.9380013 , ..., 0.7477597 , 0.9478767 ,\n",
            "        0.89982736],\n",
            "       [0.87242615, 0.6950849 , 0.89943147, ..., 0.75892425, 0.91286826,\n",
            "        0.9114601 ],\n",
            "       ...,\n",
            "       [0.8723602 , 0.7832219 , 0.9014683 , ..., 0.8094394 , 0.9129671 ,\n",
            "        0.9049461 ],\n",
            "       [0.8919123 , 0.73857903, 0.92439425, ..., 0.7845442 , 0.9392824 ,\n",
            "        0.9575528 ],\n",
            "       [0.89837366, 0.75758326, 0.91506803, ..., 0.80790067, 0.9342222 ,\n",
            "        0.93150544]], dtype=float32)}\n"
          ]
        }
      ]
    },
    {
      "cell_type": "code",
      "source": [
        "classifier = KnnClassifier(k=1, database_labels=dataset_database.labels_string)\n",
        "predictions = classifier(similarity['cosine'])\n",
        "print(\"Predictions for 100 test Images:-\\n\",predictions)\n",
        "accuracy = np.mean(dataset_query.labels_string == predictions)\n",
        "print(\"Accuracy on Lion data: {:.2f}%\".format(accuracy * 100))"
      ],
      "metadata": {
        "colab": {
          "base_uri": "https://localhost:8080/"
        },
        "id": "pqHIJW025EOL",
        "outputId": "c6d8ae7d-841c-439f-c84e-dc817aaa2ea6"
      },
      "execution_count": null,
      "outputs": [
        {
          "output_type": "stream",
          "name": "stdout",
          "text": [
            "Predictions for 100 test Images:-\n",
            " ['Sebastian' 'Saba' 'Etana' 'Tigisi' 'Sebastian' 'Moswen' 'Naape'\n",
            " 'Simaloi' 'Autumn' 'Lolparpit' 'Maskio' 'Chaimu' 'Naape' 'Saba' 'Saitoti'\n",
            " 'Esiriwua' 'Sadala' 'Etana' 'Enderoni' 'Kinna' 'Lucinda' 'Enkume' 'Joy'\n",
            " 'Lemuanik' 'Naibor' 'Shambe' 'Siti' 'Selenkay' 'Sadala' 'Manzy' 'Moswen'\n",
            " 'Napi' 'Ngare' 'Naimina' 'Napi' 'Cleopatra' 'Moswen' 'Kioni' 'Chaimu'\n",
            " 'Engiyaa' 'Enderoni' 'Jamal' 'Leia' 'Sebastian' 'Nuru' 'Maskio' 'Mooza'\n",
            " 'Moswen' 'Kibibi' 'Tigisi' 'Enderoni' 'Lucinda' 'Moswen' 'Kioni'\n",
            " 'Sebastian' 'Mashavu' 'Mickey' 'Mama-Kali' 'Kioni' 'Ngare' 'Nashipai'\n",
            " 'Sikio-Kali' 'Ngare' 'Amber' 'Olonyori' 'Lemuanik' 'Kibibi' 'Ngare'\n",
            " 'Saimutie' 'Amber' 'Shemsa' 'Olonyori' 'Mickey' 'Esiriwua' 'Nashipai'\n",
            " 'Enderoni' 'Summer' 'Nuru' 'Mickey' 'Joy' 'Cleopatra' 'Tigisi' 'Mooza'\n",
            " 'Saitoti' 'Kioni' 'Naini' 'Rescue' 'Sikio-Kali' 'Empurra' 'Enadalut'\n",
            " 'Lemayian' 'Rescue' 'Enadalut' 'Esiriwua' 'Enkume' 'Senteu' 'Doto'\n",
            " 'Enkume' 'Nakato' 'Enderoni']\n",
            "Accuracy on Lion data: 8.00%\n"
          ]
        }
      ]
    },
    {
      "cell_type": "markdown",
      "source": [
        "**NyalaDataSet**"
      ],
      "metadata": {
        "id": "8BVColWW5peR"
      }
    },
    {
      "cell_type": "code",
      "source": [
        "# Download dataset (if not already downloaded)\n",
        "datasets.NyalaData.get_data('../data/NyalaData')\n",
        "\n",
        "# Load dataset metadata\n",
        "metadata = datasets.NyalaData('../data/NyalaData')\n",
        "transform = T.Compose([T.Resize([224, 224]), T.ToTensor(), T.Normalize(mean=(0.485, 0.456, 0.406), std=(0.229, 0.224, 0.225))])\n",
        "dataset = WildlifeDataset(metadata.df, metadata.root, transform=transform)"
      ],
      "metadata": {
        "colab": {
          "base_uri": "https://localhost:8080/"
        },
        "id": "lrsdGDje5obt",
        "outputId": "c56de32a-a03f-4bdc-fd3b-9c445b69436f"
      },
      "execution_count": null,
      "outputs": [
        {
          "output_type": "stream",
          "name": "stdout",
          "text": [
            "DATASET NyalaData: DOWNLOADING STARTED.\n",
            "You are trying to download an already downloaded dataset.\n",
            "        This message may have happened to due interrupted download or extract.\n",
            "        To force the download use the `force=True` keyword such as\n",
            "        get_data(..., force=True) or download(..., force=True).\n",
            "        \n"
          ]
        }
      ]
    },
    {
      "cell_type": "code",
      "source": [
        "dataset_database = WildlifeDataset(metadata.df.iloc[100:,:], metadata.root, transform=transform)\n",
        "dataset_query = WildlifeDataset(metadata.df.iloc[:100,:], metadata.root, transform=transform)"
      ],
      "metadata": {
        "id": "Gt-66g7v6MsJ"
      },
      "execution_count": null,
      "outputs": []
    },
    {
      "cell_type": "code",
      "source": [
        "query, database = extractor(dataset_query), extractor(dataset_database)"
      ],
      "metadata": {
        "colab": {
          "base_uri": "https://localhost:8080/"
        },
        "id": "1hmLnsoN6Oey",
        "outputId": "4350be6b-b87e-40ea-e051-6e15ed8e96c1"
      },
      "execution_count": null,
      "outputs": [
        {
          "output_type": "stream",
          "name": "stderr",
          "text": [
            "\r  0%|                                                                         | 0/1 [00:00<?, ?it/s]/usr/lib/python3.10/multiprocessing/popen_fork.py:66: RuntimeWarning: os.fork() was called. os.fork() is incompatible with multithreaded code, and JAX is multithreaded, so this will likely lead to a deadlock.\n",
            "  self.pid = os.fork()\n",
            "100%|█████████████████████████████████████████████████████████████████| 1/1 [00:37<00:00, 37.40s/it]\n",
            "100%|███████████████████████████████████████████████████████████████| 15/15 [10:46<00:00, 43.08s/it]\n"
          ]
        }
      ]
    },
    {
      "cell_type": "code",
      "source": [
        "similarity_function = CosineSimilarity()\n",
        "similarity = similarity_function(query, database)\n",
        "print(similarity)"
      ],
      "metadata": {
        "colab": {
          "base_uri": "https://localhost:8080/"
        },
        "id": "rzYBhZBM9MH0",
        "outputId": "125c97f8-2d14-40ea-d442-bee69d41bfd9"
      },
      "execution_count": null,
      "outputs": [
        {
          "output_type": "stream",
          "name": "stdout",
          "text": [
            "{'cosine': array([[0.8619583 , 0.01217471, 0.05642469, ..., 0.6895717 , 0.03031028,\n",
            "        0.898418  ],\n",
            "       [0.25952083, 0.918558  , 0.785017  , ..., 0.5010886 , 0.82998675,\n",
            "        0.1797384 ],\n",
            "       [0.71705055, 0.4680481 , 0.5621629 , ..., 0.962554  , 0.5190879 ,\n",
            "        0.7367308 ],\n",
            "       ...,\n",
            "       [0.2627344 , 0.9283303 , 0.7531287 , ..., 0.4816041 , 0.80183464,\n",
            "        0.17906114],\n",
            "       [0.84421116, 0.0514888 , 0.10151841, ..., 0.7681327 , 0.0811858 ,\n",
            "        0.9342401 ],\n",
            "       [0.07699895, 0.7878246 , 0.9208322 , ..., 0.38661018, 0.9427093 ,\n",
            "        0.07355451]], dtype=float32)}\n"
          ]
        }
      ]
    },
    {
      "cell_type": "code",
      "source": [
        "classifier = KnnClassifier(k=1, database_labels=dataset_database.labels_string)\n",
        "predictions = classifier(similarity['cosine'])\n",
        "print(\"Predictions for 100 test Images:-\\n\",predictions)\n",
        "accuracy = np.mean(dataset_query.labels_string == predictions)\n",
        "print(\"Accuracy on NyalaData data: {:.2f}%\".format(accuracy * 100))"
      ],
      "metadata": {
        "colab": {
          "base_uri": "https://localhost:8080/"
        },
        "id": "SjsH9Edm9RI-",
        "outputId": "ee3c9e4d-fc32-45e8-d8e4-f3f191e34121"
      },
      "execution_count": null,
      "outputs": [
        {
          "output_type": "stream",
          "name": "stdout",
          "text": [
            "Predictions for 100 test Images:-\n",
            " ['166' '10' '57' '89' '58' '179' '55' '58' '149' '71' '87' '125' '56'\n",
            " '144' '131' '8' '36' '150' '131' '11' '116' '19' '20' '86' '260' '165'\n",
            " '140' '11' '246' '41' '140' '197' '9' '131' '24' '48' '41' '11' '48'\n",
            " '131' '272' '47' '21' '46' '8' '241' '114' '62' '21' '48' '252' '151'\n",
            " '27' '108' '82' '51' '101' '85' '32' '58' '46' '139' '63' '85' '9' '181'\n",
            " '65' '242' '43' '144' '142' '12' '60' '5' '127' '166' '56' '21' '27' '36'\n",
            " '20' '188' '51' '51' '42' '20' '111' '62' '165' '68' '104' '174' '48'\n",
            " '217' '144' '6' '50' '91' '105' '140']\n",
            "Accuracy on NyalaData data: 11.00%\n"
          ]
        }
      ]
    },
    {
      "cell_type": "markdown",
      "source": [
        "**StripeSpotter Dataset**"
      ],
      "metadata": {
        "id": "TggFYlC7-Q7Y"
      }
    },
    {
      "cell_type": "code",
      "source": [
        "# Download dataset (if not already downloaded)\n",
        "datasets.StripeSpotter.get_data('../data/StripeSpotter')\n",
        "# Load dataset metadata\n",
        "metadata = datasets.StripeSpotter('../data/StripeSpotter')\n",
        "transform = T.Compose([T.Resize([224, 224]), T.ToTensor(), T.Normalize(mean=(0.485, 0.456, 0.406), std=(0.229, 0.224, 0.225))])\n",
        "dataset = WildlifeDataset(metadata.df, metadata.root, transform=transform)"
      ],
      "metadata": {
        "colab": {
          "base_uri": "https://localhost:8080/"
        },
        "id": "37C8D2y9-WIy",
        "outputId": "cf764223-9a8c-4237-be24-0b833490cfe1"
      },
      "execution_count": null,
      "outputs": [
        {
          "output_type": "stream",
          "name": "stdout",
          "text": [
            "DATASET StripeSpotter: DOWNLOADING STARTED.\n",
            "You are trying to download an already downloaded dataset.\n",
            "        This message may have happened to due interrupted download or extract.\n",
            "        To force the download use the `force=True` keyword such as\n",
            "        get_data(..., force=True) or download(..., force=True).\n",
            "        \n"
          ]
        }
      ]
    },
    {
      "cell_type": "code",
      "source": [
        "dataset_database = WildlifeDataset(metadata.df.iloc[100:,:], metadata.root, transform=transform)\n",
        "dataset_query = WildlifeDataset(metadata.df.iloc[:100,:], metadata.root, transform=transform)"
      ],
      "metadata": {
        "id": "hddjZQpyGSZC"
      },
      "execution_count": null,
      "outputs": []
    },
    {
      "cell_type": "code",
      "source": [
        "query, database = extractor(dataset_query), extractor(dataset_database)"
      ],
      "metadata": {
        "colab": {
          "base_uri": "https://localhost:8080/"
        },
        "id": "GLTVw6LtGeDr",
        "outputId": "c951cf06-2b39-45e7-aebb-599f662b3db2"
      },
      "execution_count": null,
      "outputs": [
        {
          "output_type": "stream",
          "name": "stderr",
          "text": [
            "\r  0%|                                                                         | 0/1 [00:00<?, ?it/s]/usr/lib/python3.10/multiprocessing/popen_fork.py:66: RuntimeWarning: os.fork() was called. os.fork() is incompatible with multithreaded code, and JAX is multithreaded, so this will likely lead to a deadlock.\n",
            "  self.pid = os.fork()\n",
            "100%|█████████████████████████████████████████████████████████████████| 1/1 [00:37<00:00, 37.88s/it]/usr/lib/python3.10/multiprocessing/popen_fork.py:66: RuntimeWarning: os.fork() was called. os.fork() is incompatible with multithreaded code, and JAX is multithreaded, so this will likely lead to a deadlock.\n",
            "  self.pid = os.fork()\n",
            "100%|█████████████████████████████████████████████████████████████████| 1/1 [00:38<00:00, 38.07s/it]\n",
            "100%|█████████████████████████████████████████████████████████████████| 6/6 [04:25<00:00, 44.30s/it]\n"
          ]
        }
      ]
    },
    {
      "cell_type": "code",
      "source": [
        "similarity_function = CosineSimilarity()\n",
        "similarity = similarity_function(query, database)\n",
        "print(similarity)"
      ],
      "metadata": {
        "colab": {
          "base_uri": "https://localhost:8080/"
        },
        "id": "_E_O6trCIY_p",
        "outputId": "59e9b194-008c-4f05-ea45-2d49bac003a9"
      },
      "execution_count": null,
      "outputs": [
        {
          "output_type": "stream",
          "name": "stdout",
          "text": [
            "{'cosine': array([[0.2130194 , 0.588757  , 0.65936303, ..., 0.4394258 , 0.44544154,\n",
            "        0.621335  ],\n",
            "       [0.17780262, 0.38624054, 0.40102234, ..., 0.7090034 , 0.20244715,\n",
            "        0.2846234 ],\n",
            "       [0.6676848 , 0.43850845, 0.34033626, ..., 0.2868997 , 0.39746365,\n",
            "        0.36011013],\n",
            "       ...,\n",
            "       [0.60642976, 0.23701996, 0.21666232, ..., 0.41781956, 0.32831538,\n",
            "        0.35214955],\n",
            "       [0.51512223, 0.2798951 , 0.32729602, ..., 0.53868353, 0.39507398,\n",
            "        0.28750026],\n",
            "       [0.17924337, 0.24542159, 0.3013066 , ..., 0.58145046, 0.2895743 ,\n",
            "        0.35858634]], dtype=float32)}\n"
          ]
        }
      ]
    },
    {
      "cell_type": "code",
      "source": [
        "classifier = KnnClassifier(k=1, database_labels=dataset_database.labels_string)\n",
        "predictions = classifier(similarity['cosine'])\n",
        "print(\"Predictions for 100 test Images:-\\n\",predictions)\n",
        "accuracy = np.mean(dataset_query.labels_string == predictions)\n",
        "print(\"Accuracy on StripeSpotter data: {:.2f}%\".format(accuracy * 100))"
      ],
      "metadata": {
        "colab": {
          "base_uri": "https://localhost:8080/"
        },
        "id": "rJItxeuOIhQT",
        "outputId": "0a243fa3-b587-4a44-9cb1-a6efc6d2eb24"
      },
      "execution_count": null,
      "outputs": [
        {
          "output_type": "stream",
          "name": "stdout",
          "text": [
            "Predictions for 100 test Images:-\n",
            " ['09_212' 'S09_161' '08_085' '08_100' '09_200' 'OP05_625' '09_212'\n",
            " '02_149' '01_579' '08_034' '01_679' '08_078' '01_460' '10_002' '01_136'\n",
            " '09_212' '09_200' 'S09_111' '02_149' 'S09_069' '08_100' '01_363' '01_363'\n",
            " '08_078' '08_034' '01_805' '09_355' '08_085' 'OP05_546' '09_212' '08_100'\n",
            " 'S09_088' '09_182' 'S09_215' '02_162' '01_230' '08_085' '01_661'\n",
            " '02_1026' '09_185' '01_136' '01_661' '01_661' '02_161' '01_165' '02_161'\n",
            " 'S09_174' 'S09_067' '08_100' 'OP04_225' '02_149' 'S09_067' '09_200'\n",
            " '04_008' '01_661' '09_182' '01_805' '02_161' '10_002' '01_036' '02_149'\n",
            " '01_165' '09_212' 'S09_211' 'S09_215' '03_045' '01_579' 'OP04_225'\n",
            " '08_100' '08_100' '04_008' '09_212' 'OP05_625' 'OP05_625' '02_149'\n",
            " '01_230' '09_200' 'OP05_625' '01_661' 'OP04_225' '01_661' '01_661'\n",
            " 'S09_174' '01_679' '01_661' 'S09_067' 'S09_111' 'S09_112' '09_212'\n",
            " 'OP04_225' '02_161' '09_185' '04_008' '08_100' '01_460' '01_679'\n",
            " 'S09_111' '01_679' '01_036' 'S09_067']\n",
            "Accuracy on StripeSpotter data: 98.00%\n"
          ]
        }
      ]
    },
    {
      "cell_type": "markdown",
      "source": [
        "**IPanda50 Dataset**"
      ],
      "metadata": {
        "id": "ekpRAxgNIvDu"
      }
    },
    {
      "cell_type": "code",
      "source": [
        "# Download dataset (if not already downloaded)\n",
        "datasets.IPanda50.get_data('../data/IPanda50')\n",
        "# Load dataset metadata\n",
        "metadata = datasets.IPanda50('../data/IPanda50')\n",
        "transform = T.Compose([T.Resize([224, 224]), T.ToTensor(), T.Normalize(mean=(0.485, 0.456, 0.406), std=(0.229, 0.224, 0.225))])\n",
        "dataset = WildlifeDataset(metadata.df, metadata.root, transform=transform)"
      ],
      "metadata": {
        "colab": {
          "base_uri": "https://localhost:8080/"
        },
        "id": "0cmTPCjII07F",
        "outputId": "c2661e2a-7999-4463-88f7-06d1aba47ef3"
      },
      "execution_count": null,
      "outputs": [
        {
          "output_type": "stream",
          "name": "stdout",
          "text": [
            "DATASET IPanda50: DOWNLOADING STARTED.\n"
          ]
        },
        {
          "output_type": "stream",
          "name": "stderr",
          "text": [
            "Downloading...\n",
            "From (original): https://drive.google.com/uc?id=1nkh-g6a8JvWy-XsMaZqrN2AXoPlaXuFg\n",
            "From (redirected): https://drive.google.com/uc?id=1nkh-g6a8JvWy-XsMaZqrN2AXoPlaXuFg&confirm=t&uuid=174954f6-d2bd-4289-b1ed-6c990eb70713\n",
            "To: /data/IPanda50/iPanda50-images.zip\n",
            "100%|██████████| 926M/926M [00:15<00:00, 59.5MB/s]\n",
            "Downloading...\n",
            "From: https://drive.google.com/uc?id=1gVREtFWkNec4xwqOyKkpuIQIyWU_Y_Ob\n",
            "To: /data/IPanda50/iPanda50-split.zip\n",
            "100%|██████████| 140k/140k [00:00<00:00, 3.27MB/s]\n",
            "Downloading...\n",
            "From: https://drive.google.com/uc?id=1jdACN98uOxedZDT-6X3rpbooLAAUEbNY\n",
            "To: /data/IPanda50/iPanda50-eyes-labels.zip\n",
            "100%|██████████| 2.55M/2.55M [00:00<00:00, 21.5MB/s]\n"
          ]
        },
        {
          "output_type": "stream",
          "name": "stdout",
          "text": [
            "DATASET IPanda50: EXTRACTING STARTED.\n",
            "DATASET IPanda50: FINISHED.\n",
            "\n"
          ]
        }
      ]
    },
    {
      "cell_type": "code",
      "source": [
        "dataset_database = WildlifeDataset(metadata.df.iloc[100:,:], metadata.root, transform=transform)\n",
        "dataset_query = WildlifeDataset(metadata.df.iloc[:100,:], metadata.root, transform=transform)"
      ],
      "metadata": {
        "id": "uI4Yr7QLLrMO"
      },
      "execution_count": null,
      "outputs": []
    },
    {
      "cell_type": "code",
      "source": [
        "query, database = extractor(dataset_query), extractor(dataset_database)"
      ],
      "metadata": {
        "colab": {
          "base_uri": "https://localhost:8080/"
        },
        "id": "E-4AJbLMLuOv",
        "outputId": "c538f2f2-bb8f-4f71-a915-097798915cd4"
      },
      "execution_count": null,
      "outputs": [
        {
          "output_type": "stream",
          "name": "stderr",
          "text": [
            "\r  0%|                                                                         | 0/1 [00:00<?, ?it/s]/usr/lib/python3.10/multiprocessing/popen_fork.py:66: RuntimeWarning: os.fork() was called. os.fork() is incompatible with multithreaded code, and JAX is multithreaded, so this will likely lead to a deadlock.\n",
            "  self.pid = os.fork()\n",
            "100%|█████████████████████████████████████████████████████████████████| 1/1 [00:38<00:00, 38.09s/it]/usr/lib/python3.10/multiprocessing/popen_fork.py:66: RuntimeWarning: os.fork() was called. os.fork() is incompatible with multithreaded code, and JAX is multithreaded, so this will likely lead to a deadlock.\n",
            "  self.pid = os.fork()\n",
            "100%|█████████████████████████████████████████████████████████████████| 1/1 [00:38<00:00, 38.20s/it]\n",
            "100%|███████████████████████████████████████████████████████████████| 53/53 [38:16<00:00, 43.33s/it]\n"
          ]
        }
      ]
    },
    {
      "cell_type": "code",
      "source": [
        "similarity_function = CosineSimilarity()\n",
        "similarity = similarity_function(query, database)\n",
        "print(similarity)"
      ],
      "metadata": {
        "colab": {
          "base_uri": "https://localhost:8080/"
        },
        "id": "Ztg2VL79WglN",
        "outputId": "04d810bb-059b-4a38-aa9f-580f8b91788e"
      },
      "execution_count": null,
      "outputs": [
        {
          "output_type": "stream",
          "name": "stdout",
          "text": [
            "{'cosine': array([[ 0.02714637,  0.53501487,  0.14056858, ...,  0.38829625,\n",
            "         0.43481827, -0.07561179],\n",
            "       [ 0.08373775,  0.5616951 ,  0.03785922, ...,  0.3602667 ,\n",
            "         0.6493416 , -0.1295084 ],\n",
            "       [ 0.01190435,  0.4141855 ,  0.23542283, ...,  0.45754877,\n",
            "         0.5449476 , -0.1335805 ],\n",
            "       ...,\n",
            "       [ 0.0320384 ,  0.12872331, -0.14140168, ...,  0.02448   ,\n",
            "         0.22118227, -0.17661369],\n",
            "       [-0.08624166,  0.16572046,  0.07199848, ...,  0.14675027,\n",
            "         0.23473434, -0.02312863],\n",
            "       [ 0.01022829,  0.06892081,  0.7597883 , ...,  0.4224525 ,\n",
            "         0.10611828, -0.04714176]], dtype=float32)}\n"
          ]
        }
      ]
    },
    {
      "cell_type": "code",
      "source": [
        "classifier = KnnClassifier(k=1, database_labels=dataset_database.labels_string)\n",
        "predictions = classifier(similarity['cosine'])\n",
        "print(\"Predictions for 100 test Images:-\\n\",predictions)\n",
        "accuracy = np.mean(dataset_query.labels_string == predictions)\n",
        "print(\"Accuracy on IPanda50 data: {:.2f}%\".format(accuracy * 100))"
      ],
      "metadata": {
        "colab": {
          "base_uri": "https://localhost:8080/"
        },
        "id": "tyqid4CXWnJc",
        "outputId": "b47f9961-0262-4d2b-bdf4-a1f1f6bc1266"
      },
      "execution_count": null,
      "outputs": [
        {
          "output_type": "stream",
          "name": "stdout",
          "text": [
            "Predictions for 100 test Images:-\n",
            " ['10_hexing' '37_xinger' '01_aoliao' '33_wuyi' '47_yingying' '15_maosun'\n",
            " '09_fushun' '10_hexing' '36_xingda' '19_nannan' '08_fulai' '31_shurong'\n",
            " '44_yayi' '39_xinghui' '37_xinger' '14_maodou' '14_maodou' '00_aibang'\n",
            " '21_nina' '35_xilan' '19_nannan' '33_wuyi' '47_yingying' '49_yuanrun'\n",
            " '38_xingfan' '04_chengdui' '16_maotao' '48_yongbang' '11_jiaoao'\n",
            " '49_yuanrun' '24_qixi' '10_hexing' '35_xilan' '35_xilan' '02_baolan'\n",
            " '31_shurong' '31_shurong' '02_baolan' '23_qiubang' '26_qiyuan'\n",
            " '04_chengdui' '35_xilan' '08_fulai' '00_aibang' '10_hexing'\n",
            " '29_shuangxiong' '11_jiaoao' '44_yayi' '14_maodou' '30_shuqing'\n",
            " '36_xingda' '39_xinghui' '33_wuyi' '10_hexing' '10_hexing' '00_aibang'\n",
            " '49_yuanrun' '35_xilan' '04_chengdui' '10_hexing' '39_xinghui' '44_yayi'\n",
            " '10_hexing' '36_xingda' '16_maotao' '22_nini' '00_aibang' '39_xinghui'\n",
            " '10_hexing' '17_meibang' '00_aibang' '46_yazhu' '14_maodou' '15_maosun'\n",
            " '32_susu' '26_qiyuan' '27_rourou' '23_qiubang' '18_miaomiao'\n",
            " '48_yongbang' '45_yayun' '16_maotao' '33_wuyi' '13_jingliang'\n",
            " '41_xingxiao' '39_xinghui' '09_fushun' '46_yazhu' '22_nini' '49_yuanrun'\n",
            " '09_fushun' '28_sa' '48_yongbang' '47_yingying' '28_sa' '15_maosun'\n",
            " '39_xinghui' '20_nike' '43_yaxing' '47_yingying']\n",
            "Accuracy on IPanda50 data: 85.00%\n"
          ]
        }
      ]
    },
    {
      "cell_type": "code",
      "source": [],
      "metadata": {
        "id": "JZWRBA_upqLH"
      },
      "execution_count": null,
      "outputs": []
    },
    {
      "cell_type": "markdown",
      "source": [
        "CZoo Dataset"
      ],
      "metadata": {
        "id": "A17qmo9_d7TE"
      }
    },
    {
      "cell_type": "code",
      "source": [
        "# Download dataset (if not already downloaded)\n",
        "datasets.CZoo.get_data('../data/CZoo')\n",
        "\n",
        "# Load dataset metadata\n",
        "metadata_CZoo = datasets.CZoo('../data/CZoo')\n",
        "transform = T.Compose([T.Resize([224, 224]), T.ToTensor(), T.Normalize(mean=(0.485, 0.456, 0.406), std=(0.229, 0.224, 0.225))])\n",
        "dataset = WildlifeDataset(metadata_CZoo.df, metadata_CZoo.root, transform=transform)"
      ],
      "metadata": {
        "colab": {
          "base_uri": "https://localhost:8080/"
        },
        "id": "VmYHIzw4Zjv6",
        "outputId": "c3ccca60-ce55-4b09-9476-b21e9beb92dd"
      },
      "execution_count": null,
      "outputs": [
        {
          "output_type": "stream",
          "name": "stdout",
          "text": [
            "DATASET CZoo: DOWNLOADING STARTED.\n",
            "You are trying to download an already downloaded dataset.\n",
            "        This message may have happened to due interrupted download or extract.\n",
            "        To force the download use the `force=True` keyword such as\n",
            "        get_data(..., force=True) or download(..., force=True).\n",
            "        \n"
          ]
        }
      ]
    },
    {
      "cell_type": "code",
      "source": [
        "dataset_database = WildlifeDataset(metadata.df.iloc[100:,:], metadata.root, transform=transform)\n",
        "dataset_query = WildlifeDataset(metadata.df.iloc[:100,:], metadata.root, transform=transform)"
      ],
      "metadata": {
        "id": "pyu8Ze_se5y_"
      },
      "execution_count": null,
      "outputs": []
    },
    {
      "cell_type": "code",
      "source": [
        "query, database = extractor(dataset_query), extractor(dataset_database)"
      ],
      "metadata": {
        "colab": {
          "base_uri": "https://localhost:8080/"
        },
        "id": "iuM3AcuBfA_6",
        "outputId": "7ba6c082-b6dd-49d1-8630-08c2e11e6a48"
      },
      "execution_count": null,
      "outputs": [
        {
          "output_type": "stream",
          "name": "stderr",
          "text": [
            "\r  0%|                                                                         | 0/1 [00:00<?, ?it/s]/usr/lib/python3.10/multiprocessing/popen_fork.py:66: RuntimeWarning: os.fork() was called. os.fork() is incompatible with multithreaded code, and JAX is multithreaded, so this will likely lead to a deadlock.\n",
            "  self.pid = os.fork()\n",
            "100%|█████████████████████████████████████████████████████████████████| 1/1 [00:35<00:00, 35.28s/it]/usr/lib/python3.10/multiprocessing/popen_fork.py:66: RuntimeWarning: os.fork() was called. os.fork() is incompatible with multithreaded code, and JAX is multithreaded, so this will likely lead to a deadlock.\n",
            "  self.pid = os.fork()\n",
            "100%|█████████████████████████████████████████████████████████████████| 1/1 [00:35<00:00, 35.45s/it]\n",
            "100%|███████████████████████████████████████████████████████████████| 16/16 [10:51<00:00, 40.69s/it]\n"
          ]
        }
      ]
    },
    {
      "cell_type": "code",
      "source": [
        "similarity_function = CosineSimilarity()\n",
        "similarity = similarity_function(query, database)\n",
        "print(similarity)"
      ],
      "metadata": {
        "colab": {
          "base_uri": "https://localhost:8080/"
        },
        "id": "y0MDSts6iG-o",
        "outputId": "6c9c9fcf-e256-4bad-c91e-35dabe8f7015"
      },
      "execution_count": null,
      "outputs": [
        {
          "output_type": "stream",
          "name": "stdout",
          "text": [
            "{'cosine': array([[ 9.0549982e-01,  8.9250720e-01,  8.9013600e-01, ...,\n",
            "        -2.4628341e-02, -1.9136328e-02,  2.0032311e-02],\n",
            "       [ 9.1913915e-01,  9.1288275e-01,  9.0220594e-01, ...,\n",
            "        -1.2885875e-02, -3.0940475e-02, -7.5778235e-03],\n",
            "       [ 9.3326151e-01,  9.2265338e-01,  9.1522133e-01, ...,\n",
            "        -3.5657752e-02, -1.6588740e-02,  1.8029639e-02],\n",
            "       ...,\n",
            "       [ 9.4986129e-01,  9.6489835e-01,  9.4513679e-01, ...,\n",
            "        -5.2607138e-02, -3.3724420e-03, -1.1571882e-02],\n",
            "       [ 9.5598102e-01,  9.6259630e-01,  9.4699091e-01, ...,\n",
            "        -4.5473136e-02, -1.4542699e-02, -3.2175947e-03],\n",
            "       [ 9.4659024e-01,  9.6087039e-01,  9.4981194e-01, ...,\n",
            "        -4.7210053e-02, -3.1141117e-03, -8.7950751e-04]], dtype=float32)}\n"
          ]
        }
      ]
    },
    {
      "cell_type": "code",
      "source": [
        "classifier = KnnClassifier(k=1, database_labels=dataset_database.labels_string)\n",
        "predictions = classifier(similarity['cosine'])\n",
        "print(\"Predictions for 100 test Images:-\\n\",predictions)\n",
        "accuracy = np.mean(dataset_query.labels_string == predictions)\n",
        "print(\"Accuracy on CZoo data: {:.2f}%\".format(accuracy * 100))"
      ],
      "metadata": {
        "colab": {
          "base_uri": "https://localhost:8080/"
        },
        "id": "ntU0cfOIiMIJ",
        "outputId": "4bba856a-2a4d-41f6-96be-9a31d9bc9b76"
      },
      "execution_count": null,
      "outputs": [
        {
          "output_type": "stream",
          "name": "stdout",
          "text": [
            "Predictions for 100 test Images:-\n",
            " ['Alex' 'Alex' 'Alex' 'Jahaga' 'Jahaga' 'Alex' 'Alex' 'Jahaga' 'Alex'\n",
            " 'Jahaga' 'Alex' 'Alex' 'Alex' 'Alex' 'Alex' 'Alex' 'Alex' 'Alex' 'Alex'\n",
            " 'Alex' 'Alex' 'Alex' 'Alexandra' 'Alexandra' 'Alexandra' 'Alexandra'\n",
            " 'Alexandra' 'Alexandra' 'Alexandra' 'Alexandra' 'Alexandra' 'Alexandra'\n",
            " 'Alexandra' 'Gertrudia' 'Gertrudia' 'Gertrudia' 'Alexandra' 'Alexandra'\n",
            " 'Alexandra' 'Alexandra' 'Alexandra' 'Alexandra' 'Alexandra' 'Alexandra'\n",
            " 'Alexandra' 'Annett' 'Annett' 'Alexandra' 'Alexandra' 'Alexandra'\n",
            " 'Alexandra' 'Alexandra' 'Alexandra' 'Alexandra' 'Alexandra' 'Alexandra'\n",
            " 'Alexandra' 'Alexandra' 'Alexandra' 'Alexandra' 'Alexandra' 'Alexandra'\n",
            " 'Alexandra' 'Alexandra' 'Alexandra' 'Alexandra' 'Alexandra' 'Alexandra'\n",
            " 'Alexandra' 'Alexandra' 'Alexandra' 'Alexandra' 'Alexandra' 'Alexandra'\n",
            " 'Alexandra' 'Alexandra' 'Alexandra' 'Alexandra' 'Alexandra' 'Alexandra'\n",
            " 'Alexandra' 'Alexandra' 'Alexandra' 'Alexandra' 'Alexandra' 'Alexandra'\n",
            " 'Alexandra' 'Alexandra' 'Alexandra' 'Alexandra' 'Alexandra' 'Alexandra'\n",
            " 'Alexandra' 'Alexandra' 'Alex' 'Alex' 'Alex' 'Alex' 'Alex' 'Alex']\n",
            "Accuracy on CZoo data: 100.00%\n"
          ]
        }
      ]
    },
    {
      "cell_type": "code",
      "source": [
        "from sklearn.metrics import precision_score, recall_score, f1_score\n",
        "\n",
        "# Calculate precision\n",
        "precision = precision_score(dataset_query.labels_string, predictions, average='weighted')\n",
        "\n",
        "# Calculate recall\n",
        "recall = recall_score(dataset_query.labels_string, predictions, average='weighted')\n",
        "\n",
        "# Calculate F1 score\n",
        "f1 = f1_score(dataset_query.labels_string, predictions, average='weighted')\n",
        "\n",
        "print(\"Precision:\", precision)\n",
        "print(\"Recall:\", recall)\n",
        "print(\"F1 Score:\", f1)\n"
      ],
      "metadata": {
        "id": "fQakimDkoJdy",
        "outputId": "b68ebc76-e16f-4111-814e-93ea86b44e44",
        "colab": {
          "base_uri": "https://localhost:8080/"
        }
      },
      "execution_count": null,
      "outputs": [
        {
          "output_type": "stream",
          "name": "stdout",
          "text": [
            "Precision: 1.0\n",
            "Recall: 1.0\n",
            "F1 Score: 1.0\n"
          ]
        }
      ]
    }
  ],
  "metadata": {
    "colab": {
      "provenance": []
    },
    "kernelspec": {
      "display_name": "Python 3",
      "name": "python3"
    },
    "language_info": {
      "name": "python"
    },
    "widgets": {
      "application/vnd.jupyter.widget-state+json": {
        "f7481adc10dc4478be8b52c281173771": {
          "model_module": "@jupyter-widgets/controls",
          "model_name": "HBoxModel",
          "model_module_version": "1.5.0",
          "state": {
            "_dom_classes": [],
            "_model_module": "@jupyter-widgets/controls",
            "_model_module_version": "1.5.0",
            "_model_name": "HBoxModel",
            "_view_count": null,
            "_view_module": "@jupyter-widgets/controls",
            "_view_module_version": "1.5.0",
            "_view_name": "HBoxView",
            "box_style": "",
            "children": [
              "IPY_MODEL_d58b7582fef44699a0f68e4544232542",
              "IPY_MODEL_b15287d5d9dd4028bdbb17af6fc62f85",
              "IPY_MODEL_10f2424d26da4a0c914c1e6157644fd0"
            ],
            "layout": "IPY_MODEL_ad32247671c54c20a3d1a4f6872aa84b"
          }
        },
        "d58b7582fef44699a0f68e4544232542": {
          "model_module": "@jupyter-widgets/controls",
          "model_name": "HTMLModel",
          "model_module_version": "1.5.0",
          "state": {
            "_dom_classes": [],
            "_model_module": "@jupyter-widgets/controls",
            "_model_module_version": "1.5.0",
            "_model_name": "HTMLModel",
            "_view_count": null,
            "_view_module": "@jupyter-widgets/controls",
            "_view_module_version": "1.5.0",
            "_view_name": "HTMLView",
            "description": "",
            "description_tooltip": null,
            "layout": "IPY_MODEL_fed949eb50d54e7d8d0fc3f0db4ef28d",
            "placeholder": "​",
            "style": "IPY_MODEL_1f9938fde2a14dcc8ad851750077b044",
            "value": "config.json: 100%"
          }
        },
        "b15287d5d9dd4028bdbb17af6fc62f85": {
          "model_module": "@jupyter-widgets/controls",
          "model_name": "FloatProgressModel",
          "model_module_version": "1.5.0",
          "state": {
            "_dom_classes": [],
            "_model_module": "@jupyter-widgets/controls",
            "_model_module_version": "1.5.0",
            "_model_name": "FloatProgressModel",
            "_view_count": null,
            "_view_module": "@jupyter-widgets/controls",
            "_view_module_version": "1.5.0",
            "_view_name": "ProgressView",
            "bar_style": "success",
            "description": "",
            "description_tooltip": null,
            "layout": "IPY_MODEL_e234fc53bda7404486ea049427a21ac7",
            "max": 609,
            "min": 0,
            "orientation": "horizontal",
            "style": "IPY_MODEL_8c9204db4ae24af7a9cbb701c3c1a7fc",
            "value": 609
          }
        },
        "10f2424d26da4a0c914c1e6157644fd0": {
          "model_module": "@jupyter-widgets/controls",
          "model_name": "HTMLModel",
          "model_module_version": "1.5.0",
          "state": {
            "_dom_classes": [],
            "_model_module": "@jupyter-widgets/controls",
            "_model_module_version": "1.5.0",
            "_model_name": "HTMLModel",
            "_view_count": null,
            "_view_module": "@jupyter-widgets/controls",
            "_view_module_version": "1.5.0",
            "_view_name": "HTMLView",
            "description": "",
            "description_tooltip": null,
            "layout": "IPY_MODEL_81b4c9d3c29a403a952fca27a1c2c17f",
            "placeholder": "​",
            "style": "IPY_MODEL_38dfec8ed20549f394d0e2dfe32cc679",
            "value": " 609/609 [00:00&lt;00:00, 36.2kB/s]"
          }
        },
        "ad32247671c54c20a3d1a4f6872aa84b": {
          "model_module": "@jupyter-widgets/base",
          "model_name": "LayoutModel",
          "model_module_version": "1.2.0",
          "state": {
            "_model_module": "@jupyter-widgets/base",
            "_model_module_version": "1.2.0",
            "_model_name": "LayoutModel",
            "_view_count": null,
            "_view_module": "@jupyter-widgets/base",
            "_view_module_version": "1.2.0",
            "_view_name": "LayoutView",
            "align_content": null,
            "align_items": null,
            "align_self": null,
            "border": null,
            "bottom": null,
            "display": null,
            "flex": null,
            "flex_flow": null,
            "grid_area": null,
            "grid_auto_columns": null,
            "grid_auto_flow": null,
            "grid_auto_rows": null,
            "grid_column": null,
            "grid_gap": null,
            "grid_row": null,
            "grid_template_areas": null,
            "grid_template_columns": null,
            "grid_template_rows": null,
            "height": null,
            "justify_content": null,
            "justify_items": null,
            "left": null,
            "margin": null,
            "max_height": null,
            "max_width": null,
            "min_height": null,
            "min_width": null,
            "object_fit": null,
            "object_position": null,
            "order": null,
            "overflow": null,
            "overflow_x": null,
            "overflow_y": null,
            "padding": null,
            "right": null,
            "top": null,
            "visibility": null,
            "width": null
          }
        },
        "fed949eb50d54e7d8d0fc3f0db4ef28d": {
          "model_module": "@jupyter-widgets/base",
          "model_name": "LayoutModel",
          "model_module_version": "1.2.0",
          "state": {
            "_model_module": "@jupyter-widgets/base",
            "_model_module_version": "1.2.0",
            "_model_name": "LayoutModel",
            "_view_count": null,
            "_view_module": "@jupyter-widgets/base",
            "_view_module_version": "1.2.0",
            "_view_name": "LayoutView",
            "align_content": null,
            "align_items": null,
            "align_self": null,
            "border": null,
            "bottom": null,
            "display": null,
            "flex": null,
            "flex_flow": null,
            "grid_area": null,
            "grid_auto_columns": null,
            "grid_auto_flow": null,
            "grid_auto_rows": null,
            "grid_column": null,
            "grid_gap": null,
            "grid_row": null,
            "grid_template_areas": null,
            "grid_template_columns": null,
            "grid_template_rows": null,
            "height": null,
            "justify_content": null,
            "justify_items": null,
            "left": null,
            "margin": null,
            "max_height": null,
            "max_width": null,
            "min_height": null,
            "min_width": null,
            "object_fit": null,
            "object_position": null,
            "order": null,
            "overflow": null,
            "overflow_x": null,
            "overflow_y": null,
            "padding": null,
            "right": null,
            "top": null,
            "visibility": null,
            "width": null
          }
        },
        "1f9938fde2a14dcc8ad851750077b044": {
          "model_module": "@jupyter-widgets/controls",
          "model_name": "DescriptionStyleModel",
          "model_module_version": "1.5.0",
          "state": {
            "_model_module": "@jupyter-widgets/controls",
            "_model_module_version": "1.5.0",
            "_model_name": "DescriptionStyleModel",
            "_view_count": null,
            "_view_module": "@jupyter-widgets/base",
            "_view_module_version": "1.2.0",
            "_view_name": "StyleView",
            "description_width": ""
          }
        },
        "e234fc53bda7404486ea049427a21ac7": {
          "model_module": "@jupyter-widgets/base",
          "model_name": "LayoutModel",
          "model_module_version": "1.2.0",
          "state": {
            "_model_module": "@jupyter-widgets/base",
            "_model_module_version": "1.2.0",
            "_model_name": "LayoutModel",
            "_view_count": null,
            "_view_module": "@jupyter-widgets/base",
            "_view_module_version": "1.2.0",
            "_view_name": "LayoutView",
            "align_content": null,
            "align_items": null,
            "align_self": null,
            "border": null,
            "bottom": null,
            "display": null,
            "flex": null,
            "flex_flow": null,
            "grid_area": null,
            "grid_auto_columns": null,
            "grid_auto_flow": null,
            "grid_auto_rows": null,
            "grid_column": null,
            "grid_gap": null,
            "grid_row": null,
            "grid_template_areas": null,
            "grid_template_columns": null,
            "grid_template_rows": null,
            "height": null,
            "justify_content": null,
            "justify_items": null,
            "left": null,
            "margin": null,
            "max_height": null,
            "max_width": null,
            "min_height": null,
            "min_width": null,
            "object_fit": null,
            "object_position": null,
            "order": null,
            "overflow": null,
            "overflow_x": null,
            "overflow_y": null,
            "padding": null,
            "right": null,
            "top": null,
            "visibility": null,
            "width": null
          }
        },
        "8c9204db4ae24af7a9cbb701c3c1a7fc": {
          "model_module": "@jupyter-widgets/controls",
          "model_name": "ProgressStyleModel",
          "model_module_version": "1.5.0",
          "state": {
            "_model_module": "@jupyter-widgets/controls",
            "_model_module_version": "1.5.0",
            "_model_name": "ProgressStyleModel",
            "_view_count": null,
            "_view_module": "@jupyter-widgets/base",
            "_view_module_version": "1.2.0",
            "_view_name": "StyleView",
            "bar_color": null,
            "description_width": ""
          }
        },
        "81b4c9d3c29a403a952fca27a1c2c17f": {
          "model_module": "@jupyter-widgets/base",
          "model_name": "LayoutModel",
          "model_module_version": "1.2.0",
          "state": {
            "_model_module": "@jupyter-widgets/base",
            "_model_module_version": "1.2.0",
            "_model_name": "LayoutModel",
            "_view_count": null,
            "_view_module": "@jupyter-widgets/base",
            "_view_module_version": "1.2.0",
            "_view_name": "LayoutView",
            "align_content": null,
            "align_items": null,
            "align_self": null,
            "border": null,
            "bottom": null,
            "display": null,
            "flex": null,
            "flex_flow": null,
            "grid_area": null,
            "grid_auto_columns": null,
            "grid_auto_flow": null,
            "grid_auto_rows": null,
            "grid_column": null,
            "grid_gap": null,
            "grid_row": null,
            "grid_template_areas": null,
            "grid_template_columns": null,
            "grid_template_rows": null,
            "height": null,
            "justify_content": null,
            "justify_items": null,
            "left": null,
            "margin": null,
            "max_height": null,
            "max_width": null,
            "min_height": null,
            "min_width": null,
            "object_fit": null,
            "object_position": null,
            "order": null,
            "overflow": null,
            "overflow_x": null,
            "overflow_y": null,
            "padding": null,
            "right": null,
            "top": null,
            "visibility": null,
            "width": null
          }
        },
        "38dfec8ed20549f394d0e2dfe32cc679": {
          "model_module": "@jupyter-widgets/controls",
          "model_name": "DescriptionStyleModel",
          "model_module_version": "1.5.0",
          "state": {
            "_model_module": "@jupyter-widgets/controls",
            "_model_module_version": "1.5.0",
            "_model_name": "DescriptionStyleModel",
            "_view_count": null,
            "_view_module": "@jupyter-widgets/base",
            "_view_module_version": "1.2.0",
            "_view_name": "StyleView",
            "description_width": ""
          }
        },
        "bed2b6c8f3b34b6ba2e9f735382f2c37": {
          "model_module": "@jupyter-widgets/controls",
          "model_name": "HBoxModel",
          "model_module_version": "1.5.0",
          "state": {
            "_dom_classes": [],
            "_model_module": "@jupyter-widgets/controls",
            "_model_module_version": "1.5.0",
            "_model_name": "HBoxModel",
            "_view_count": null,
            "_view_module": "@jupyter-widgets/controls",
            "_view_module_version": "1.5.0",
            "_view_name": "HBoxView",
            "box_style": "",
            "children": [
              "IPY_MODEL_fb5557e6c4b84924937ebeb8fe0ea03d",
              "IPY_MODEL_7f84a3535e57440581ecc33e5011800b",
              "IPY_MODEL_15d291dd2c834adb896ef0bad8089f91"
            ],
            "layout": "IPY_MODEL_553f84ddb8c046e79f0d25af3ea7ce00"
          }
        },
        "fb5557e6c4b84924937ebeb8fe0ea03d": {
          "model_module": "@jupyter-widgets/controls",
          "model_name": "HTMLModel",
          "model_module_version": "1.5.0",
          "state": {
            "_dom_classes": [],
            "_model_module": "@jupyter-widgets/controls",
            "_model_module_version": "1.5.0",
            "_model_name": "HTMLModel",
            "_view_count": null,
            "_view_module": "@jupyter-widgets/controls",
            "_view_module_version": "1.5.0",
            "_view_name": "HTMLView",
            "description": "",
            "description_tooltip": null,
            "layout": "IPY_MODEL_a00d59e1294a4d19bbbc1591a784e7bb",
            "placeholder": "​",
            "style": "IPY_MODEL_d459febb28eb4177805af9b8a730c3ba",
            "value": "pytorch_model.bin: 100%"
          }
        },
        "7f84a3535e57440581ecc33e5011800b": {
          "model_module": "@jupyter-widgets/controls",
          "model_name": "FloatProgressModel",
          "model_module_version": "1.5.0",
          "state": {
            "_dom_classes": [],
            "_model_module": "@jupyter-widgets/controls",
            "_model_module_version": "1.5.0",
            "_model_name": "FloatProgressModel",
            "_view_count": null,
            "_view_module": "@jupyter-widgets/controls",
            "_view_module_version": "1.5.0",
            "_view_name": "ProgressView",
            "bar_style": "success",
            "description": "",
            "description_tooltip": null,
            "layout": "IPY_MODEL_a5dbdef4bced4945886ba625b3fce054",
            "max": 204267588,
            "min": 0,
            "orientation": "horizontal",
            "style": "IPY_MODEL_05583b700b38467d9a0d5e5b3f23acd7",
            "value": 204267588
          }
        },
        "15d291dd2c834adb896ef0bad8089f91": {
          "model_module": "@jupyter-widgets/controls",
          "model_name": "HTMLModel",
          "model_module_version": "1.5.0",
          "state": {
            "_dom_classes": [],
            "_model_module": "@jupyter-widgets/controls",
            "_model_module_version": "1.5.0",
            "_model_name": "HTMLModel",
            "_view_count": null,
            "_view_module": "@jupyter-widgets/controls",
            "_view_module_version": "1.5.0",
            "_view_name": "HTMLView",
            "description": "",
            "description_tooltip": null,
            "layout": "IPY_MODEL_5f73e03d78b4410590dbaa4ae1061163",
            "placeholder": "​",
            "style": "IPY_MODEL_361c317e4fed40f3aebff423e137c687",
            "value": " 204M/204M [00:01&lt;00:00, 141MB/s]"
          }
        },
        "553f84ddb8c046e79f0d25af3ea7ce00": {
          "model_module": "@jupyter-widgets/base",
          "model_name": "LayoutModel",
          "model_module_version": "1.2.0",
          "state": {
            "_model_module": "@jupyter-widgets/base",
            "_model_module_version": "1.2.0",
            "_model_name": "LayoutModel",
            "_view_count": null,
            "_view_module": "@jupyter-widgets/base",
            "_view_module_version": "1.2.0",
            "_view_name": "LayoutView",
            "align_content": null,
            "align_items": null,
            "align_self": null,
            "border": null,
            "bottom": null,
            "display": null,
            "flex": null,
            "flex_flow": null,
            "grid_area": null,
            "grid_auto_columns": null,
            "grid_auto_flow": null,
            "grid_auto_rows": null,
            "grid_column": null,
            "grid_gap": null,
            "grid_row": null,
            "grid_template_areas": null,
            "grid_template_columns": null,
            "grid_template_rows": null,
            "height": null,
            "justify_content": null,
            "justify_items": null,
            "left": null,
            "margin": null,
            "max_height": null,
            "max_width": null,
            "min_height": null,
            "min_width": null,
            "object_fit": null,
            "object_position": null,
            "order": null,
            "overflow": null,
            "overflow_x": null,
            "overflow_y": null,
            "padding": null,
            "right": null,
            "top": null,
            "visibility": null,
            "width": null
          }
        },
        "a00d59e1294a4d19bbbc1591a784e7bb": {
          "model_module": "@jupyter-widgets/base",
          "model_name": "LayoutModel",
          "model_module_version": "1.2.0",
          "state": {
            "_model_module": "@jupyter-widgets/base",
            "_model_module_version": "1.2.0",
            "_model_name": "LayoutModel",
            "_view_count": null,
            "_view_module": "@jupyter-widgets/base",
            "_view_module_version": "1.2.0",
            "_view_name": "LayoutView",
            "align_content": null,
            "align_items": null,
            "align_self": null,
            "border": null,
            "bottom": null,
            "display": null,
            "flex": null,
            "flex_flow": null,
            "grid_area": null,
            "grid_auto_columns": null,
            "grid_auto_flow": null,
            "grid_auto_rows": null,
            "grid_column": null,
            "grid_gap": null,
            "grid_row": null,
            "grid_template_areas": null,
            "grid_template_columns": null,
            "grid_template_rows": null,
            "height": null,
            "justify_content": null,
            "justify_items": null,
            "left": null,
            "margin": null,
            "max_height": null,
            "max_width": null,
            "min_height": null,
            "min_width": null,
            "object_fit": null,
            "object_position": null,
            "order": null,
            "overflow": null,
            "overflow_x": null,
            "overflow_y": null,
            "padding": null,
            "right": null,
            "top": null,
            "visibility": null,
            "width": null
          }
        },
        "d459febb28eb4177805af9b8a730c3ba": {
          "model_module": "@jupyter-widgets/controls",
          "model_name": "DescriptionStyleModel",
          "model_module_version": "1.5.0",
          "state": {
            "_model_module": "@jupyter-widgets/controls",
            "_model_module_version": "1.5.0",
            "_model_name": "DescriptionStyleModel",
            "_view_count": null,
            "_view_module": "@jupyter-widgets/base",
            "_view_module_version": "1.2.0",
            "_view_name": "StyleView",
            "description_width": ""
          }
        },
        "a5dbdef4bced4945886ba625b3fce054": {
          "model_module": "@jupyter-widgets/base",
          "model_name": "LayoutModel",
          "model_module_version": "1.2.0",
          "state": {
            "_model_module": "@jupyter-widgets/base",
            "_model_module_version": "1.2.0",
            "_model_name": "LayoutModel",
            "_view_count": null,
            "_view_module": "@jupyter-widgets/base",
            "_view_module_version": "1.2.0",
            "_view_name": "LayoutView",
            "align_content": null,
            "align_items": null,
            "align_self": null,
            "border": null,
            "bottom": null,
            "display": null,
            "flex": null,
            "flex_flow": null,
            "grid_area": null,
            "grid_auto_columns": null,
            "grid_auto_flow": null,
            "grid_auto_rows": null,
            "grid_column": null,
            "grid_gap": null,
            "grid_row": null,
            "grid_template_areas": null,
            "grid_template_columns": null,
            "grid_template_rows": null,
            "height": null,
            "justify_content": null,
            "justify_items": null,
            "left": null,
            "margin": null,
            "max_height": null,
            "max_width": null,
            "min_height": null,
            "min_width": null,
            "object_fit": null,
            "object_position": null,
            "order": null,
            "overflow": null,
            "overflow_x": null,
            "overflow_y": null,
            "padding": null,
            "right": null,
            "top": null,
            "visibility": null,
            "width": null
          }
        },
        "05583b700b38467d9a0d5e5b3f23acd7": {
          "model_module": "@jupyter-widgets/controls",
          "model_name": "ProgressStyleModel",
          "model_module_version": "1.5.0",
          "state": {
            "_model_module": "@jupyter-widgets/controls",
            "_model_module_version": "1.5.0",
            "_model_name": "ProgressStyleModel",
            "_view_count": null,
            "_view_module": "@jupyter-widgets/base",
            "_view_module_version": "1.2.0",
            "_view_name": "StyleView",
            "bar_color": null,
            "description_width": ""
          }
        },
        "5f73e03d78b4410590dbaa4ae1061163": {
          "model_module": "@jupyter-widgets/base",
          "model_name": "LayoutModel",
          "model_module_version": "1.2.0",
          "state": {
            "_model_module": "@jupyter-widgets/base",
            "_model_module_version": "1.2.0",
            "_model_name": "LayoutModel",
            "_view_count": null,
            "_view_module": "@jupyter-widgets/base",
            "_view_module_version": "1.2.0",
            "_view_name": "LayoutView",
            "align_content": null,
            "align_items": null,
            "align_self": null,
            "border": null,
            "bottom": null,
            "display": null,
            "flex": null,
            "flex_flow": null,
            "grid_area": null,
            "grid_auto_columns": null,
            "grid_auto_flow": null,
            "grid_auto_rows": null,
            "grid_column": null,
            "grid_gap": null,
            "grid_row": null,
            "grid_template_areas": null,
            "grid_template_columns": null,
            "grid_template_rows": null,
            "height": null,
            "justify_content": null,
            "justify_items": null,
            "left": null,
            "margin": null,
            "max_height": null,
            "max_width": null,
            "min_height": null,
            "min_width": null,
            "object_fit": null,
            "object_position": null,
            "order": null,
            "overflow": null,
            "overflow_x": null,
            "overflow_y": null,
            "padding": null,
            "right": null,
            "top": null,
            "visibility": null,
            "width": null
          }
        },
        "361c317e4fed40f3aebff423e137c687": {
          "model_module": "@jupyter-widgets/controls",
          "model_name": "DescriptionStyleModel",
          "model_module_version": "1.5.0",
          "state": {
            "_model_module": "@jupyter-widgets/controls",
            "_model_module_version": "1.5.0",
            "_model_name": "DescriptionStyleModel",
            "_view_count": null,
            "_view_module": "@jupyter-widgets/base",
            "_view_module_version": "1.2.0",
            "_view_name": "StyleView",
            "description_width": ""
          }
        }
      }
    }
  },
  "nbformat": 4,
  "nbformat_minor": 0
}